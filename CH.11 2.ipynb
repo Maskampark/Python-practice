{
 "cells": [
  {
   "cell_type": "markdown",
   "id": "59af46d4",
   "metadata": {},
   "source": [
    "# Chapter 11 Coding Set\n",
    "## Masone T Yang\n",
    "### Programming Exercises\n",
    "### 1. Employee and ProductionWorker Classes\n",
    "Write an Employee class that keeps data attributes for the following pieces of information:\n",
    "• Employee name\n",
    "• Employee number\n",
    "Next, write a class named ProductionWorker that is a subclass of the Employee class.\n",
    "The ProductionWorker class should keep data attributes for the following information:\n",
    "• Shift number (an integer, such as 1, 2, or 3)\n",
    "• Hourly pay rate\n",
    "The workday is divided into two shifts: day and night. The shift attribute will hold an\n",
    "integer value representing the shift that the employee works. The day shift is shift 1 and the\n",
    "night shift is shift 2. Write the appropriate accessor and mutator methods for each class.\n",
    "Once you have written the classes, write a program that creates an object of the\n",
    "ProductionWorker class and prompts the user to enter data for each of the object’s data\n",
    "attributes. Store the data in the object, then use the object’s accessor methods to retrieve it\n",
    "and display it on the screen."
   ]
  },
  {
   "cell_type": "code",
   "execution_count": 3,
   "id": "7b44fcc6",
   "metadata": {},
   "outputs": [
    {
     "name": "stdout",
     "output_type": "stream",
     "text": [
      "Enter employee name: Masone\n",
      "Enter employee number: 1\n",
      "Enter shift number 1 for day, 2 for night: 2\n",
      "Enter hourly pay rate: 11.50\n",
      "\n",
      "Employee Information:\n",
      "Name: Masone\n",
      "Employee Number: 1\n",
      "Shift: Night\n",
      "Hourly Pay Rate: $ 11.5\n"
     ]
    }
   ],
   "source": [
    "class Employee:\n",
    "    def __init__(self, name, emp_number):  # Constructor method for the Employee class\n",
    "        self.name = name  # Assign the name parameter to the name attribute of the object\n",
    "        self.emp_number = emp_number  # Assign the emp_number parameter to the emp_number attribute of the object\n",
    "        \n",
    "    def get_name(self):  # Method to retrieve the name attribute of the object\n",
    "        return self.name\n",
    "    \n",
    "    def get_emp_number(self):  # Method to retrieve the emp_number attribute of the object\n",
    "        return self.emp_number\n",
    "    \n",
    "    def set_emp_number(self, emp_number):  # Method to set the emp_number attribute of the object\n",
    "        self.emp_number = emp_number\n",
    "\n",
    "\n",
    "class ProductionWorker(Employee):  # Subclass ProductionWorker inheriting from Employee\n",
    "    def __init__(self, name, emp_number, shift_number, hourly_pay_rate):  # Constructor method for ProductionWorker\n",
    "        super().__init__(name, emp_number)  # Call the constructor of the parent class Employee\n",
    "        self.shift_number = shift_number  # Assign the shift_number parameter to the shift_number attribute\n",
    "        self.hourly_pay_rate = hourly_pay_rate  # Assign the hourly_pay_rate parameter to the hourly_pay_rate attribute\n",
    "        \n",
    "    def get_shift_number(self):  # Method to retrieve the shift_number attribute of the object\n",
    "        return self.shift_number\n",
    "    \n",
    "    def get_hourly_pay_rate(self):  # Method to retrieve the hourly_pay_rate attribute of the object\n",
    "        return self.hourly_pay_rate\n",
    "    \n",
    "    def set_hourly_pay_rate(self, hourly_pay_rate):  # Method to set the hourly_pay_rate attribute of the object\n",
    "        self.hourly_pay_rate = hourly_pay_rate\n",
    "        \n",
    "def main():\n",
    "    \n",
    "    name = input(\"Enter employee name: \")  # Prompt the user to enter employee name\n",
    "    emp_number = input(\"Enter employee number: \")  # Prompt the user to enter employee number\n",
    "    shift_number = int(input(\"Enter shift number 1 for day, 2 for night: \"))  # Prompt the user to enter shift number\n",
    "    hourly_pay_rate = float(input(\"Enter hourly pay rate: \"))  # Prompt the user to enter hourly pay rate\n",
    "    \n",
    "    worker = ProductionWorker(name, emp_number, shift_number, hourly_pay_rate)  # Create a ProductionWorker object\n",
    "    \n",
    "    print(\"\\nEmployee Information:\")  # Print a header for employee information\n",
    "    print(\"Name:\", worker.get_name())  # Print the employee name\n",
    "    print(\"Employee Number:\", worker.get_emp_number())  # Print the employee number\n",
    "    if worker.get_shift_number() == 1:  # Check if the shift number is 1 (day shift)\n",
    "        print(\"Shift: Day\")  # Print that it's a day shift\n",
    "    elif worker.get_shift_number() == 2:  # Check if the shift number is 2 (night shift)\n",
    "        print(\"Shift: Night\")  # Print that it's a night shift\n",
    "    print(\"Hourly Pay Rate: $\", worker.get_hourly_pay_rate())  # Print the hourly pay rate\n",
    "    \n",
    "if __name__ == \"__main__\":  # Check if the script is being run directly\n",
    "    main()  # Call the main function\n"
   ]
  },
  {
   "cell_type": "code",
   "execution_count": null,
   "id": "105a5b90",
   "metadata": {},
   "outputs": [],
   "source": []
  }
 ],
 "metadata": {
  "kernelspec": {
   "display_name": "Python 3 (ipykernel)",
   "language": "python",
   "name": "python3"
  },
  "language_info": {
   "codemirror_mode": {
    "name": "ipython",
    "version": 3
   },
   "file_extension": ".py",
   "mimetype": "text/x-python",
   "name": "python",
   "nbconvert_exporter": "python",
   "pygments_lexer": "ipython3",
   "version": "3.11.5"
  }
 },
 "nbformat": 4,
 "nbformat_minor": 5
}
