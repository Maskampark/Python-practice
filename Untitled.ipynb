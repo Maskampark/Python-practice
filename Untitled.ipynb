{
 "cells": [
  {
   "cell_type": "markdown",
   "id": "42e50d58",
   "metadata": {},
   "source": [
    "# Chapter 1 Ex."
   ]
  },
  {
   "cell_type": "markdown",
   "id": "d4c12a66",
   "metadata": {},
   "source": [
    "## Problems 1, 3, 4"
   ]
  },
  {
   "cell_type": "markdown",
   "id": "910f3538",
   "metadata": {},
   "source": [
    "# Ex 1"
   ]
  },
  {
   "cell_type": "code",
   "execution_count": 1,
   "id": "d2b55615",
   "metadata": {},
   "outputs": [
    {
     "name": "stdout",
     "output_type": "stream",
     "text": [
      "This is a test of the Python interpreter.\n"
     ]
    }
   ],
   "source": [
    "print('This is a test of the Python interpreter.') "
   ]
  },
  {
   "cell_type": "code",
   "execution_count": null,
   "id": "8c2e355d",
   "metadata": {},
   "outputs": [],
   "source": []
  }
 ],
 "metadata": {
  "kernelspec": {
   "display_name": "Python 3 (ipykernel)",
   "language": "python",
   "name": "python3"
  },
  "language_info": {
   "codemirror_mode": {
    "name": "ipython",
    "version": 3
   },
   "file_extension": ".py",
   "mimetype": "text/x-python",
   "name": "python",
   "nbconvert_exporter": "python",
   "pygments_lexer": "ipython3",
   "version": "3.11.5"
  }
 },
 "nbformat": 4,
 "nbformat_minor": 5
}
