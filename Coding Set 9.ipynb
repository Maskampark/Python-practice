{
 "cells": [
  {
   "cell_type": "markdown",
   "id": "bcb0389c",
   "metadata": {},
   "source": [
    "# Ch 9 Coding Set\n",
    "\n",
    "## Masone Yang\n",
    "\n",
    "## Programming Exercise\n",
    "\n"
   ]
  },
  {
   "cell_type": "markdown",
   "id": "7993502f",
   "metadata": {},
   "source": [
    "### 2. Capital Quiz\n",
    "Write a program that creates a dictionary containing the U.S. states as keys, and their capitals as values. (Use the Internet to get a list of the states and their capitals.) The program\n",
    "should then randomly quiz the user by displaying the name of a state and asking the user\n",
    "to enter that state’s capital. The program should keep a count of the number of correct and\n",
    "incorrect responses. (As an alternative to the U.S. states, the program can use the names of\n",
    "countries and their capitals.)"
   ]
  },
  {
   "cell_type": "code",
   "execution_count": null,
   "id": "903b2609",
   "metadata": {},
   "outputs": [],
   "source": [
    "import random\n",
    "\n",
    "def create_sate_capital_dictionary():\n",
    "    #Dictionary containing all of the states and their capitals in the United States.\n",
    "    state_capitals = {\n",
    "        \"Alabama\": \"Mongomery\",\n",
    "        \"Alaska\" : \"Juneau\",\n",
    "        \"Arizona\": \"Phoenix\"\n",
    "        \"Arkansas\": \"Little Rock\"}\n",
    "    I am going to put all of the info in and cut back."
   ]
  }
 ],
 "metadata": {
  "kernelspec": {
   "display_name": "Python 3 (ipykernel)",
   "language": "python",
   "name": "python3"
  },
  "language_info": {
   "codemirror_mode": {
    "name": "ipython",
    "version": 3
   },
   "file_extension": ".py",
   "mimetype": "text/x-python",
   "name": "python",
   "nbconvert_exporter": "python",
   "pygments_lexer": "ipython3",
   "version": "3.11.5"
  }
 },
 "nbformat": 4,
 "nbformat_minor": 5
}
