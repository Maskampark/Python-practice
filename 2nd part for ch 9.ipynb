{
 "cells": [
  {
   "cell_type": "code",
   "execution_count": 1,
   "id": "bd3dc829",
   "metadata": {},
   "outputs": [
    {
     "ename": "SyntaxError",
     "evalue": "unterminated string literal (detected at line 23) (2536940963.py, line 23)",
     "output_type": "error",
     "traceback": [
      "\u001b[1;36m  Cell \u001b[1;32mIn[1], line 23\u001b[1;36m\u001b[0m\n\u001b[1;33m    |   |   |-- Check if the user's input matches the correct capital\u001b[0m\n\u001b[1;37m                                 ^\u001b[0m\n\u001b[1;31mSyntaxError\u001b[0m\u001b[1;31m:\u001b[0m unterminated string literal (detected at line 23)\n"
     ]
    }
   ],
   "source": [
    "    Main\n",
    "|\n",
    "|-- create_state_capital_dictionary()\n",
    "|   |\n",
    "|   |-- Dictionary containing U.S. states as keys and their capitals as values\n",
    "|\n",
    "|-- quiz_user(state_capitals)\n",
    "|   |\n",
    "|   |-- correct_answers = 0\n",
    "|   |\n",
    "|   |-- incorrect_answers = 0\n",
    "|   |\n",
    "|   |-- states = list(state_capitals.keys())\n",
    "|   |\n",
    "|   |-- Randomly shuffle the list of states\n",
    "|   |\n",
    "|   |-- Iterate through each state in the shuffled list\n",
    "|   |   |\n",
    "|   |   |-- Get the capital of the current state\n",
    "|   |   |\n",
    "|   |   |-- Ask user for the capital of the current state\n",
    "|   |   |\n",
    "|   |   |-- Check if the user's input matches the correct capital\n",
    "|   |       |\n",
    "|   |       |-- If correct, increment correct_answers\n",
    "|   |       |\n",
    "|   |       |-- If incorrect, increment incorrect_answers\n",
    "|   |\n",
    "|   |-- Print the end of the quiz message\n",
    "|   |\n",
    "|   |-- Print the number of correct answers\n",
    "|   |\n",
    "|   |-- Print the number of incorrect answers"
   ]
  },
  {
   "cell_type": "code",
   "execution_count": null,
   "id": "1c4cb836",
   "metadata": {},
   "outputs": [],
   "source": []
  }
 ],
 "metadata": {
  "kernelspec": {
   "display_name": "Python 3 (ipykernel)",
   "language": "python",
   "name": "python3"
  },
  "language_info": {
   "codemirror_mode": {
    "name": "ipython",
    "version": 3
   },
   "file_extension": ".py",
   "mimetype": "text/x-python",
   "name": "python",
   "nbconvert_exporter": "python",
   "pygments_lexer": "ipython3",
   "version": "3.11.5"
  }
 },
 "nbformat": 4,
 "nbformat_minor": 5
}
