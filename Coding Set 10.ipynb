{
 "cells": [
  {
   "cell_type": "markdown",
   "id": "29ac789f",
   "metadata": {},
   "source": [
    "# Coding Set Chapter 10\n",
    "\n",
    "## Masone T Yang\n",
    "\n",
    "## Programming Exercises"
   ]
  },
  {
   "cell_type": "markdown",
   "id": "96cf7ad5",
   "metadata": {},
   "source": [
    "### 1. Pet Class\n",
    "Write a class named Pet, which should have the following data attributes:\n",
    "• _ _name (for the name of a pet)\n",
    "• _ _animal_type (for the type of animal that a pet is. Example values are ‘Dog’, ‘Cat’,\n",
    "and ‘Bird’)\n",
    "• _ _age (for the pet’s age)\n",
    "The Pet class should have an _ _init_ _ method that creates these attributes. It should also\n",
    "have the following methods:\n",
    "• set_name\n",
    "This method assigns a value to the _ _name field.\n",
    "• set_animal_type\n",
    "This method assigns a value to the _ _animal_type field.\n",
    "• set_age\n",
    "This method assigns a value to the _ _age field.\n",
    "• get_name\n",
    "This method returns the value of the _ _ name field.\n",
    "• get_animal_type\n",
    "This method returns the value of the _ _animal_type field.\n",
    "• get_age\n",
    "This method returns the value of the _ _age field.\n",
    "Once you have written the class, write a program that creates an object of the class and\n",
    "prompts the user to enter the name, type, and age of his or her pet. This data should be\n",
    "VideoNote\n",
    "The Pet class\n",
    "\n",
    "Programming Exercises 579\n",
    "stored as the object’s attributes. Use the object’s accessor methods to retrieve the pet’s\n",
    "name, type, and age and display this data on the screen.\n"
   ]
  },
  {
   "cell_type": "code",
   "execution_count": 2,
   "id": "f7569cf2",
   "metadata": {},
   "outputs": [
    {
     "name": "stdout",
     "output_type": "stream",
     "text": [
      "Enter the name of your pet: Moose\n",
      "Enter the type of your pet (e.g., Dog, Cat, Bird): Dog\n",
      "Enter the age of your pet: 6\n",
      "\n",
      "Pet's Information:\n",
      "Name: Moose\n",
      "Type: Dog\n",
      "Age: 6\n"
     ]
    }
   ],
   "source": [
    "class Pet:\n",
    "    def __init__(self):\n",
    "        self.__name = \"\"\n",
    "        self.__animal_type = \"\"\n",
    "        self.__age = 0\n",
    "\n",
    "    def set_name(self, name):\n",
    "        self.__name = name\n",
    "\n",
    "    def set_animal_type(self, animal_type):\n",
    "        self.__animal_type = animal_type\n",
    "\n",
    "    def set_age(self, age):\n",
    "        self.__age = age\n",
    "\n",
    "    def get_name(self):\n",
    "        return self.__name\n",
    "\n",
    "    def get_animal_type(self):\n",
    "        return self.__animal_type\n",
    "\n",
    "    def get_age(self):\n",
    "        return self.__age\n",
    "\n",
    "# Create an object of the Pet class\n",
    "my_pet = Pet()\n",
    "\n",
    "# Prompt the user to enter pet's information\n",
    "name = input(\"Enter the name of your pet: \")\n",
    "animal_type = input(\"Enter the type of your pet (e.g., Dog, Cat, Bird): \")\n",
    "age = int(input(\"Enter the age of your pet: \"))\n",
    "\n",
    "# Set the pet's information using setter methods\n",
    "my_pet.set_name(name)\n",
    "my_pet.set_animal_type(animal_type)\n",
    "my_pet.set_age(age)\n",
    "\n",
    "# Display the pet's information using getter methods\n",
    "print(\"\\nPet's Information:\")\n",
    "print(\"Name:\", my_pet.get_name())\n",
    "print(\"Type:\", my_pet.get_animal_type())\n",
    "print(\"Age:\", my_pet.get_age())"
   ]
  },
  {
   "cell_type": "markdown",
   "id": "24ae7dd5",
   "metadata": {},
   "source": [
    "### 2. Car Class\n",
    "Write a class named Car that has the following data attributes:\n",
    "• _ _year_model (for the car’s year model)\n",
    "• _ _make (for the make of the car)\n",
    "• _ _speed (for the car’s current speed)\n",
    "The Car class should have an _ _init_ _ method that accepts the car’s year model and\n",
    "make as arguments. These values should be assigned to the object’s _ _year_model and\n",
    "_ _make data attributes. It should also assign 0 to the _ _speed data attribute.\n",
    "The class should also have the following methods:\n",
    "• accelerate\n",
    "The accelerate method should add 5 to the speed data attribute each time it is called.\n",
    "• brake\n",
    "The brake method should subtract 5 from the speed data attribute each time it is called.\n",
    "• get_speed\n",
    "The get_speed method should return the current speed.\n",
    "Next, design a program that creates a Car object then calls the accelerate method five\n",
    "times. After each call to the accelerate method, get the current speed of the car and display it. Then call the brake method five times. After each call to the brake method, get the\n",
    "current speed of the car and display it."
   ]
  },
  {
   "cell_type": "code",
   "execution_count": null,
   "id": "227b93fc",
   "metadata": {},
   "outputs": [],
   "source": []
  }
 ],
 "metadata": {
  "kernelspec": {
   "display_name": "Python 3 (ipykernel)",
   "language": "python",
   "name": "python3"
  },
  "language_info": {
   "codemirror_mode": {
    "name": "ipython",
    "version": 3
   },
   "file_extension": ".py",
   "mimetype": "text/x-python",
   "name": "python",
   "nbconvert_exporter": "python",
   "pygments_lexer": "ipython3",
   "version": "3.11.5"
  }
 },
 "nbformat": 4,
 "nbformat_minor": 5
}
