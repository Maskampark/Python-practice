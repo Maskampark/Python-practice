{
 "cells": [
  {
   "cell_type": "markdown",
   "id": "58ea9137",
   "metadata": {},
   "source": [
    "# Coding Set Chapter 10\n",
    "\n",
    "## Masone T Yang\n",
    "\n",
    "## Programming Exercises"
   ]
  },
  {
   "cell_type": "markdown",
   "id": "10567bef",
   "metadata": {},
   "source": [
    "### 1. Pet Class\n",
    "Write a class named Pet, which should have the following data attributes:\n",
    "• _ _name (for the name of a pet)\n",
    "• _ _animal_type (for the type of animal that a pet is. Example values are ‘Dog’, ‘Cat’,\n",
    "and ‘Bird’)\n",
    "• _ _age (for the pet’s age)\n",
    "The Pet class should have an _ _init_ _ method that creates these attributes. It should also\n",
    "have the following methods:\n",
    "• set_name\n",
    "This method assigns a value to the _ _name field.\n",
    "• set_animal_type\n",
    "This method assigns a value to the _ _animal_type field.\n",
    "• set_age\n",
    "This method assigns a value to the _ _age field.\n",
    "• get_name\n",
    "This method returns the value of the _ _ name field.\n",
    "• get_animal_type\n",
    "This method returns the value of the _ _animal_type field.\n",
    "• get_age\n",
    "This method returns the value of the _ _age field.\n",
    "Once you have written the class, write a program that creates an object of the class and\n",
    "prompts the user to enter the name, type, and age of his or her pet. This data should be\n",
    "VideoNote\n",
    "The Pet class\n",
    "\n",
    "Programming Exercises 579\n",
    "stored as the object’s attributes. Use the object’s accessor methods to retrieve the pet’s\n",
    "name, type, and age and display this data on the screen.\n"
   ]
  },
  {
   "cell_type": "code",
   "execution_count": null,
   "id": "f5f57ba0",
   "metadata": {},
   "outputs": [],
   "source": [
    "class Pet:\n",
    "    def __init__(self):\n",
    "        self.__name = \"\"\n",
    "        self.__animal_type = \"\"\n",
    "        self.__age = 0\n",
    "        \n",
    "    def set_name(self, name):\n",
    "        self.__name = name\n",
    "        \n",
    "    def set_animal_type(self, animal_type):\n",
    "        self.__animal_type = animal_type\n",
    "        \n",
    "    def set_age(self, age):\n",
    "        self.age = age\n",
    "    \n",
    "    def get_name(self):\n",
    "        return self.__animal_type\n",
    "    \n",
    "    def get_age(self):\n",
    "        return self.__age\n",
    "    \n",
    "my_pet = Pet()\n",
    "\n",
    "name = input(\"enter the name of your pet: \")\n",
    "animal_type = input(\"enter the type of your pet (e.g., Dog, Cat, Bird): \")\n",
    "age = int(input(\"Enter the age of the pet: \"))\n",
    "\n",
    "my_pet.set_name(name)\n",
    "my_pet.set_animal_type(animal_type)\n",
    "my_pet.set_age(age)\n"
   ]
  }
 ],
 "metadata": {
  "kernelspec": {
   "display_name": "Python 3 (ipykernel)",
   "language": "python",
   "name": "python3"
  },
  "language_info": {
   "codemirror_mode": {
    "name": "ipython",
    "version": 3
   },
   "file_extension": ".py",
   "mimetype": "text/x-python",
   "name": "python",
   "nbconvert_exporter": "python",
   "pygments_lexer": "ipython3",
   "version": "3.11.5"
  }
 },
 "nbformat": 4,
 "nbformat_minor": 5
}
