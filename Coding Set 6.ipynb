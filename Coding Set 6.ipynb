{
 "cells": [
  {
   "cell_type": "markdown",
   "id": "043072e1",
   "metadata": {},
   "source": [
    "# Ch 6 Coding Set\n",
    "## Masone Yang\n",
    "## Algorithm Workbench\n",
    "\n",
    "# 1.\n",
    "Write a program that opens an output file with the filename my_name.txt, writes your name to the file, then closes the file."
   ]
  },
  {
   "cell_type": "code",
   "execution_count": 6,
   "id": "88621326",
   "metadata": {},
   "outputs": [],
   "source": [
    "def main():\n",
    "    # Open the file within write mode\n",
    "    with open(\"my_name.txt\", \"w\") as file:\n",
    "        # This is where you put your name into the file \n",
    "        file.write(\"Masone\")\n",
    "\n",
    "if __name__ == \"__main__\":\n",
    "    main()"
   ]
  },
  {
   "cell_type": "markdown",
   "id": "c0a2cfed",
   "metadata": {},
   "source": [
    "## 2. \n",
    "Write a program that opens the my_name.txt file that was created by the program\n",
    "in problem 1, reads your name from the file, displays the name on the screen, then\n",
    "closes the file."
   ]
  },
  {
   "cell_type": "code",
   "execution_count": 7,
   "id": "66935cd1",
   "metadata": {},
   "outputs": [
    {
     "name": "stdout",
     "output_type": "stream",
     "text": [
      "Name read from the file: Masone\n"
     ]
    }
   ],
   "source": [
    "def main():\n",
    "    # Open file in read mode\n",
    "    with open(\"my_name.txt\", \"r\") as file:\n",
    "        # Read content of file\n",
    "        name = file.read()\n",
    "        # Display the name on the screen\n",
    "        print(\"Name read from the file:\", name)\n",
    "    \n",
    "if __name__ == \"__main__\":\n",
    "    main()"
   ]
  },
  {
   "cell_type": "markdown",
   "id": "b60f617d",
   "metadata": {},
   "source": [
    "## Programming Exercises\n"
   ]
  },
  {
   "cell_type": "markdown",
   "id": "b616c33a",
   "metadata": {},
   "source": [
    "### 1. File Display\n",
    "Assume a file containing a series of integers is named numbers.txt and exists on the computer’s disk. Write a program that displays all of the numbers in the file."
   ]
  },
  {
   "cell_type": "code",
   "execution_count": 13,
   "id": "fabc9de2",
   "metadata": {},
   "outputs": [
    {
     "ename": "NameError",
     "evalue": "name '__number__' is not defined",
     "output_type": "error",
     "traceback": [
      "\u001b[1;31m---------------------------------------------------------------------------\u001b[0m",
      "\u001b[1;31mNameError\u001b[0m                                 Traceback (most recent call last)",
      "Cell \u001b[1;32mIn[13], line 9\u001b[0m\n\u001b[0;32m      5\u001b[0m     \u001b[38;5;28;01mwith\u001b[39;00m \u001b[38;5;28mopen\u001b[39m(\u001b[38;5;124m\"\u001b[39m\u001b[38;5;124mnumbers.txt\u001b[39m\u001b[38;5;124m\"\u001b[39m, \u001b[38;5;124m\"\u001b[39m\u001b[38;5;124mw\u001b[39m\u001b[38;5;124m\"\u001b[39m) \u001b[38;5;28;01mas\u001b[39;00m file:\n\u001b[0;32m      6\u001b[0m         \u001b[38;5;66;03m# This is where you put your numbers into the file \u001b[39;00m\n\u001b[0;32m      7\u001b[0m         file\u001b[38;5;241m.\u001b[39mwrite(\u001b[38;5;124m\"\u001b[39m\u001b[38;5;124m7\u001b[39m\u001b[38;5;130;01m\\n\u001b[39;00m\u001b[38;5;124m9\u001b[39m\u001b[38;5;130;01m\\n\u001b[39;00m\u001b[38;5;124m8\u001b[39m\u001b[38;5;130;01m\\n\u001b[39;00m\u001b[38;5;124m10\u001b[39m\u001b[38;5;124m\"\u001b[39m)\n\u001b[1;32m----> 9\u001b[0m \u001b[38;5;28;01mif\u001b[39;00m __number__ \u001b[38;5;241m==\u001b[39m \u001b[38;5;124m\"\u001b[39m\u001b[38;5;124m__main__\u001b[39m\u001b[38;5;124m\"\u001b[39m:\n\u001b[0;32m     10\u001b[0m     main()\n\u001b[0;32m     13\u001b[0m \u001b[38;5;28;01mdef\u001b[39;00m \u001b[38;5;21mmain\u001b[39m():\n",
      "\u001b[1;31mNameError\u001b[0m: name '__number__' is not defined"
     ]
    }
   ],
   "source": [
    "#I wrote this code first without creating the numbers.txt and it took me a minute to figure out why my code kept getting errors. \n",
    "#I then realized that I could just use the code from the first question of the Algorithm workbench. \n",
    "def main():\n",
    "    # Open the file within write mode\n",
    "    with open(\"numbers.txt\", \"w\") as file:\n",
    "        # This is where you put your numbers into the file \n",
    "        file.write(\"7\\n9\\n8\\n10\")\n",
    "\n",
    "if __number__ == \"__main__\":\n",
    "    main()\n",
    "\n",
    "\n",
    "def main():\n",
    "    try:\n",
    "        # Open the file in read mode\n",
    "        with open(\"numbers.txt\", \"r\") as file:\n",
    "            # Read lines from file\n",
    "            lines = file.readlines()\n",
    "            # Iterate through each line\n",
    "            for line in lines:\n",
    "                # Convert the line to an integer and print it\n",
    "                print(int(line.strip()))\n",
    "                \n",
    "    except FileNotFoundError:\n",
    "        print(\"File not found.\")\n",
    "    except ValueError:\n",
    "        print(\"Invalid data in the file. It should contain only integers.\")\n",
    "\n",
    "if __name__ == \"__main__\":\n",
    "    main()"
   ]
  },
  {
   "cell_type": "code",
   "execution_count": null,
   "id": "57ef31cd",
   "metadata": {},
   "outputs": [],
   "source": []
  }
 ],
 "metadata": {
  "kernelspec": {
   "display_name": "Python 3 (ipykernel)",
   "language": "python",
   "name": "python3"
  },
  "language_info": {
   "codemirror_mode": {
    "name": "ipython",
    "version": 3
   },
   "file_extension": ".py",
   "mimetype": "text/x-python",
   "name": "python",
   "nbconvert_exporter": "python",
   "pygments_lexer": "ipython3",
   "version": "3.11.5"
  }
 },
 "nbformat": 4,
 "nbformat_minor": 5
}
