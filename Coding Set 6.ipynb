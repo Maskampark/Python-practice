{
 "cells": [
  {
   "cell_type": "markdown",
   "id": "733e071d",
   "metadata": {},
   "source": [
    "# Ch 6 Coding Set\n",
    "## Masone Yang\n",
    "## Algorithm Workbench\n",
    "\n",
    "# 1.\n",
    "Write a program that opens an output file with the filename my_name.txt, writes your name to the file, then closes the file."
   ]
  },
  {
   "cell_type": "code",
   "execution_count": 6,
   "id": "c9dc1544",
   "metadata": {},
   "outputs": [],
   "source": [
    "#First I started the code with def main(): to start the program.\n",
    "#Then I created the with open(\"my_name.txt\", \"w\") to open a file in write mode.\n",
    "#Next I used file.write to create a string for my name. \n",
    "#Finally I included if __name__ == \"__main__\": to see if if the file was being imported or if it was being run directly. \n",
    "   \n",
    "\n",
    "def main():\n",
    "    # Open the file within write mode\n",
    "    with open(\"my_name.txt\", \"w\") as file:\n",
    "        # This is where you put your name into the file \n",
    "        file.write(\"Masone\")\n",
    "#This checks if the file is being imported or if it is being run directly. \n",
    "if __name__ == \"__main__\":\n",
    "    main()"
   ]
  },
  {
   "cell_type": "markdown",
   "id": "f92d7a46",
   "metadata": {},
   "source": [
    "## 2. \n",
    "Write a program that opens the my_name.txt file that was created by the program\n",
    "in problem 1, reads your name from the file, displays the name on the screen, then\n",
    "closes the file."
   ]
  },
  {
   "cell_type": "code",
   "execution_count": 7,
   "id": "28e3462f",
   "metadata": {},
   "outputs": [
    {
     "name": "stdout",
     "output_type": "stream",
     "text": [
      "Name read from the file: Masone\n"
     ]
    }
   ],
   "source": [
    "#First I started with def main() to start the program.\n",
    "#Then I used the with open(\"my_name.txt\", \"r\") once again to open the file called my_name.txt\n",
    "#Next, I used print to display my name\n",
    "#Finally I included if __name__ == \"__main__\": to see if if the file was being imported or if it was being run directly. \n",
    "\n",
    "def main():\n",
    "    # Open file in read mode\n",
    "    with open(\"my_name.txt\", \"r\") as file:\n",
    "        # Read content of file\n",
    "        name = file.read()\n",
    "        # Display the name on the screen\n",
    "        print(\"Name read from the file:\", name)\n",
    " #This checks if the file is being imported or if it is being run directly.   \n",
    "if __name__ == \"__main__\":\n",
    "    main()"
   ]
  },
  {
   "cell_type": "markdown",
   "id": "2eb405d7",
   "metadata": {},
   "source": [
    "## Programming Exercises\n"
   ]
  },
  {
   "cell_type": "markdown",
   "id": "27f502b6",
   "metadata": {},
   "source": [
    "### 1. File Display\n",
    "Assume a file containing a series of integers is named numbers.txt and exists on the computer’s disk. Write a program that displays all of the numbers in the file."
   ]
  },
  {
   "cell_type": "code",
   "execution_count": 14,
   "id": "5fa33273",
   "metadata": {},
   "outputs": [
    {
     "name": "stdout",
     "output_type": "stream",
     "text": [
      "7\n",
      "9\n",
      "8\n",
      "10\n"
     ]
    }
   ],
   "source": [
    "#I wrote this code first without creating the numbers.txt and it took me a minute to figure out why my code kept getting errors. \n",
    "#I then realized that I could just use the code from the first question of the Algorithm workbench. \n",
    "#First I started the code with def main(): to start the program.\n",
    "#Then I created the open(\"numbers.txt\", \"w\") to open a file in write mode.\n",
    "#Next I used file.write to create my string of numbers into the file.\n",
    "#Finally the rest of the code was written to open the numbers file, find the numbers, pring the numbers on the screen\n",
    "#and display a error if one occured.\n",
    "def main():\n",
    "    # Open the file within write mode\n",
    "    with open(\"numbers.txt\", \"w\") as file:\n",
    "        # This is where you put your numbers into the file \n",
    "        file.write(\"7\\n9\\n8\\n10\")\n",
    "#This code block ensures that the main() function is executed only if the script is run directly as the main program\n",
    "if __name__ == \"__main__\":\n",
    "    main()\n",
    "\n",
    "\n",
    "def main():\n",
    "    try:\n",
    "        # Open the file in read mode\n",
    "        with open(\"numbers.txt\", \"r\") as file:\n",
    "            # Read lines from file\n",
    "            lines = file.readlines()\n",
    "            # Iterate through each line\n",
    "            for line in lines:\n",
    "                # Converts the line to an integer and prints it\n",
    "                print(int(line.strip()))\n",
    "     #Code used to print a error            \n",
    "    except FileNotFoundError:\n",
    "        print(\"File not found.\")\n",
    "    except ValueError:\n",
    "        print(\"Invalid data in the file. It should contain only integers.\")\n",
    "\n",
    "if __name__ == \"__main__\":\n",
    "    main()"
   ]
  },
  {
   "cell_type": "markdown",
   "id": "9458af03",
   "metadata": {},
   "source": [
    "### 6. Average of Numbers\n",
    "Assume a file containing a series of integers is named numbers.txt and exists on the\n",
    "computer’s disk. Write a program that calculates the average of all the numbers stored in\n",
    "the file."
   ]
  },
  {
   "cell_type": "code",
   "execution_count": 21,
   "id": "a04bc149",
   "metadata": {},
   "outputs": [
    {
     "name": "stdout",
     "output_type": "stream",
     "text": [
      "Average of numbers in the file: 8.5\n"
     ]
    }
   ],
   "source": [
    "#First def main() is used to start the program. \n",
    "#Then try-except block is used to handle potential exceptions that may occur.\n",
    "#Next I used the with open again to open files in read mode. \n",
    "#The total sum and count is used to calculate the average.\n",
    "#The rest of the code was used to make sure that the average was printed, and that if there was an error it would be displayed. \n",
    "\n",
    "def main():\n",
    "    try:\n",
    "        # Open the file in read mode\n",
    "        with open(\"numbers.txt\", \"r\") as file:\n",
    "            # Read lines from  file\n",
    "            lines = file.readlines()\n",
    "\n",
    "            # Initialize variables for sum and count\n",
    "            total_sum = 34  # Initializing total_sum with 34\n",
    "            count = 4  # Initializing count with 4\n",
    "\n",
    "            # Iterate through each line\n",
    "            for line in lines:\n",
    "                # Convert line to integer and update sum/count\n",
    "                total_sum += int(line.strip())\n",
    "                count += 1\n",
    "                \n",
    " # Calculate the average\n",
    "            if count > 0:\n",
    "                average = total_sum / count\n",
    "                print(\"Average of numbers in the file:\", average)\n",
    "            else:\n",
    "                print(\"The file is empty.\")\n",
    "                \n",
    "#Displays error if there is one and prints it out on the screen\n",
    "    except FileNotFoundError:\n",
    "        print(\"File not found.\")\n",
    "    except ValueError:\n",
    "        print(\"Invalid data in the file. It should contain only integers.\")\n",
    "\n",
    "if __name__ == \"__main__\":\n",
    "    main()"
   ]
  },
  {
   "cell_type": "markdown",
   "id": "562e0b00",
   "metadata": {},
   "source": [
    "### 9. Exception Handing\n",
    "Modify the program that you wrote for Exercise 6 so it handles the following exceptions:\n",
    "• It should handle any IOError exceptions that are raised when the file is opened and data\n",
    "is read from it.\n",
    "• It should handle any ValueError exceptions that are raised when the items that are read\n",
    "from the file are converted to a number."
   ]
  },
  {
   "cell_type": "code",
   "execution_count": 24,
   "id": "889d9c29",
   "metadata": {},
   "outputs": [
    {
     "name": "stdout",
     "output_type": "stream",
     "text": [
      "Average of numbers in the file: 8.5\n"
     ]
    }
   ],
   "source": [
    "#First I copied exercise 6 into the cell so I could edit it. \n",
    "#Next I created except files that could handle any of the IOError or ValueError's. \n",
    "#Finally I used the if __name__ == \"__main__\": to see if the file was being imported or being ran directly. \n",
    "\n",
    "\n",
    "def main():\n",
    "    try:\n",
    "        # Open the file in read mode\n",
    "        with open(\"numbers.txt\", \"r\") as file:\n",
    "            # Read lines from the file\n",
    "            lines = file.readlines()\n",
    "\n",
    "            # Initialize variables for sum and count\n",
    "            total_sum = 34\n",
    "            count = 4\n",
    "\n",
    "            # Iterate through each line\n",
    "            for line in lines:\n",
    "                # Convert the line to an integer and update sum and count\n",
    "                try:\n",
    "                    total_sum += int(line.strip())\n",
    "                    count += 1\n",
    "                except ValueError:\n",
    "                    # Handle ValueError if conversion fails\n",
    "                    print(\"Invalid data found in the file. It should contain only integers.\")\n",
    "\n",
    "  # Calculate the average\n",
    "            if count > 0:\n",
    "                average = total_sum / count\n",
    "                print(\"Average of numbers in the file:\", average)\n",
    "            else:\n",
    "                print(\"The file is empty.\")\n",
    "    except FileNotFoundError:\n",
    "        # Handle FileNotFoundError if the file is not found\n",
    "        print(\"File not found.\")\n",
    "    except IOError:\n",
    "        # Handle IOError if there's an issue with file I/O\n",
    "        print(\"An error occurred while reading the file.\")\n",
    "##This checks if the file is being imported or if it is being run directly.\n",
    "if __name__ == \"__main__\":\n",
    "    main()"
   ]
  },
  {
   "cell_type": "markdown",
   "id": "cb94fd35",
   "metadata": {},
   "source": [
    "### 10. Golf Scores\n",
    "The Springfork Amateur Golf Club has a tournament every weekend. The club president\n",
    "has asked you to write two programs:\n",
    "1. A program that will read each player’s name and golf score as keyboard input, then\n",
    "save these as records in a file named golf.txt. (Each record will have a field for the\n",
    "player’s name and a field for the player’s score.)\n",
    "2. A program that reads the records from the golf.txt file and displays them."
   ]
  },
  {
   "cell_type": "code",
   "execution_count": 26,
   "id": "67ba81a1",
   "metadata": {},
   "outputs": [
    {
     "name": "stdout",
     "output_type": "stream",
     "text": [
      "Enter player's name (or type 'done' to finish): Masone\n",
      "Enter player's score: 7\n",
      "Enter player's name (or type 'done' to finish): Dan\n",
      "Enter player's score: 12\n",
      "Enter player's name (or type 'done' to finish): Jeff\n",
      "Enter player's score: 37\n",
      "Enter player's name (or type 'done' to finish): Mike\n",
      "Enter player's score: 77\n",
      "Enter player's name (or type 'done' to finish): done\n",
      "Records saved successfully.\n"
     ]
    }
   ],
   "source": [
    "#First the program reads each line from golf.txt, \n",
    "#It then splits it into player name and score then prints it out on a table using  () while True)\n",
    "#If the file is not found or if there's an error during file reading the messages for a error will be displayed.\n",
    "\n",
    "def main():\n",
    "    try:\n",
    "        # Open the file in write mode \n",
    "        with open(\"golf.txt\", \"w\") as file:\n",
    "            # Prompt the user to enter player name and score\n",
    "            while True:\n",
    "                player_name = input(\"Enter player's name (or type 'done' to finish): \")\n",
    "                if player_name.lower() == 'done':\n",
    "                    break\n",
    "                score = input(\"Enter player's score: \")\n",
    "                # Write the record to the file\n",
    "                file.write(f\"{player_name},{score}\\n\")\n",
    "        print(\"Records saved successfully.\")\n",
    "    except IOError:\n",
    "        print(\"An error occurred while writing to the file.\")\n",
    "#^displays error if there is one\n",
    "if __name__ == \"__main__\":\n",
    "    main()"
   ]
  },
  {
   "cell_type": "code",
   "execution_count": 28,
   "id": "a8b38612",
   "metadata": {},
   "outputs": [
    {
     "name": "stdout",
     "output_type": "stream",
     "text": [
      "Player Name\tScore\n",
      "----------------------\n",
      "Masone\t\t7\n",
      "Dan\t\t12\n",
      "Jeff\t\t37\n",
      "Mike\t\t77\n"
     ]
    }
   ],
   "source": [
    "#First with open-opens and reads the files from golf.txt\n",
    "#Then it displays and prints out the records using print\n",
    "#Finally I used except  FileNotFoundError: and the IOError to display errors if there are any. \n",
    "#The final result is a table with\n",
    "\n",
    "def main():\n",
    "    try:\n",
    "        # Open the file in read mode \n",
    "        with open(\"golf.txt\", \"r\") as file:\n",
    "            # Read lines from the file\n",
    "            lines = file.readlines()\n",
    "            # Display the records\n",
    "            print(\"Player Name\\tScore\")\n",
    "            print(\"----------------------\")\n",
    "            for line in lines:\n",
    "                # Split each line into name and score\n",
    "                player_name, score = line.strip().split(\",\")\n",
    "                print(f\"{player_name}\\t\\t{score}\")\n",
    "                \n",
    "    #Prints out an error if there is one\n",
    "    except FileNotFoundError:\n",
    "        print(\"File not found.\")\n",
    "    except IOError:\n",
    "        print(\"An error occurred while reading the file.\")\n",
    "#This checks if the file is being imported or if it is being run directly.\n",
    "if __name__ == \"__main__\":\n",
    "    main()"
   ]
  },
  {
   "cell_type": "code",
   "execution_count": null,
   "id": "3f9dee9e",
   "metadata": {},
   "outputs": [],
   "source": []
  }
 ],
 "metadata": {
  "kernelspec": {
   "display_name": "Python 3 (ipykernel)",
   "language": "python",
   "name": "python3"
  },
  "language_info": {
   "codemirror_mode": {
    "name": "ipython",
    "version": 3
   },
   "file_extension": ".py",
   "mimetype": "text/x-python",
   "name": "python",
   "nbconvert_exporter": "python",
   "pygments_lexer": "ipython3",
   "version": "3.11.5"
  }
 },
 "nbformat": 4,
 "nbformat_minor": 5
}
