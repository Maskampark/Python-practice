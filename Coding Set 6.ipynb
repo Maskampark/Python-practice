{
 "cells": [
  {
   "cell_type": "markdown",
   "id": "83e53bf0",
   "metadata": {},
   "source": [
    "# Ch 6 Coding Set\n",
    "## Masone Yang\n",
    "## Algorithm Workbench\n",
    "\n",
    "# 1.\n",
    "Write a program that opens an output file with the filename my_name.txt, writes your name to the file, then closes the file."
   ]
  },
  {
   "cell_type": "code",
   "execution_count": 6,
   "id": "89a1dc77",
   "metadata": {},
   "outputs": [],
   "source": [
    "def main():\n",
    "    # Open the file within write mode\n",
    "    with open(\"my_name.txt\", \"w\") as file:\n",
    "        # This is where you put your name into the file \n",
    "        file.write(\"Masone\")\n",
    "\n",
    "if __name__ == \"__main__\":\n",
    "    main()"
   ]
  },
  {
   "cell_type": "markdown",
   "id": "90ac2fae",
   "metadata": {},
   "source": [
    "## 2. \n",
    "Write a program that opens the my_name.txt file that was created by the program\n",
    "in problem 1, reads your name from the file, displays the name on the screen, then\n",
    "closes the file."
   ]
  },
  {
   "cell_type": "code",
   "execution_count": 7,
   "id": "8bd8e7f4",
   "metadata": {},
   "outputs": [
    {
     "name": "stdout",
     "output_type": "stream",
     "text": [
      "Name read from the file: Masone\n"
     ]
    }
   ],
   "source": [
    "def main():\n",
    "    # Open file in read mode\n",
    "    with open(\"my_name.txt\", \"r\") as file:\n",
    "        # Read content of file\n",
    "        name = file.read()\n",
    "        # Display the name on the screen\n",
    "        print(\"Name read from the file:\", name)\n",
    "    \n",
    "if __name__ == \"__main__\":\n",
    "    main()"
   ]
  },
  {
   "cell_type": "markdown",
   "id": "8195d577",
   "metadata": {},
   "source": [
    "## Programming Exercises\n"
   ]
  },
  {
   "cell_type": "markdown",
   "id": "a39da41a",
   "metadata": {},
   "source": [
    "### 1. File Display\n",
    "Assume a file containing a series of integers is named numbers.txt and exists on the computer’s disk. Write a program that displays all of the numbers in the file."
   ]
  },
  {
   "cell_type": "code",
   "execution_count": null,
   "id": "05fe39d5",
   "metadata": {},
   "outputs": [],
   "source": []
  }
 ],
 "metadata": {
  "kernelspec": {
   "display_name": "Python 3 (ipykernel)",
   "language": "python",
   "name": "python3"
  },
  "language_info": {
   "codemirror_mode": {
    "name": "ipython",
    "version": 3
   },
   "file_extension": ".py",
   "mimetype": "text/x-python",
   "name": "python",
   "nbconvert_exporter": "python",
   "pygments_lexer": "ipython3",
   "version": "3.11.5"
  }
 },
 "nbformat": 4,
 "nbformat_minor": 5
}
