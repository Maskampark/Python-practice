{
 "cells": [
  {
   "cell_type": "markdown",
   "id": "d39aa9cb",
   "metadata": {},
   "source": [
    "# Ch 6 Coding Set\n",
    "## Masone Yang\n",
    "## Algorithm Workbench\n",
    "\n",
    "# 1.\n",
    "Write a program that opens an output file with the filename my_name.txt, writes your name to the file, then closes the file."
   ]
  },
  {
   "cell_type": "code",
   "execution_count": 6,
   "id": "1a5107a4",
   "metadata": {},
   "outputs": [],
   "source": [
    "def main():\n",
    "    # Open the file in write mode ('w')\n",
    "    with open(\"my_name.txt\", \"w\") as file:\n",
    "        # Write your name to the file\n",
    "        file.write(\"Masone\")\n",
    "\n",
    "if __name__ == \"__main__\":\n",
    "    main()"
   ]
  },
  {
   "cell_type": "markdown",
   "id": "eecdf08a",
   "metadata": {},
   "source": [
    "## 2. "
   ]
  }
 ],
 "metadata": {
  "kernelspec": {
   "display_name": "Python 3 (ipykernel)",
   "language": "python",
   "name": "python3"
  },
  "language_info": {
   "codemirror_mode": {
    "name": "ipython",
    "version": 3
   },
   "file_extension": ".py",
   "mimetype": "text/x-python",
   "name": "python",
   "nbconvert_exporter": "python",
   "pygments_lexer": "ipython3",
   "version": "3.11.5"
  }
 },
 "nbformat": 4,
 "nbformat_minor": 5
}
