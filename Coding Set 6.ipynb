{
 "cells": [
  {
   "cell_type": "markdown",
   "id": "bbaf2518",
   "metadata": {},
   "source": [
    "# Ch 6 Coding Set\n",
    "## Masone Yang\n",
    "## Algorithm Workbench\n",
    "\n",
    "# 1.\n",
    "Write a program that opens an output file with the filename my_name.txt, writes your name to the file, then closes the file."
   ]
  },
  {
   "cell_type": "code",
   "execution_count": 6,
   "id": "21ee8cab",
   "metadata": {},
   "outputs": [],
   "source": [
    "def main():\n",
    "    # Open the file within write mode\n",
    "    with open(\"my_name.txt\", \"w\") as file:\n",
    "        # This is where you put your name into the file \n",
    "        file.write(\"Masone\")\n",
    "\n",
    "if __name__ == \"__main__\":\n",
    "    main()"
   ]
  },
  {
   "cell_type": "markdown",
   "id": "d14404c8",
   "metadata": {},
   "source": [
    "## 2. \n",
    "Write a program that opens the my_name.txt file that was created by the program\n",
    "in problem 1, reads your name from the file, displays the name on the screen, then\n",
    "closes the file."
   ]
  },
  {
   "cell_type": "code",
   "execution_count": 7,
   "id": "ebebbb3d",
   "metadata": {},
   "outputs": [
    {
     "name": "stdout",
     "output_type": "stream",
     "text": [
      "Name read from the file: Masone\n"
     ]
    }
   ],
   "source": [
    "def main():\n",
    "    # Open file in read mode\n",
    "    with open(\"my_name.txt\", \"r\") as file:\n",
    "        # Read content of file\n",
    "        name = file.read()\n",
    "        # Display the name on the screen\n",
    "        print(\"Name read from the file:\", name)\n",
    "    \n",
    "if __name__ == \"__main__\":\n",
    "    main()"
   ]
  },
  {
   "cell_type": "markdown",
   "id": "e57af249",
   "metadata": {},
   "source": [
    "## Programming Exercises\n"
   ]
  },
  {
   "cell_type": "markdown",
   "id": "0a3d3137",
   "metadata": {},
   "source": [
    "### 1. File Display\n",
    "Assume a file containing a series of integers is named numbers.txt and exists on the computer’s disk. Write a program that displays all of the numbers in the file."
   ]
  },
  {
   "cell_type": "code",
   "execution_count": 14,
   "id": "8a76dcb9",
   "metadata": {},
   "outputs": [
    {
     "name": "stdout",
     "output_type": "stream",
     "text": [
      "7\n",
      "9\n",
      "8\n",
      "10\n"
     ]
    }
   ],
   "source": [
    "#I wrote this code first without creating the numbers.txt and it took me a minute to figure out why my code kept getting errors. \n",
    "#I then realized that I could just use the code from the first question of the Algorithm workbench. \n",
    "def main():\n",
    "    # Open the file within write mode\n",
    "    with open(\"numbers.txt\", \"w\") as file:\n",
    "        # This is where you put your numbers into the file \n",
    "        file.write(\"7\\n9\\n8\\n10\")\n",
    "\n",
    "if __name__ == \"__main__\":\n",
    "    main()\n",
    "\n",
    "\n",
    "def main():\n",
    "    try:\n",
    "        # Open the file in read mode\n",
    "        with open(\"numbers.txt\", \"r\") as file:\n",
    "            # Read lines from file\n",
    "            lines = file.readlines()\n",
    "            # Iterate through each line\n",
    "            for line in lines:\n",
    "                # Convert the line to an integer and print it\n",
    "                print(int(line.strip()))\n",
    "                \n",
    "    except FileNotFoundError:\n",
    "        print(\"File not found.\")\n",
    "    except ValueError:\n",
    "        print(\"Invalid data in the file. It should contain only integers.\")\n",
    "\n",
    "if __name__ == \"__main__\":\n",
    "    main()"
   ]
  },
  {
   "cell_type": "markdown",
   "id": "3cc56e09",
   "metadata": {},
   "source": [
    "### 6. Average of Numbers\n",
    "Assume a file containing a series of integers is named numbers.txt and exists on the\n",
    "computer’s disk. Write a program that calculates the average of all the numbers stored in\n",
    "the file."
   ]
  },
  {
   "cell_type": "code",
   "execution_count": null,
   "id": "1acc28d9",
   "metadata": {},
   "outputs": [],
   "source": [
    "def main():\n",
    "    try:\n",
    "        # Open the file in read mode\n",
    "        with open(\"numbers.txt\", \"r\") as file:\n",
    "            # Read lines from  file\n",
    "            lines = file.readlines()\n",
    "\n",
    "            # Initialize variables for sum and count\n",
    "            total_sum = 0\n",
    "            count = 0\n",
    "\n",
    "            # Iterate through each line\n",
    "            for line in lines:\n",
    "                # Convert line to integer and update sum and count\n",
    "                total_sum += int(line.strip())\n",
    "                count += 1"
   ]
  }
 ],
 "metadata": {
  "kernelspec": {
   "display_name": "Python 3 (ipykernel)",
   "language": "python",
   "name": "python3"
  },
  "language_info": {
   "codemirror_mode": {
    "name": "ipython",
    "version": 3
   },
   "file_extension": ".py",
   "mimetype": "text/x-python",
   "name": "python",
   "nbconvert_exporter": "python",
   "pygments_lexer": "ipython3",
   "version": "3.11.5"
  }
 },
 "nbformat": 4,
 "nbformat_minor": 5
}
