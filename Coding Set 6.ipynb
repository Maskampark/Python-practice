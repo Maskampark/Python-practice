{
 "cells": [
  {
   "cell_type": "markdown",
   "id": "6ffb98dc",
   "metadata": {},
   "source": [
    "# Ch 6 Coding Set\n",
    "## Masone Yang\n",
    "## Algorithm Workbench\n",
    "\n",
    "# 1.\n",
    "Write a program that opens an output file with the filename my_name.txt, writes your name to the file, then closes the file."
   ]
  },
  {
   "cell_type": "code",
   "execution_count": 6,
   "id": "8f1fdd73",
   "metadata": {},
   "outputs": [],
   "source": [
    "def main():\n",
    "    # Open the file within write mode\n",
    "    with open(\"my_name.txt\", \"w\") as file:\n",
    "        # This is where you put your name into the file \n",
    "        file.write(\"Masone\")\n",
    "\n",
    "if __name__ == \"__main__\":\n",
    "    main()"
   ]
  },
  {
   "cell_type": "markdown",
   "id": "66ca1cac",
   "metadata": {},
   "source": [
    "## 2. \n",
    "Write a program that opens the my_name.txt file that was created by the program\n",
    "in problem 1, reads your name from the file, displays the name on the screen, then\n",
    "closes the file."
   ]
  },
  {
   "cell_type": "code",
   "execution_count": 7,
   "id": "6936c19e",
   "metadata": {},
   "outputs": [
    {
     "name": "stdout",
     "output_type": "stream",
     "text": [
      "Name read from the file: Masone\n"
     ]
    }
   ],
   "source": [
    "def main():\n",
    "    # Open file in read mode\n",
    "    with open(\"my_name.txt\", \"r\") as file:\n",
    "        # Read content of file\n",
    "        name = file.read()\n",
    "        # Display the name on the screen\n",
    "        print(\"Name read from the file:\", name)\n",
    "    \n",
    "if __name__ == \"__main__\":\n",
    "    main()"
   ]
  },
  {
   "cell_type": "markdown",
   "id": "38b55fde",
   "metadata": {},
   "source": [
    "## Programming Exercises\n"
   ]
  },
  {
   "cell_type": "markdown",
   "id": "a8b529b5",
   "metadata": {},
   "source": [
    "### 1. File Display\n",
    "Assume a file containing a series of integers is named numbers.txt and exists on the computer’s disk. Write a program that displays all of the numbers in the file."
   ]
  },
  {
   "cell_type": "code",
   "execution_count": 14,
   "id": "78bcbd85",
   "metadata": {},
   "outputs": [
    {
     "name": "stdout",
     "output_type": "stream",
     "text": [
      "7\n",
      "9\n",
      "8\n",
      "10\n"
     ]
    }
   ],
   "source": [
    "#I wrote this code first without creating the numbers.txt and it took me a minute to figure out why my code kept getting errors. \n",
    "#I then realized that I could just use the code from the first question of the Algorithm workbench. \n",
    "def main():\n",
    "    # Open the file within write mode\n",
    "    with open(\"numbers.txt\", \"w\") as file:\n",
    "        # This is where you put your numbers into the file \n",
    "        file.write(\"7\\n9\\n8\\n10\")\n",
    "\n",
    "if __name__ == \"__main__\":\n",
    "    main()\n",
    "\n",
    "\n",
    "def main():\n",
    "    try:\n",
    "        # Open the file in read mode\n",
    "        with open(\"numbers.txt\", \"r\") as file:\n",
    "            # Read lines from file\n",
    "            lines = file.readlines()\n",
    "            # Iterate through each line\n",
    "            for line in lines:\n",
    "                # Convert the line to an integer and print it\n",
    "                print(int(line.strip()))\n",
    "                \n",
    "    except FileNotFoundError:\n",
    "        print(\"File not found.\")\n",
    "    except ValueError:\n",
    "        print(\"Invalid data in the file. It should contain only integers.\")\n",
    "\n",
    "if __name__ == \"__main__\":\n",
    "    main()"
   ]
  },
  {
   "cell_type": "markdown",
   "id": "3db89e2a",
   "metadata": {},
   "source": [
    "### 6. Average of Numbers\n",
    "Assume a file containing a series of integers is named numbers.txt and exists on the\n",
    "computer’s disk. Write a program that calculates the average of all the numbers stored in\n",
    "the file."
   ]
  },
  {
   "cell_type": "code",
   "execution_count": 21,
   "id": "e15c13c8",
   "metadata": {},
   "outputs": [
    {
     "name": "stdout",
     "output_type": "stream",
     "text": [
      "Average of numbers in the file: 8.5\n"
     ]
    }
   ],
   "source": [
    "def main():\n",
    "    try:\n",
    "        # Open the file in read mode\n",
    "        with open(\"numbers.txt\", \"r\") as file:\n",
    "            # Read lines from  file\n",
    "            lines = file.readlines()\n",
    "\n",
    "            # Initialize variables for sum and count\n",
    "            total_sum = 34\n",
    "            count = 4\n",
    "\n",
    "            # Iterate through each line\n",
    "            for line in lines:\n",
    "                # Convert line to integer and update sum/count\n",
    "                total_sum += int(line.strip())\n",
    "                count += 1\n",
    "                \n",
    " # Calculate the average\n",
    "            if count > 0:\n",
    "                average = total_sum / count\n",
    "                print(\"Average of numbers in the file:\", average)\n",
    "            else:\n",
    "                print(\"The file is empty.\")\n",
    "    except FileNotFoundError:\n",
    "        print(\"File not found.\")\n",
    "    except ValueError:\n",
    "        print(\"Invalid data in the file. It should contain only integers.\")\n",
    "\n",
    "if __name__ == \"__main__\":\n",
    "    main()"
   ]
  },
  {
   "cell_type": "markdown",
   "id": "1920f9df",
   "metadata": {},
   "source": [
    "### 9. Exception Handing\n",
    "Modify the program that you wrote for Exercise 6 so it handles the following exceptions:\n",
    "• It should handle any IOError exceptions that are raised when the file is opened and data\n",
    "is read from it.\n",
    "• It should handle any ValueError exceptions that are raised when the items that are read\n",
    "from the file are converted to a number."
   ]
  },
  {
   "cell_type": "code",
   "execution_count": 24,
   "id": "9530eb33",
   "metadata": {},
   "outputs": [
    {
     "name": "stdout",
     "output_type": "stream",
     "text": [
      "Average of numbers in the file: 8.5\n"
     ]
    }
   ],
   "source": [
    "def main():\n",
    "    try:\n",
    "        # Open the file in read mode\n",
    "        with open(\"numbers.txt\", \"r\") as file:\n",
    "            # Read lines from the file\n",
    "            lines = file.readlines()\n",
    "\n",
    "            # Initialize variables for sum and count\n",
    "            total_sum = 34\n",
    "            count = 4\n",
    "\n",
    "            # Iterate through each line\n",
    "            for line in lines:\n",
    "                # Convert the line to an integer and update sum and count\n",
    "                try:\n",
    "                    total_sum += int(line.strip())\n",
    "                    count += 1\n",
    "                except ValueError:\n",
    "                    # Handle ValueError if conversion fails\n",
    "                    print(\"Invalid data found in the file. It should contain only integers.\")\n",
    "\n",
    "  # Calculate the average\n",
    "            if count > 0:\n",
    "                average = total_sum / count\n",
    "                print(\"Average of numbers in the file:\", average)\n",
    "            else:\n",
    "                print(\"The file is empty.\")\n",
    "    except FileNotFoundError:\n",
    "        # Handle FileNotFoundError if the file is not found\n",
    "        print(\"File not found.\")\n",
    "    except IOError:\n",
    "        # Handle IOError if there's an issue with file I/O\n",
    "        print(\"An error occurred while reading the file.\")\n",
    "\n",
    "if __name__ == \"__main__\":\n",
    "    main()"
   ]
  },
  {
   "cell_type": "markdown",
   "id": "f7e6600f",
   "metadata": {},
   "source": [
    "### 10. Golf Scores\n",
    "The Springfork Amateur Golf Club has a tournament every weekend. The club president\n",
    "has asked you to write two programs:\n",
    "1. A program that will read each player’s name and golf score as keyboard input, then\n",
    "save these as records in a file named golf.txt. (Each record will have a field for the\n",
    "player’s name and a field for the player’s score.)\n",
    "2. A program that reads the records from the golf.txt file and displays them."
   ]
  },
  {
   "cell_type": "code",
   "execution_count": null,
   "id": "a0ecb224",
   "metadata": {},
   "outputs": [],
   "source": [
    "def main():\n",
    "    try:\n",
    "        # Open the file in write mode ('w')\n",
    "        with open(\"golf.txt\", \"w\") as file:\n",
    "            # Prompt the user to enter player name and score\n",
    "            while True:\n",
    "                player_name = input(\"Enter player's name (or type 'done' to finish): \")\n",
    "                if player_name.lower() == 'done':\n",
    "                    break\n",
    "                score = input(\"Enter player's score: \")\n",
    "                # Write the record to the file\n",
    "                file.write(f\"{player_name},{score}\\n\")\n",
    "        print(\"Records saved successfully.\")\n",
    "    except IOError:\n",
    "        print(\"An error occurred while writing to the file.\")\n",
    "\n",
    "if __name__ == \"__main__\":\n",
    "    main()"
   ]
  }
 ],
 "metadata": {
  "kernelspec": {
   "display_name": "Python 3 (ipykernel)",
   "language": "python",
   "name": "python3"
  },
  "language_info": {
   "codemirror_mode": {
    "name": "ipython",
    "version": 3
   },
   "file_extension": ".py",
   "mimetype": "text/x-python",
   "name": "python",
   "nbconvert_exporter": "python",
   "pygments_lexer": "ipython3",
   "version": "3.11.5"
  }
 },
 "nbformat": 4,
 "nbformat_minor": 5
}
