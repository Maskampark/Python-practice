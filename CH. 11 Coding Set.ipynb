{
 "cells": [
  {
   "cell_type": "markdown",
   "id": "57db74d7",
   "metadata": {},
   "source": [
    "# Chapter 11 Coding Set\n",
    "## Masone T Yang\n",
    "### Programming Exercises\n",
    "### 1. Employee and ProductionWorker Classes\n",
    "Write an Employee class that keeps data attributes for the following pieces of information:\n",
    "• Employee name\n",
    "• Employee number\n",
    "Next, write a class named ProductionWorker that is a subclass of the Employee class.\n",
    "The ProductionWorker class should keep data attributes for the following information:\n",
    "• Shift number (an integer, such as 1, 2, or 3)\n",
    "• Hourly pay rate\n",
    "The workday is divided into two shifts: day and night. The shift attribute will hold an\n",
    "integer value representing the shift that the employee works. The day shift is shift 1 and the\n",
    "night shift is shift 2. Write the appropriate accessor and mutator methods for each class.\n",
    "Once you have written the classes, write a program that creates an object of the\n",
    "ProductionWorker class and prompts the user to enter data for each of the object’s data\n",
    "attributes. Store the data in the object, then use the object’s accessor methods to retrieve it\n",
    "and display it on the screen."
   ]
  },
  {
   "cell_type": "code",
   "execution_count": null,
   "id": "f31b9aad",
   "metadata": {},
   "outputs": [],
   "source": [
    "class Employee:\n",
    "    def __init__(self, name, emp_number):\n",
    "        self.name = name\n",
    "        self.emp_number = emp_number"
   ]
  }
 ],
 "metadata": {
  "kernelspec": {
   "display_name": "Python 3 (ipykernel)",
   "language": "python",
   "name": "python3"
  },
  "language_info": {
   "codemirror_mode": {
    "name": "ipython",
    "version": 3
   },
   "file_extension": ".py",
   "mimetype": "text/x-python",
   "name": "python",
   "nbconvert_exporter": "python",
   "pygments_lexer": "ipython3",
   "version": "3.11.5"
  }
 },
 "nbformat": 4,
 "nbformat_minor": 5
}
