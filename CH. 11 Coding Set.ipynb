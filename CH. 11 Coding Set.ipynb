{
 "cells": [
  {
   "cell_type": "markdown",
   "id": "afe1fe02",
   "metadata": {},
   "source": [
    "# Chapter 11 Coding Set\n",
    "## Masone T Yang\n",
    "### Programming Exercises\n",
    "### 1. Employee and ProductionWorker Classes\n",
    "Write an Employee class that keeps data attributes for the following pieces of information:\n",
    "• Employee name\n",
    "• Employee number\n",
    "Next, write a class named ProductionWorker that is a subclass of the Employee class.\n",
    "The ProductionWorker class should keep data attributes for the following information:\n",
    "• Shift number (an integer, such as 1, 2, or 3)\n",
    "• Hourly pay rate\n",
    "The workday is divided into two shifts: day and night. The shift attribute will hold an\n",
    "integer value representing the shift that the employee works. The day shift is shift 1 and the\n",
    "night shift is shift 2. Write the appropriate accessor and mutator methods for each class.\n",
    "Once you have written the classes, write a program that creates an object of the\n",
    "ProductionWorker class and prompts the user to enter data for each of the object’s data\n",
    "attributes. Store the data in the object, then use the object’s accessor methods to retrieve it\n",
    "and display it on the screen."
   ]
  },
  {
   "cell_type": "code",
   "execution_count": null,
   "id": "e472d3e5",
   "metadata": {},
   "outputs": [],
   "source": [
    "class Employee:\n",
    "    def __init__(self, name, emp_number):\n",
    "        self.name = name\n",
    "        self.emp_number = emp_number\n",
    "        \n",
    "    def get_name(self):\n",
    "        return self.name\n",
    "    def get_emp_number(self):\n",
    "        return self.emp_number\n",
    "    def set_emp_number(self, emp_number):\n",
    "        self.emp_number = emp_number\n",
    "    \n",
    "class ProductionWorker(Employee):\n",
    "    def __init__(self, name, emp_number, shift_number, hourly_pay_rate):\n",
    "        super() .__init__(name, emp_number)\n",
    "        self.shift_number = shift_number\n",
    "        self.hourly_pay_rate = hourly_pay_rate\n",
    "        \n",
    "    def get_shift_number(self):\n",
    "        return self.shift_number\n",
    "    def set_hourly_pay_rate(self, hourly_pay_rate):\n",
    "        self.hourly_pay_rate = hourly_pay_rate\n",
    "        \n",
    "def main():\n",
    "    \n",
    "    name = input(\"Enter employee name: \")\n",
    "    emp_number = input(\"Enter employee number: \")\n",
    "    shift_number = int(input(\"Enter shift nu,ber (1 for day, 2 for night): \"))\n",
    "    hourly_pay_rate = float(input(\"Enter hourly pay rate: \"))\n",
    "    \n",
    "    worker = ProductionWorker(name, emp_number, shift_number, hourly_pay_rate)\n",
    "    \n",
    "    print(\"/nEmployee Information:\")\n",
    "    print(\"Name:\", worker.get_name())\n",
    "    print(\"Employee Number:\", worker.get_emp_number())\n",
    "    if worker.get_shift_number() == 1:\n",
    "        print(\"Shift: Day\")\n",
    "    elif worker.get_shift_number() == 2:\n",
    "        print(\"Shift: Night\")\n",
    "    print(\"Hourly Pay Rate: $\", worker.get\n",
    "    \n",
    "    \n",
    "    "
   ]
  }
 ],
 "metadata": {
  "kernelspec": {
   "display_name": "Python 3 (ipykernel)",
   "language": "python",
   "name": "python3"
  },
  "language_info": {
   "codemirror_mode": {
    "name": "ipython",
    "version": 3
   },
   "file_extension": ".py",
   "mimetype": "text/x-python",
   "name": "python",
   "nbconvert_exporter": "python",
   "pygments_lexer": "ipython3",
   "version": "3.11.5"
  }
 },
 "nbformat": 4,
 "nbformat_minor": 5
}
