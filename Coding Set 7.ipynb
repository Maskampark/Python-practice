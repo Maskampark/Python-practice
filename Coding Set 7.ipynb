{
 "cells": [
  {
   "cell_type": "markdown",
   "id": "ba5392b9",
   "metadata": {},
   "source": [
    "# Ch 7 Coding Set\n",
    "## Masone Yang\n",
    "## Algorithm Workbench"
   ]
  },
  {
   "cell_type": "markdown",
   "id": "e8bf7bc3",
   "metadata": {},
   "source": [
    "### 7. What will the following code print?\n",
    "list1 = [40, 50, 60]\n",
    "list2 = [10, 20, 30]\n",
    "list3 = list1 + list2\n",
    "print(list3)"
   ]
  },
  {
   "cell_type": "code",
   "execution_count": 1,
   "id": "0b9245a9",
   "metadata": {},
   "outputs": [],
   "source": [
    "#I think that list 3 will print out 40, 50, 60, 10, 20, 30. \n",
    "#List1 creates a list with three elements:40, 50, and 60.\n",
    "#List2 creates another list with three elements:10, 20, and 30. \n",
    "#When you put print(list3) it prints out the contents of list 3.\n",
    "#Finally, when you combine list1 and list2 the output is [40, 50, 60, 10, 20, 30]\n"
   ]
  },
  {
   "cell_type": "markdown",
   "id": "fc431dad",
   "metadata": {},
   "source": [
    "### 1. Write a statement that creates a list with the following strings:\n",
    "'Einstein', 'Newton',\n",
    "'Copernicus', and 'Kepler'.\n"
   ]
  },
  {
   "cell_type": "code",
   "execution_count": null,
   "id": "182408e9",
   "metadata": {},
   "outputs": [],
   "source": [
    "S"
   ]
  }
 ],
 "metadata": {
  "kernelspec": {
   "display_name": "Python 3 (ipykernel)",
   "language": "python",
   "name": "python3"
  },
  "language_info": {
   "codemirror_mode": {
    "name": "ipython",
    "version": 3
   },
   "file_extension": ".py",
   "mimetype": "text/x-python",
   "name": "python",
   "nbconvert_exporter": "python",
   "pygments_lexer": "ipython3",
   "version": "3.11.5"
  }
 },
 "nbformat": 4,
 "nbformat_minor": 5
}
