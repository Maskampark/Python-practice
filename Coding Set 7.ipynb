{
 "cells": [
  {
   "cell_type": "markdown",
   "id": "f724b622",
   "metadata": {},
   "source": [
    "# Ch 7 Coding Set\n",
    "## Masone Yang\n",
    "## Algorithm Workbench"
   ]
  },
  {
   "cell_type": "markdown",
   "id": "72a053dd",
   "metadata": {},
   "source": [
    "### 7. What will the following code print?\n",
    "list1 = [40, 50, 60]\n",
    "list2 = [10, 20, 30]\n",
    "list3 = list1 + list2\n",
    "print(list3)"
   ]
  },
  {
   "cell_type": "code",
   "execution_count": 1,
   "id": "084933c1",
   "metadata": {},
   "outputs": [],
   "source": [
    "#I think that list 3 will print out 40, 50, 60, 10, 20, 30. \n",
    "#List1 creates a list with three elements:40, 50, and 60.\n",
    "#List2 creates another list with three elements:10, 20, and 30. \n",
    "#When you put print(list3) it prints out the contents of list 3.\n",
    "#Finally, when you combine list1 and list2 the output is [40, 50, 60, 10, 20, 30]\n"
   ]
  },
  {
   "cell_type": "markdown",
   "id": "84e1ae76",
   "metadata": {},
   "source": [
    "### 1. Write a statement that creates a list with the following strings:\n",
    "'Einstein', 'Newton',\n",
    "'Copernicus', and 'Kepler'.\n"
   ]
  },
  {
   "cell_type": "code",
   "execution_count": 4,
   "id": "52ca17f8",
   "metadata": {},
   "outputs": [
    {
     "name": "stdout",
     "output_type": "stream",
     "text": [
      "['Einstein', 'Newton', 'Copernicus', 'Kepler']\n"
     ]
    }
   ],
   "source": [
    "#Scientists is the name of the list that I created.\n",
    "#The = sign assigns a value to a variable.\n",
    "#['Einstein', 'Newton', 'Copernicus', 'Kepler']  is added because the question is asking you to include it in your list.\n",
    "#Once executed with print it creates a list of scientist with the provided strings as its elements. \n",
    "\n",
    "#list with the strings that were asked for\n",
    "Scientists = ['Einstein', 'Newton', 'Copernicus', 'Kepler']\n",
    "\n",
    "#Printed to see if the list works\n",
    "print(Scientists)"
   ]
  },
  {
   "cell_type": "markdown",
   "id": "c7525226",
   "metadata": {},
   "source": [
    "### 1. Total Sales\n",
    "Design a program that asks the user to enter a store’s sales for each day of the week. The\n",
    "amounts should be stored in a list. Use a loop to calculate the total sales for the week and\n",
    "display the result."
   ]
  },
  {
   "cell_type": "code",
   "execution_count": null,
   "id": "36960d22",
   "metadata": {},
   "outputs": [],
   "source": [
    "def main():\n",
    "    # Initializes empty list to store sales made that day. \n",
    "    daily_sales = []\n",
    "\n",
    "    # Ask the user to enter sales for each day of the week\n",
    "    for day in ['Monday', 'Tuesday', 'Wednesday', 'Thursday', 'Friday', 'Saturday', 'Sunday']:\n",
    "        sales = float(input(f\"Enter sales for {day}: $\"))\n",
    "        daily_sales.append(sales)  # Add the daily sales to the list"
   ]
  }
 ],
 "metadata": {
  "kernelspec": {
   "display_name": "Python 3 (ipykernel)",
   "language": "python",
   "name": "python3"
  },
  "language_info": {
   "codemirror_mode": {
    "name": "ipython",
    "version": 3
   },
   "file_extension": ".py",
   "mimetype": "text/x-python",
   "name": "python",
   "nbconvert_exporter": "python",
   "pygments_lexer": "ipython3",
   "version": "3.11.5"
  }
 },
 "nbformat": 4,
 "nbformat_minor": 5
}
