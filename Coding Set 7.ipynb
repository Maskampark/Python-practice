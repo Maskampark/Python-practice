{
 "cells": [
  {
   "cell_type": "markdown",
   "id": "b73529e6",
   "metadata": {},
   "source": [
    "# Ch 7 Coding Set\n",
    "## Masone Yang\n",
    "## Algorithm Workbench"
   ]
  },
  {
   "cell_type": "markdown",
   "id": "bd4e6ddc",
   "metadata": {},
   "source": [
    "### 7. What will the following code print?\n",
    "list1 = [40, 50, 60]\n",
    "list2 = [10, 20, 30]\n",
    "list3 = list1 + list2\n",
    "print(list3)"
   ]
  },
  {
   "cell_type": "code",
   "execution_count": 1,
   "id": "b999156c",
   "metadata": {},
   "outputs": [],
   "source": [
    "#I think that list 3 will print out 40, 50, 60, 10, 20, 30. \n",
    "#List1 creates a list with three elements:40, 50, and 60.\n",
    "#List2 creates another list with three elements:10, 20, and 30. \n",
    "#When you put print(list3) it prints out the contents of list 3.\n",
    "#Finally, when you combine list1 and list2 the output is [40, 50, 60, 10, 20, 30]\n"
   ]
  },
  {
   "cell_type": "markdown",
   "id": "31dc7433",
   "metadata": {},
   "source": [
    "### 1. Write a statement that creates a list with the following strings:\n",
    "'Einstein', 'Newton',\n",
    "'Copernicus', and 'Kepler'.\n"
   ]
  },
  {
   "cell_type": "code",
   "execution_count": 4,
   "id": "30ae9036",
   "metadata": {},
   "outputs": [
    {
     "name": "stdout",
     "output_type": "stream",
     "text": [
      "['Einstein', 'Newton', 'Copernicus', 'Kepler']\n"
     ]
    }
   ],
   "source": [
    "#Scientists is the name of the list that I created.\n",
    "#The = sign assigns a value to a variable.\n",
    "#['Einstein', 'Newton', 'Copernicus', 'Kepler']  is added because the question is asking you to include it in your list.\n",
    "#Once executed with print it creates a list of scientist with the provided strings as its elements. \n",
    "\n",
    "#list with the strings that were asked for\n",
    "Scientists = ['Einstein', 'Newton', 'Copernicus', 'Kepler']\n",
    "\n",
    "#Printed to see if the list works\n",
    "print(Scientists)"
   ]
  },
  {
   "cell_type": "markdown",
   "id": "c1ac3bae",
   "metadata": {},
   "source": [
    "## Programming Exercises\n",
    "\n",
    "\n",
    "### 1. Total Sales\n",
    "Design a program that asks the user to enter a store’s sales for each day of the week. The\n",
    "amounts should be stored in a list. Use a loop to calculate the total sales for the week and\n",
    "display the result."
   ]
  },
  {
   "cell_type": "code",
   "execution_count": 5,
   "id": "5a57d500",
   "metadata": {},
   "outputs": [
    {
     "name": "stdout",
     "output_type": "stream",
     "text": [
      "Enter sales for Monday: $500\n",
      "Enter sales for Tuesday: $600\n",
      "Enter sales for Wednesday: $700\n",
      "Enter sales for Thursday: $800\n",
      "Enter sales for Friday: $900\n",
      "Enter sales for Saturday: $1000\n",
      "Enter sales for Sunday: $1200\n",
      "\n",
      "Total sales for the week: $5700.00\n"
     ]
    }
   ],
   "source": [
    "#First, I created an empty list called daily_sales which holds the sales made for that day of the week. \n",
    "#After, I put a loop for day in ['Monday', 'Tuesday', 'Wednesday', 'Thursday', 'Friday', 'Saturday', 'Sunday']:\n",
    "#This allows the person to input the sales for that day.\n",
    "# daily_sales.append(sales) inputs the money made that day into a list to be later be totaled. \n",
    "# total_sales = sum(daily_sales) calculates the amount of money made at the end of the week. \n",
    "#Finally, I printed the total sales so we were able to see it. \n",
    "\n",
    "\n",
    "def main():\n",
    "    # Creates empty list to store sales made that day. \n",
    "    daily_sales = []\n",
    "\n",
    "    # Asks user to enter sales for each day of the week\n",
    "    for day in ['Monday', 'Tuesday', 'Wednesday', 'Thursday', 'Friday', 'Saturday', 'Sunday']:\n",
    "        #Asks user to put in sales for the day while also using a float to deal with decimals. \n",
    "        sales = float(input(f\"Enter sales for {day}: $\"))\n",
    "        # Adds daily sales to the list\n",
    "        daily_sales.append(sales)  \n",
    "        \n",
    "         # Calculates the total sales during that week\n",
    "    total_sales = sum(daily_sales)\n",
    "\n",
    "    # Display the total amount of sales made that week\n",
    "    print(f\"\\nTotal sales for the week: ${total_sales:.2f}\")\n",
    "#Executes the code if it is ran direct\n",
    "if __name__ == \"__main__\":\n",
    "    main()"
   ]
  },
  {
   "cell_type": "markdown",
   "id": "d81486c4",
   "metadata": {},
   "source": [
    "### 14. Expense Pie Chart\n",
    "Create a text file that contains your expenses for last month in the following categories:\n",
    "\n",
    "• Rent\n",
    "• Gas\n",
    "• Food\n",
    "• Clothing\n",
    "• Car payment\n",
    "• Misc\n",
    "\n",
    "Write a Python program that reads the data from the file and uses matplotlib to plot a pie\n",
    "chart showing how you spend your money."
   ]
  },
  {
   "cell_type": "code",
   "execution_count": null,
   "id": "d6c1db2a",
   "metadata": {},
   "outputs": [],
   "source": []
  }
 ],
 "metadata": {
  "kernelspec": {
   "display_name": "Python 3 (ipykernel)",
   "language": "python",
   "name": "python3"
  },
  "language_info": {
   "codemirror_mode": {
    "name": "ipython",
    "version": 3
   },
   "file_extension": ".py",
   "mimetype": "text/x-python",
   "name": "python",
   "nbconvert_exporter": "python",
   "pygments_lexer": "ipython3",
   "version": "3.11.5"
  }
 },
 "nbformat": 4,
 "nbformat_minor": 5
}
