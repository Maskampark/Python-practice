{
 "cells": [
  {
   "cell_type": "markdown",
   "id": "d35ccb7e",
   "metadata": {},
   "source": [
    "# Ch 7 Coding Set\n",
    "## Masone Yang\n",
    "## Algorithm Workbench"
   ]
  },
  {
   "cell_type": "markdown",
   "id": "77f85e7d",
   "metadata": {},
   "source": [
    "### 7. What will the following code print?\n",
    "list1 = [40, 50, 60]\n",
    "list2 = [10, 20, 30]\n",
    "list3 = list1 + list2\n",
    "print(list3)"
   ]
  },
  {
   "cell_type": "code",
   "execution_count": 1,
   "id": "b9d59be5",
   "metadata": {},
   "outputs": [],
   "source": [
    "#I think that list 3 will print out 40, 50, 60, 10, 20, 30. \n",
    "#List1 creates a list with three elements:40, 50, and 60.\n",
    "#List2 creates another list with three elements:10, 20, and 30. \n",
    "#When you put print(list3) it prints out the contents of list 3.\n",
    "#Finally, when you combine list1 and list2 the output is [40, 50, 60, 10, 20, 30]\n"
   ]
  },
  {
   "cell_type": "markdown",
   "id": "d59f1463",
   "metadata": {},
   "source": [
    "### 1. Write a statement that creates a list with the following strings:\n",
    "'Einstein', 'Newton',\n",
    "'Copernicus', and 'Kepler'.\n"
   ]
  },
  {
   "cell_type": "code",
   "execution_count": 4,
   "id": "a63b07c2",
   "metadata": {},
   "outputs": [
    {
     "name": "stdout",
     "output_type": "stream",
     "text": [
      "['Einstein', 'Newton', 'Copernicus', 'Kepler']\n"
     ]
    }
   ],
   "source": [
    "#Scientists is the name of the list that I created.\n",
    "#The = sign assigns a value to a variable.\n",
    "#['Einstein', 'Newton', 'Copernicus', 'Kepler']  is added because the question is asking you to include it in your list.\n",
    "#\n",
    "\n",
    "#list with the strings that were asked for\n",
    "Scientists = ['Einstein', 'Newton', 'Copernicus', 'Kepler']\n",
    "\n",
    "#Printed to see if the list works\n",
    "print(Scientists)"
   ]
  },
  {
   "cell_type": "code",
   "execution_count": null,
   "id": "3a23cbe3",
   "metadata": {},
   "outputs": [],
   "source": []
  }
 ],
 "metadata": {
  "kernelspec": {
   "display_name": "Python 3 (ipykernel)",
   "language": "python",
   "name": "python3"
  },
  "language_info": {
   "codemirror_mode": {
    "name": "ipython",
    "version": 3
   },
   "file_extension": ".py",
   "mimetype": "text/x-python",
   "name": "python",
   "nbconvert_exporter": "python",
   "pygments_lexer": "ipython3",
   "version": "3.11.5"
  }
 },
 "nbformat": 4,
 "nbformat_minor": 5
}
