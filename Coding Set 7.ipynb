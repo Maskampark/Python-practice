{
 "cells": [
  {
   "cell_type": "markdown",
   "id": "b2b8e594",
   "metadata": {},
   "source": [
    "# Ch 7 Coding Set\n",
    "## Masone Yang\n",
    "## Algorithm Workbench"
   ]
  },
  {
   "cell_type": "markdown",
   "id": "8938acd8",
   "metadata": {},
   "source": [
    "### 7. What will the following code print?\n",
    "list1 = [40, 50, 60]\n",
    "list2 = [10, 20, 30]\n",
    "list3 = list1 + list2\n",
    "print(list3)"
   ]
  },
  {
   "cell_type": "code",
   "execution_count": 1,
   "id": "28fe7284",
   "metadata": {},
   "outputs": [],
   "source": [
    "#I think that list 3 will print out 40, 50, 60, 10, 20, 30. \n",
    "#List1 creates a list with three elements:40, 50, and 60.\n",
    "#List2 creates another list with three elements:10, 20, and 30. \n",
    "#When you put print(list3) it prints out the contents of list 3.\n",
    "#Finally, when you combine list1 and list2 the output is [40, 50, 60, 10, 20, 30]\n"
   ]
  },
  {
   "cell_type": "markdown",
   "id": "ea622598",
   "metadata": {},
   "source": [
    "### 1. Write a statement that creates a list with the following strings:\n",
    "'Einstein', 'Newton',\n",
    "'Copernicus', and 'Kepler'.\n"
   ]
  },
  {
   "cell_type": "code",
   "execution_count": 4,
   "id": "b541e5c5",
   "metadata": {},
   "outputs": [
    {
     "name": "stdout",
     "output_type": "stream",
     "text": [
      "['Einstein', 'Newton', 'Copernicus', 'Kepler']\n"
     ]
    }
   ],
   "source": [
    "#Scientists is the name of the list that I created.\n",
    "#The = sign assigns a value to a variable.\n",
    "#['Einstein', 'Newton', 'Copernicus', 'Kepler']  is added because the question is asking you to include it in your list.\n",
    "#Once executed with print it creates a list of scientist with the provided strings as its elements. \n",
    "\n",
    "#list with the strings that were asked for\n",
    "Scientists = ['Einstein', 'Newton', 'Copernicus', 'Kepler']\n",
    "\n",
    "#Printed to see if the list works\n",
    "print(Scientists)"
   ]
  },
  {
   "cell_type": "markdown",
   "id": "0e4a3eb1",
   "metadata": {},
   "source": [
    "## Programming Exercises\n",
    "\n",
    "\n",
    "### 1. Total Sales\n",
    "Design a program that asks the user to enter a store’s sales for each day of the week. The\n",
    "amounts should be stored in a list. Use a loop to calculate the total sales for the week and\n",
    "display the result."
   ]
  },
  {
   "cell_type": "code",
   "execution_count": 5,
   "id": "6a67684f",
   "metadata": {},
   "outputs": [
    {
     "name": "stdout",
     "output_type": "stream",
     "text": [
      "Enter sales for Monday: $500\n",
      "Enter sales for Tuesday: $600\n",
      "Enter sales for Wednesday: $700\n",
      "Enter sales for Thursday: $800\n",
      "Enter sales for Friday: $900\n",
      "Enter sales for Saturday: $1000\n",
      "Enter sales for Sunday: $1200\n",
      "\n",
      "Total sales for the week: $5700.00\n"
     ]
    }
   ],
   "source": [
    "#First, I created an empty list called daily_sales which holds the sales made for that day of the week. \n",
    "#After, I put a loop for day in ['Monday', 'Tuesday', 'Wednesday', 'Thursday', 'Friday', 'Saturday', 'Sunday']:\n",
    "#This allows the person to input the sales for that day.\n",
    "# daily_sales.append(sales) inputs the money made that day into a list to be later be totaled. \n",
    "# total_sales = sum(daily_sales) calculates the amount of money made at the end of the week. \n",
    "#Finally, I printed the total sales so we were able to see it. \n",
    "\n",
    "\n",
    "def main():\n",
    "    # Creates empty list to store sales made that day. \n",
    "    daily_sales = []\n",
    "\n",
    "    # Asks user to enter sales for each day of the week\n",
    "    for day in ['Monday', 'Tuesday', 'Wednesday', 'Thursday', 'Friday', 'Saturday', 'Sunday']:\n",
    "        #Asks user to put in sales for the day while also using a float to deal with decimals. \n",
    "        sales = float(input(f\"Enter sales for {day}: $\"))\n",
    "        # Adds daily sales to the list\n",
    "        daily_sales.append(sales)  \n",
    "        \n",
    "         # Calculates the total sales during that week\n",
    "    total_sales = sum(daily_sales)\n",
    "\n",
    "    # Display the total amount of sales made that week\n",
    "    print(f\"\\nTotal sales for the week: ${total_sales:.2f}\")\n",
    "#Executes the code if it is ran direct\n",
    "if __name__ == \"__main__\":\n",
    "    main()"
   ]
  },
  {
   "cell_type": "markdown",
   "id": "1bb66a7f",
   "metadata": {},
   "source": [
    "### 14. Expense Pie Chart\n",
    "Create a text file that contains your expenses for last month in the following categories:\n",
    "\n",
    "• Rent\n",
    "• Gas\n",
    "• Food\n",
    "• Clothing\n",
    "• Car payment\n",
    "• Misc\n",
    "\n",
    "Write a Python program that reads the data from the file and uses matplotlib to plot a pie\n",
    "chart showing how you spend your money."
   ]
  },
  {
   "cell_type": "code",
   "execution_count": 11,
   "id": "e370c3de",
   "metadata": {},
   "outputs": [
    {
     "ename": "ValueError",
     "evalue": "not enough values to unpack (expected 2, got 1)",
     "output_type": "error",
     "traceback": [
      "\u001b[1;31m---------------------------------------------------------------------------\u001b[0m",
      "\u001b[1;31mValueError\u001b[0m                                Traceback (most recent call last)",
      "Cell \u001b[1;32mIn[11], line 30\u001b[0m\n\u001b[0;32m     27\u001b[0m     plot_pie_chart(expenses)\n\u001b[0;32m     29\u001b[0m \u001b[38;5;28;01mif\u001b[39;00m \u001b[38;5;18m__name__\u001b[39m \u001b[38;5;241m==\u001b[39m \u001b[38;5;124m\"\u001b[39m\u001b[38;5;124m__main__\u001b[39m\u001b[38;5;124m\"\u001b[39m:\n\u001b[1;32m---> 30\u001b[0m     main()\n",
      "Cell \u001b[1;32mIn[11], line 26\u001b[0m, in \u001b[0;36mmain\u001b[1;34m()\u001b[0m\n\u001b[0;32m     24\u001b[0m \u001b[38;5;28;01mdef\u001b[39;00m \u001b[38;5;21mmain\u001b[39m():\n\u001b[0;32m     25\u001b[0m     file_path \u001b[38;5;241m=\u001b[39m \u001b[38;5;124m'\u001b[39m\u001b[38;5;124mexpenses.txt\u001b[39m\u001b[38;5;124m'\u001b[39m\n\u001b[1;32m---> 26\u001b[0m     expenses \u001b[38;5;241m=\u001b[39m read_expenses(file_path)\n\u001b[0;32m     27\u001b[0m     plot_pie_chart(expenses)\n",
      "Cell \u001b[1;32mIn[11], line 10\u001b[0m, in \u001b[0;36mread_expenses\u001b[1;34m(file_path)\u001b[0m\n\u001b[0;32m      8\u001b[0m \u001b[38;5;28;01mwith\u001b[39;00m \u001b[38;5;28mopen\u001b[39m(file_path, \u001b[38;5;124m'\u001b[39m\u001b[38;5;124mr\u001b[39m\u001b[38;5;124m'\u001b[39m) \u001b[38;5;28;01mas\u001b[39;00m file:\n\u001b[0;32m      9\u001b[0m     \u001b[38;5;28;01mfor\u001b[39;00m line \u001b[38;5;129;01min\u001b[39;00m file:\n\u001b[1;32m---> 10\u001b[0m         category, amount \u001b[38;5;241m=\u001b[39m line\u001b[38;5;241m.\u001b[39mstrip()\u001b[38;5;241m.\u001b[39msplit(\u001b[38;5;124m'\u001b[39m\u001b[38;5;124m:\u001b[39m\u001b[38;5;124m'\u001b[39m)\n\u001b[0;32m     11\u001b[0m         expenses[category\u001b[38;5;241m.\u001b[39mstrip()] \u001b[38;5;241m=\u001b[39m \u001b[38;5;28mfloat\u001b[39m(amount)\n\u001b[0;32m     12\u001b[0m \u001b[38;5;28;01mreturn\u001b[39;00m expenses\n",
      "\u001b[1;31mValueError\u001b[0m: not enough values to unpack (expected 2, got 1)"
     ]
    }
   ],
   "source": [
    "#\n",
    "\n",
    "\n",
    "import matplotlib.pyplot as plt\n",
    "\n",
    "def read_expenses(file_path):\n",
    "    expenses = {}\n",
    "    with open(file_path, 'r') as file:\n",
    "        for line in file:\n",
    "            category, amount = line.strip().split(':')\n",
    "            expenses[category.strip()] = float(amount)\n",
    "    return expenses\n",
    "\n",
    "def plot_pie_chart(expenses):\n",
    "    labels = expenses.keys()\n",
    "    amounts = expenses.values()\n",
    "    \n",
    "    plt.figure(figsize=(8, 6))\n",
    "    plt.pie(amounts, labels=labels, autopct='%1.1f%%', startangle=140)\n",
    "    plt.title('Expense Distribution Last Month')\n",
    "    plt.axis('equal') \n",
    "    plt.show()\n",
    "\n",
    "def main():\n",
    "    file_path = 'expenses.txt'\n",
    "    expenses = read_expenses(file_path)\n",
    "    plot_pie_chart(expenses)\n",
    "        \n",
    "if __name__ == \"__main__\":\n",
    "    main()"
   ]
  },
  {
   "cell_type": "code",
   "execution_count": 17,
   "id": "0ccda984",
   "metadata": {},
   "outputs": [],
   "source": [
    "def main():\n",
    "    # Open the file in write mode\n",
    "    with open(\"expenses.txt\", \"w\") as file:\n",
    "        # This is where you put the expenses into the file \n",
    "        file.write(\"expenses\")\n",
    "#This checks if the file is being imported or if it is being run directly. \n",
    "if __name__ == \"__main__\":\n",
    "    main()"
   ]
  },
  {
   "cell_type": "code",
   "execution_count": 16,
   "id": "645cb032",
   "metadata": {},
   "outputs": [
    {
     "name": "stdout",
     "output_type": "stream",
     "text": [
      "Expenses data has been written to expenses.txt.\n"
     ]
    }
   ],
   "source": [
    "\n",
    "#Data of the expenses\n",
    "expense_data = \"\"\"\\\n",
    "Rent: 1000.00\n",
    "Gas: 200.00\n",
    "Food: 400.00\n",
    "Clothing: 150.00\n",
    "Car payment: 300.00\n",
    "Misc: 100.00\n",
    "\"\"\"\n",
    "#creates file in write mode\n",
    "with open(\"expenses.txt\", \"w\") as file:\n",
    "    file.write(expense_data)\n",
    "#Displays expenses\n",
    "print(\"Expenses data has been written to expenses.txt.\")"
   ]
  },
  {
   "cell_type": "code",
   "execution_count": null,
   "id": "804354aa",
   "metadata": {},
   "outputs": [],
   "source": []
  }
 ],
 "metadata": {
  "kernelspec": {
   "display_name": "Python 3 (ipykernel)",
   "language": "python",
   "name": "python3"
  },
  "language_info": {
   "codemirror_mode": {
    "name": "ipython",
    "version": 3
   },
   "file_extension": ".py",
   "mimetype": "text/x-python",
   "name": "python",
   "nbconvert_exporter": "python",
   "pygments_lexer": "ipython3",
   "version": "3.11.5"
  }
 },
 "nbformat": 4,
 "nbformat_minor": 5
}
