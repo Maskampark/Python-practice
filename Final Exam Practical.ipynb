{
 "cells": [
  {
   "cell_type": "markdown",
   "id": "c5470eac",
   "metadata": {},
   "source": [
    "# Final Exam Practical\n",
    "## Masone T Yang\n",
    "### Question 1.\n"
   ]
  },
  {
   "cell_type": "markdown",
   "id": "9bb96beb",
   "metadata": {},
   "source": [
    "# Please paste the following line of Python code in your coding environment:\n",
    "greeting = \"  Hello, little people of Earth!      \"\n",
    "\n",
    "Perform the following operations using a combination of Python functions, string methods, and math capabilities.\n",
    "\n",
    "Determine the length of the string.\n",
    "Determine if this length is evenly divisible by 5.\n",
    "Create and store a new version of the string in a newly named variable that removes any spaces at the end or the beginning of the string.\n",
    "Using string you created in step 2, store the first 5 characters of the string in a new variable.\n",
    "Using the string you created in step 4, append 59 'o' characters to the string and print out the result."
   ]
  },
  {
   "cell_type": "code",
   "execution_count": 1,
   "id": "5dd12acc",
   "metadata": {},
   "outputs": [
    {
     "name": "stdout",
     "output_type": "stream",
     "text": [
      "Helloooooooooooooooooooooooooooooooooooooooooooooooooooooooooooo\n"
     ]
    }
   ],
   "source": [
    "#First, we determines the length of the string us length = len\n",
    "#Next we see if it can be divided by 5\n",
    "#After we creating a new version of the string without spacing.\n",
    "#Then, we store the first 5 characters of the string while also adding the appended \"o\"\n",
    "#Finally we print it out to display Helloo with a bunch of 'o's behind it\n",
    "\n",
    "\n",
    "#Original string of code\n",
    "greeting = \" Hello, little people of Earth! \"\n",
    "\n",
    "#This determines the length of the string\n",
    "length = len(greeting)\n",
    "#This determines if the length can be divided by 5\n",
    "divisible_by_5 = length % 5 == 0\n",
    "\n",
    "#This creates and stores a new version of the string without spaces that are trailing\n",
    "new_greeting = greeting.strip()\n",
    "\n",
    "#This stores the first 5 characters of the string\n",
    "first_5_chars = new_greeting[:5]\n",
    "\n",
    "#Appends 59 \"o\" characters to string to create in step 4\n",
    "appended_string = first_5_chars + 'o' * 59\n",
    "\n",
    "#Prints the appended string\n",
    "print(appended_string)\n",
    "\n"
   ]
  },
  {
   "cell_type": "markdown",
   "id": "84022759",
   "metadata": {},
   "source": [
    "### Please define a function named super_duper that accepts a number and then returns one of the following values:\n",
    "\n",
    "The function returns \"super\" if the number is evenly divisible by 3.\n",
    "The function returns \"duper\" if the number is evenly divisible by 7.\n",
    "The function returns \"superduper\" if the number is evenly divisible by 3 and 7.\n",
    "The function returns the number it was originally passed if the number is not divisible by either 3 or 7.\n",
    "Finally, please define a main function that loops through numbers 51 through 99 (inclusive) as inputs to the super_duper function and prints each of the results. Your instructor will call this main method to test your solution."
   ]
  },
  {
   "cell_type": "code",
   "execution_count": 2,
   "id": "bdc555a3",
   "metadata": {},
   "outputs": [
    {
     "ename": "SyntaxError",
     "evalue": "expected ':' (2169604326.py, line 2)",
     "output_type": "error",
     "traceback": [
      "\u001b[1;36m  Cell \u001b[1;32mIn[2], line 2\u001b[1;36m\u001b[0m\n\u001b[1;33m    def super_duper(number)\u001b[0m\n\u001b[1;37m                           ^\u001b[0m\n\u001b[1;31mSyntaxError\u001b[0m\u001b[1;31m:\u001b[0m expected ':'\n"
     ]
    }
   ],
   "source": [
    "#defines a function named super_duper that accepts numbers\n",
    "def super_duper(number)\n",
    "    \n",
    "    #Checks to see if it can be divided by 3 and 7\n",
    "    if number % 3 == 0 and number % 7 == 0:\n",
    "        \n",
    "        #If it can be divided it returns \"superduper\"\n",
    "        return \"superduper\"\n",
    "    #checks if the number can be evenly divided by 3\n",
    "    elif number % 3 == 0:\n",
    "        #if it is divisible it returns 'super'\n",
    "        return \"super\"\n",
    "    #Checks if the number can be evenly divided by 7\n",
    "    elif number % 7 == 0:\n",
    "        #if it can be divided by 7 only return \"duper\"\n",
    "        return \"duper\"\n",
    "    else:\n",
    "        #If it can not be divided by either 3 or 7 then it returns to it's original number. \n",
    "        return number \n",
    "    #defines the main function\n",
    "def main ():\n",
    "    #Loops though numbers raning from 51 to 99\n",
    "    for num in range(51, 100):\n",
    "        #Calls the super_duper function with each number then stores the result\n",
    "        result = super_duper(num)\n",
    "        #Prints the result\n",
    "        print(result)\n",
    "#Checks to see if script is being run directly. \n",
    "if __name__ == \"__main__\":\n",
    "    #calls the main function if so\n",
    "    main()"
   ]
  },
  {
   "cell_type": "code",
   "execution_count": null,
   "id": "0e4b1271",
   "metadata": {},
   "outputs": [],
   "source": []
  }
 ],
 "metadata": {
  "kernelspec": {
   "display_name": "Python 3 (ipykernel)",
   "language": "python",
   "name": "python3"
  },
  "language_info": {
   "codemirror_mode": {
    "name": "ipython",
    "version": 3
   },
   "file_extension": ".py",
   "mimetype": "text/x-python",
   "name": "python",
   "nbconvert_exporter": "python",
   "pygments_lexer": "ipython3",
   "version": "3.11.5"
  }
 },
 "nbformat": 4,
 "nbformat_minor": 5
}
