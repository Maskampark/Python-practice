{
 "cells": [
  {
   "cell_type": "markdown",
   "id": "2c5e6af4",
   "metadata": {},
   "source": [
    "# Final Exam Practical\n",
    "## Masone T Yang\n",
    "### Question 1.\n"
   ]
  },
  {
   "cell_type": "markdown",
   "id": "c4024472",
   "metadata": {},
   "source": [
    "# Please paste the following line of Python code in your coding environment:\n",
    "greeting = \"  Hello, little people of Earth!      \"\n",
    "\n",
    "Perform the following operations using a combination of Python functions, string methods, and math capabilities.\n",
    "\n",
    "Determine the length of the string.\n",
    "Determine if this length is evenly divisible by 5.\n",
    "Create and store a new version of the string in a newly named variable that removes any spaces at the end or the beginning of the string.\n",
    "Using string you created in step 2, store the first 5 characters of the string in a new variable.\n",
    "Using the string you created in step 4, append 59 'o' characters to the string and print out the result."
   ]
  },
  {
   "cell_type": "code",
   "execution_count": 1,
   "id": "0e153f12",
   "metadata": {},
   "outputs": [
    {
     "name": "stdout",
     "output_type": "stream",
     "text": [
      "Helloooooooooooooooooooooooooooooooooooooooooooooooooooooooooooo\n"
     ]
    }
   ],
   "source": [
    "#First, we determines the length of the string us length = len\n",
    "#Next we see if it can be divided by 5\n",
    "#After we creating a new version of the string without spacing.\n",
    "#Then, we store the first 5 characters of the string while also adding the appended \"o\"\n",
    "#Finally we print it out to display Helloo with a bunch of 'o's behind it\n",
    "\n",
    "\n",
    "#Original string of code\n",
    "greeting = \" Hello, little people of Earth! \"\n",
    "\n",
    "#This determines the length of the string\n",
    "length = len(greeting)\n",
    "#This determines if the length can be divided by 5\n",
    "divisible_by_5 = length % 5 == 0\n",
    "\n",
    "#This creates and stores a new version of the string without spaces that are trailing\n",
    "new_greeting = greeting.strip()\n",
    "\n",
    "#This stores the first 5 characters of the string\n",
    "first_5_chars = new_greeting[:5]\n",
    "\n",
    "#Appends 59 \"o\" characters to string to create in step 4\n",
    "appended_string = first_5_chars + 'o' * 59\n",
    "\n",
    "#Prints the appended string\n",
    "print(appended_string)\n",
    "\n"
   ]
  },
  {
   "cell_type": "code",
   "execution_count": null,
   "id": "bd476d91",
   "metadata": {},
   "outputs": [],
   "source": []
  }
 ],
 "metadata": {
  "kernelspec": {
   "display_name": "Python 3 (ipykernel)",
   "language": "python",
   "name": "python3"
  },
  "language_info": {
   "codemirror_mode": {
    "name": "ipython",
    "version": 3
   },
   "file_extension": ".py",
   "mimetype": "text/x-python",
   "name": "python",
   "nbconvert_exporter": "python",
   "pygments_lexer": "ipython3",
   "version": "3.11.5"
  }
 },
 "nbformat": 4,
 "nbformat_minor": 5
}
