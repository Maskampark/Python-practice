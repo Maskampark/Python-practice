{
 "cells": [
  {
   "cell_type": "markdown",
   "id": "16f29082",
   "metadata": {},
   "source": [
    "# Final Exam Practical\n",
    "## Masone T Yang\n",
    "### Question 1.\n"
   ]
  },
  {
   "cell_type": "markdown",
   "id": "391318d4",
   "metadata": {},
   "source": [
    "# Please paste the following line of Python code in your coding environment:\n",
    "greeting = \"  Hello, little people of Earth!      \"\n",
    "\n",
    "Perform the following operations using a combination of Python functions, string methods, and math capabilities.\n",
    "\n",
    "Determine the length of the string.\n",
    "Determine if this length is evenly divisible by 5.\n",
    "Create and store a new version of the string in a newly named variable that removes any spaces at the end or the beginning of the string.\n",
    "Using string you created in step 2, store the first 5 characters of the string in a new variable.\n",
    "Using the string you created in step 4, append 59 'o' characters to the string and print out the result."
   ]
  },
  {
   "cell_type": "code",
   "execution_count": 1,
   "id": "096d86bd",
   "metadata": {},
   "outputs": [
    {
     "name": "stdout",
     "output_type": "stream",
     "text": [
      "Helloooooooooooooooooooooooooooooooooooooooooooooooooooooooooooo\n"
     ]
    }
   ],
   "source": [
    "#First, we determines the length of the string us length = len\n",
    "#Next we see if it can be divided by 5\n",
    "#After we creating a new version of the string without spacing.\n",
    "#Then, we store the first 5 characters of the string while also adding the appended \"o\"\n",
    "#Finally we print it out to display Helloo with a bunch of 'o's behind it\n",
    "\n",
    "\n",
    "#Original string of code\n",
    "greeting = \" Hello, little people of Earth! \"\n",
    "\n",
    "#This determines the length of the string\n",
    "length = len(greeting)\n",
    "#This determines if the length can be divided by 5\n",
    "divisible_by_5 = length % 5 == 0\n",
    "\n",
    "#This creates and stores a new version of the string without spaces that are trailing\n",
    "new_greeting = greeting.strip()\n",
    "\n",
    "#This stores the first 5 characters of the string\n",
    "first_5_chars = new_greeting[:5]\n",
    "\n",
    "#Appends 59 \"o\" characters to string to create in step 4\n",
    "appended_string = first_5_chars + 'o' * 59\n",
    "\n",
    "#Prints the appended string\n",
    "print(appended_string)\n",
    "\n"
   ]
  },
  {
   "cell_type": "markdown",
   "id": "6d835493",
   "metadata": {},
   "source": [
    "### Please define a function named super_duper that accepts a number and then returns one of the following values:\n",
    "\n",
    "The function returns \"super\" if the number is evenly divisible by 3.\n",
    "The function returns \"duper\" if the number is evenly divisible by 7.\n",
    "The function returns \"superduper\" if the number is evenly divisible by 3 and 7.\n",
    "The function returns the number it was originally passed if the number is not divisible by either 3 or 7.\n",
    "Finally, please define a main function that loops through numbers 51 through 99 (inclusive) as inputs to the super_duper function and prints each of the results. Your instructor will call this main method to test your solution."
   ]
  },
  {
   "cell_type": "code",
   "execution_count": 3,
   "id": "eb3ce66b",
   "metadata": {},
   "outputs": [
    {
     "name": "stdout",
     "output_type": "stream",
     "text": [
      "super\n",
      "52\n",
      "53\n",
      "super\n",
      "55\n",
      "duper\n",
      "super\n",
      "58\n",
      "59\n",
      "super\n",
      "61\n",
      "62\n",
      "superduper\n",
      "64\n",
      "65\n",
      "super\n",
      "67\n",
      "68\n",
      "super\n",
      "duper\n",
      "71\n",
      "super\n",
      "73\n",
      "74\n",
      "super\n",
      "76\n",
      "duper\n",
      "super\n",
      "79\n",
      "80\n",
      "super\n",
      "82\n",
      "83\n",
      "superduper\n",
      "85\n",
      "86\n",
      "super\n",
      "88\n",
      "89\n",
      "super\n",
      "duper\n",
      "92\n",
      "super\n",
      "94\n",
      "95\n",
      "super\n",
      "97\n",
      "duper\n",
      "super\n"
     ]
    }
   ],
   "source": [
    "#First the question is asking us to create a functions that returns super if it can be dived by 3\n",
    "#and duper if it can be divided by 7\n",
    "#If it can be divided by both then it returns super duper back. \n",
    "#Finally I created a defined main function that loops through the numbers 51-100 and input super_duper and printed my results. \n",
    "\n",
    "\n",
    "\n",
    "#defines a function named super_duper that accepts numbers\n",
    "def super_duper(number):\n",
    "    \n",
    "    #Checks to see if it can be divided by 3 and 7\n",
    "    if number % 3 == 0 and number % 7 == 0:\n",
    "        \n",
    "        #If it can be divided it returns \"superduper\"\n",
    "        return \"superduper\"\n",
    "    #checks if the number can be evenly divided by 3\n",
    "    elif number % 3 == 0:\n",
    "        #if it is divisible it returns 'super'\n",
    "        return \"super\"\n",
    "    #Checks if the number can be evenly divided by 7\n",
    "    elif number % 7 == 0:\n",
    "        #if it can be divided by 7 only return \"duper\"\n",
    "        return \"duper\"\n",
    "    else:\n",
    "        #If it can not be divided by either 3 or 7 then it returns to it's original number. \n",
    "        return number \n",
    "    #defines the main function\n",
    "def main ():\n",
    "    #Loops though numbers raning from 51 to 99\n",
    "    for num in range(51, 100):\n",
    "        #Calls the super_duper function with each number then stores the result\n",
    "        result = super_duper(num)\n",
    "        #Prints the result\n",
    "        print(result)\n",
    "#Checks to see if script is being run directly. \n",
    "if __name__ == \"__main__\":\n",
    "    #calls the main function if so\n",
    "    main()"
   ]
  },
  {
   "cell_type": "markdown",
   "id": "4e8be4f6",
   "metadata": {},
   "source": [
    "### Please create two classes that implement all of the names, data attributes, and methods reflected in the following UML diagram. These classes will be used within an inventory management system for ACME Eyewear.\n",
    "\n",
    "The __str__() method in both classes should create a reasonable string representation for use in calls to the Python print() function."
   ]
  },
  {
   "cell_type": "code",
   "execution_count": 6,
   "id": "4af557d8",
   "metadata": {},
   "outputs": [
    {
     "ename": "NameError",
     "evalue": "name 'frame_material' is not defined",
     "output_type": "error",
     "traceback": [
      "\u001b[1;31m---------------------------------------------------------------------------\u001b[0m",
      "\u001b[1;31mNameError\u001b[0m                                 Traceback (most recent call last)",
      "Cell \u001b[1;32mIn[6], line 30\u001b[0m\n\u001b[0;32m     27\u001b[0m                 \u001b[38;5;28;01mreturn\u001b[39;00m (\u001b[38;5;124mf\u001b[39m\u001b[38;5;124m\"\u001b[39m\u001b[38;5;124mProduct ID: \u001b[39m\u001b[38;5;132;01m{\u001b[39;00m\u001b[38;5;28mself\u001b[39m\u001b[38;5;241m.\u001b[39mproduct_id\u001b[38;5;132;01m}\u001b[39;00m\u001b[38;5;124m, Name: \u001b[39m\u001b[38;5;132;01m{\u001b[39;00m\u001b[38;5;28mself\u001b[39m\u001b[38;5;241m.\u001b[39mname\u001b[38;5;132;01m}\u001b[39;00m\u001b[38;5;124m, Price: $\u001b[39m\u001b[38;5;132;01m{\u001b[39;00m\u001b[38;5;28mself\u001b[39m\u001b[38;5;241m.\u001b[39mprice\u001b[38;5;132;01m}\u001b[39;00m\u001b[38;5;124m, \u001b[39m\u001b[38;5;124m\"\u001b[39m\n\u001b[0;32m     28\u001b[0m                         \u001b[38;5;124mf\u001b[39m\u001b[38;5;124m\"\u001b[39m\u001b[38;5;124mFrame Material: \u001b[39m\u001b[38;5;132;01m{\u001b[39;00m\u001b[38;5;28mself\u001b[39m\u001b[38;5;241m.\u001b[39mframe_material\u001b[38;5;132;01m}\u001b[39;00m\u001b[38;5;124m, Lens Material: \u001b[39m\u001b[38;5;132;01m{\u001b[39;00m\u001b[38;5;28mself\u001b[39m\u001b[38;5;241m.\u001b[39mlens_material\u001b[38;5;132;01m}\u001b[39;00m\u001b[38;5;124m\"\u001b[39m)\n\u001b[0;32m     29\u001b[0m \u001b[38;5;66;03m#Creates a instance of Eyewear\u001b[39;00m\n\u001b[1;32m---> 30\u001b[0m eyewear \u001b[38;5;241m=\u001b[39m Eyewear(\u001b[38;5;124m\"\u001b[39m\u001b[38;5;124mEY001\u001b[39m\u001b[38;5;124m\"\u001b[39m, \u001b[38;5;124m\"\u001b[39m\u001b[38;5;124mSunglasses\u001b[39m\u001b[38;5;124m\"\u001b[39m, \u001b[38;5;241m50\u001b[39m, \u001b[38;5;124m\"\u001b[39m\u001b[38;5;124mPlastic\u001b[39m\u001b[38;5;124m\"\u001b[39m, \u001b[38;5;124m\"\u001b[39m\u001b[38;5;124mPolarized\u001b[39m\u001b[38;5;124m\"\u001b[39m)\n\u001b[0;32m     31\u001b[0m \u001b[38;5;66;03m#Prints and displays the string representation of the eyewear object\u001b[39;00m\n\u001b[0;32m     32\u001b[0m \u001b[38;5;28mprint\u001b[39m(eyewear)\n",
      "Cell \u001b[1;32mIn[6], line 20\u001b[0m, in \u001b[0;36mEyewear.__init__\u001b[1;34m(self, product_id, name, price, frame_matierial, lens_matieral)\u001b[0m\n\u001b[0;32m     18\u001b[0m \u001b[38;5;28msuper\u001b[39m()\u001b[38;5;241m.\u001b[39m\u001b[38;5;21m__init__\u001b[39m(product_id, name, price)\n\u001b[0;32m     19\u001b[0m \u001b[38;5;66;03m#Assigns a additional attribute to specific eyewear\u001b[39;00m\n\u001b[1;32m---> 20\u001b[0m \u001b[38;5;28mself\u001b[39m\u001b[38;5;241m.\u001b[39mframe_matieral \u001b[38;5;241m=\u001b[39m frame_material\n\u001b[0;32m     21\u001b[0m \u001b[38;5;28mself\u001b[39m\u001b[38;5;241m.\u001b[39mlens_material \u001b[38;5;241m=\u001b[39m lens_material\n",
      "\u001b[1;31mNameError\u001b[0m: name 'frame_material' is not defined"
     ]
    }
   ],
   "source": [
    "#First, the question is asking us to create two classes that implement all of the names data attributes and methods.\n",
    "#Then it ask you to use the str()method in both classes.\n",
    "#After creating the two classes you create a instance of eyewear.\n",
    "#Finally it prints out the result. \n",
    "\n",
    "\n",
    "#Creates a class named product\n",
    "class Product:\n",
    "    #constructor method to initialize instances of product\n",
    "    def __init__(self, product_id, name, price):\n",
    "        #Assigns values to instance variables\n",
    "        self.product_id = product_id\n",
    "        self.name = name\n",
    "        self.price = price\n",
    "    #Provides a string representation of product objects\n",
    "    def __str__(self):\n",
    "        #Returns a formmated string with the products information\n",
    "        return f\"Product ID: {self.product_id}, Name: {self.name}, Price: ${self.price}\"\n",
    "#Creates a class named Eyewear\n",
    "class Eyewear(Product):\n",
    "    #constructor method to initialize instances of eyewear\n",
    "    def __init__(self, product_id, name, price, frame_matierial, lens_matieral):\n",
    "        #Calls the constructor of the superclass to inherit attributes\n",
    "        super().__init__(product_id, name, price)\n",
    "        #Assigns a additional attribute to specific eyewear\n",
    "        self.frame_matieral = frame_material\n",
    "        self.lens_material = lens_material\n",
    "        \n",
    "    \n",
    "    #Provides a string to eyewear objects\n",
    "    def __str__(self):\n",
    "                #Returns the formatted string of eyewear info\n",
    "                return (f\"Product ID: {self.product_id}, Name: {self.name}, Price: ${self.price}, \"\n",
    "                        f\"Frame Material: {self.frame_material}, Lens Material: {self.lens_material}\")\n",
    "#Creates a instance of Eyewear\n",
    "eyewear = Eyewear(\"EY001\", \"Sunglasses\", 50, \"Plastic\", \"Polarized\")\n",
    "#Prints and displays the string representation of the eyewear object\n",
    "print(eyewear)"
   ]
  },
  {
   "cell_type": "code",
   "execution_count": 7,
   "id": "a0ac68e7",
   "metadata": {},
   "outputs": [
    {
     "name": "stdout",
     "output_type": "stream",
     "text": [
      "Product ID: EY001, Name: Sunglasses, Price: $50, Frame Material: Plastic, Lens Material: Polarized\n"
     ]
    }
   ],
   "source": [
    "# Creates a class named Product\n",
    "class Product:\n",
    "    # Constructor method to initialize instances of Product\n",
    "    def __init__(self, product_id, name, price):\n",
    "        # Assigns values to instance variables\n",
    "        self.product_id = product_id\n",
    "        self.name = name\n",
    "        self.price = price\n",
    "    \n",
    "    # Provides a string representation of Product objects\n",
    "    def __str__(self):\n",
    "        # Returns a formatted string with the product's information\n",
    "        return f\"Product ID: {self.product_id}, Name: {self.name}, Price: ${self.price}\"\n",
    "\n",
    "# Creates a class named Eyewear, inheriting from Product\n",
    "class Eyewear(Product):\n",
    "    # Constructor method to initialize instances of Eyewear\n",
    "    def __init__(self, product_id, name, price, frame_material, lens_material):\n",
    "        # Calls the constructor of the superclass to inherit attributes\n",
    "        super().__init__(product_id, name, price)\n",
    "        # Assigns additional attributes specific to Eyewear\n",
    "        self.frame_material = frame_material\n",
    "        self.lens_material = lens_material\n",
    "    \n",
    "    # Provides a string representation of Eyewear objects\n",
    "    def __str__(self):\n",
    "        # Returns the formatted string of eyewear info, including inherited attributes from Product\n",
    "        return (f\"Product ID: {self.product_id}, Name: {self.name}, Price: ${self.price}, \"\n",
    "                f\"Frame Material: {self.frame_material}, Lens Material: {self.lens_material}\")\n",
    "\n",
    "# Creates an instance of Eyewear\n",
    "eyewear = Eyewear(\"EY001\", \"Sunglasses\", 50, \"Plastic\", \"Polarized\")\n",
    "# Prints and displays the string representation of the eyewear object\n",
    "print(eyewear)"
   ]
  },
  {
   "cell_type": "code",
   "execution_count": null,
   "id": "1c0ac5ec",
   "metadata": {},
   "outputs": [],
   "source": []
  }
 ],
 "metadata": {
  "kernelspec": {
   "display_name": "Python 3 (ipykernel)",
   "language": "python",
   "name": "python3"
  },
  "language_info": {
   "codemirror_mode": {
    "name": "ipython",
    "version": 3
   },
   "file_extension": ".py",
   "mimetype": "text/x-python",
   "name": "python",
   "nbconvert_exporter": "python",
   "pygments_lexer": "ipython3",
   "version": "3.11.5"
  }
 },
 "nbformat": 4,
 "nbformat_minor": 5
}
