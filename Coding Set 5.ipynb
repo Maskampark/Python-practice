{
 "cells": [
  {
   "cell_type": "markdown",
   "id": "b4c3e548",
   "metadata": {},
   "source": [
    "# Ch. 5 Coding Set\n",
    "## Masone Yang\n",
    "## Algorthim Workbench\n"
   ]
  },
  {
   "cell_type": "markdown",
   "id": "7db169f6",
   "metadata": {},
   "source": [
    "### 1. \n",
    "Write a function named times_ten. The function should accept an argument and\n",
    "display the product of its argument multiplied times 10."
   ]
  },
  {
   "cell_type": "code",
   "execution_count": null,
   "id": "b8925dcf",
   "metadata": {},
   "outputs": [],
   "source": [
    "def times_ten(number):\n",
    "    product = number * 10\n",
    "    print(\"The product of\", number, \"multiplied by 10 is:\", product)\n",
    "    # Example\n",
    "# Call the function with an argument\n",
    "times_ten(5)\n",
    "#When you call this function with an argument, \n",
    "#it will display the product of the argument multiplied by 10. \n",
    "\n"
   ]
  }
 ],
 "metadata": {
  "kernelspec": {
   "display_name": "Python 3 (ipykernel)",
   "language": "python",
   "name": "python3"
  },
  "language_info": {
   "codemirror_mode": {
    "name": "ipython",
    "version": 3
   },
   "file_extension": ".py",
   "mimetype": "text/x-python",
   "name": "python",
   "nbconvert_exporter": "python",
   "pygments_lexer": "ipython3",
   "version": "3.11.5"
  }
 },
 "nbformat": 4,
 "nbformat_minor": 5
}
