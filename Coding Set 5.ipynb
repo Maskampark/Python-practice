{
 "cells": [
  {
   "cell_type": "markdown",
   "id": "8027051e",
   "metadata": {},
   "source": [
    "# Ch. 5 Coding Set\n",
    "## Masone Yang\n",
    "## Algorthim Workbench\n"
   ]
  },
  {
   "cell_type": "markdown",
   "id": "6aa6f1f2",
   "metadata": {},
   "source": [
    "### 1. \n",
    "Write a function named times_ten. The function should accept an argument and\n",
    "display the product of its argument multiplied times 10."
   ]
  },
  {
   "cell_type": "code",
   "execution_count": 4,
   "id": "c4f15d06",
   "metadata": {},
   "outputs": [
    {
     "name": "stdout",
     "output_type": "stream",
     "text": [
      "The product of 7 multiplied by 10 is: 70\n"
     ]
    }
   ],
   "source": [
    "# First, The line 'def times_ten(number)'' defines a function named times_ten. \n",
    "#It takes one parameter, number, which is the number to be multiplied by 10.\n",
    "#Next, the product = number * 10 line calculates the product of the input number multiplied by 10 \n",
    "#then assigns it to the variable product.\n",
    "#After, the line print(\"The product of\", number.... prints a message to the console \n",
    "#displaying the original number, the fact that it's multiplied by 10, and the resulting product. \n",
    "#Also, the values of number and product are inserted into the message using string formatting.\n",
    "#Furthermore, the function does not contain a return statement, that indicates that it does not explicitly return any value. \n",
    "#Instead, it simply displays the result to the user.\n",
    "def times_ten(number):\n",
    "    product = number * 10\n",
    "    print(\"The product of\", number, \"multiplied by 10 is:\", product)\n",
    "\n",
    "# Example usage:\n",
    "times_ten(7)"
   ]
  },
  {
   "cell_type": "markdown",
   "id": "fd757307",
   "metadata": {},
   "source": [
    "### 10. \n",
    "Write a function named get_first_name that asks the user to enter his or her first\n",
    "name, and returns it.\n"
   ]
  },
  {
   "cell_type": "code",
   "execution_count": 7,
   "id": "e7bf0007",
   "metadata": {},
   "outputs": [
    {
     "ename": "SyntaxError",
     "evalue": "incomplete input (3584650650.py, line 8)",
     "output_type": "error",
     "traceback": [
      "\u001b[1;36m  Cell \u001b[1;32mIn[7], line 8\u001b[1;36m\u001b[0m\n\u001b[1;33m    print(\"Masone:\", user_first_name\u001b[0m\n\u001b[1;37m                                    ^\u001b[0m\n\u001b[1;31mSyntaxError\u001b[0m\u001b[1;31m:\u001b[0m incomplete input\n"
     ]
    }
   ],
   "source": [
    "#First, the line def get_first_name defines a function named get_first_name with no parameters.\n",
    "#Next, The line first_name = input(\"Enter your first name: \"): \n",
    "#prompts user to enter their first name using the input function and stores the 'first name variable'.\n",
    "#Finally, the first_name returns the 'first_name variable to the user\n",
    "#go below to see the rest of the problem\n",
    "def get_first_name():\n",
    "   \n",
    "    first_name = input(\"Error: \")\n",
    "    return first_name\n",
    "\n",
    "# Call the function to get the user's first name\n",
    "user_first_name = get_first_name()\n",
    "print(\"Error:\", user_first_name"
   ]
  },
  {
   "cell_type": "code",
   "execution_count": 9,
   "id": "e7887133",
   "metadata": {},
   "outputs": [
    {
     "name": "stdout",
     "output_type": "stream",
     "text": [
      "Please enter your first name: Masone\n",
      "Your first name is: Masone\n"
     ]
    }
   ],
   "source": [
    "#new line of code revised for question 10\n",
    "#First, add a while loop to continuously prompt the user until they provide a non-empty input.\n",
    "#Then use .strip() to remove any leading or trailing whitespace from the user's input.\n",
    "#Next, add a message to notify the user if they provide an empty input and prompt them to try again.\n",
    "#Finally modify the input prompt to provide clearer instructions to the user.\n",
    "#Doing this should fix the error of not being able to enter your name.\n",
    "\n",
    "\n",
    "\n",
    "\n",
    "def get_first_name():\n",
    "    \n",
    "    while True:\n",
    "        first_name = input(\"Please enter your first name: \").strip()  # Strip leading/trailing whitespace\n",
    "        if first_name:  # Check if the input is not empty\n",
    "            return first_name\n",
    "        else:\n",
    "            print(\"Invalid input. Please enter your first name.\")\n",
    "\n",
    "# Example usage:\n",
    "user_first_name = get_first_name()\n",
    "print(\"Your first name is:\", user_first_name)"
   ]
  },
  {
   "cell_type": "markdown",
   "id": "010a2671",
   "metadata": {},
   "source": [
    "### Programming Exercised"
   ]
  },
  {
   "cell_type": "markdown",
   "id": "7dc6112a",
   "metadata": {},
   "source": [
    "### 1. Kilometer Converter\n",
    "Write a program that asks the user to enter a distance in kilometers, then converts that\n",
    "distance to miles. The conversion formula is as follows:\n",
    "Miles 5 Kilometers 3 0.6214"
   ]
  },
  {
   "cell_type": "code",
   "execution_count": null,
   "id": "5fc8daac",
   "metadata": {},
   "outputs": [],
   "source": []
  }
 ],
 "metadata": {
  "kernelspec": {
   "display_name": "Python 3 (ipykernel)",
   "language": "python",
   "name": "python3"
  },
  "language_info": {
   "codemirror_mode": {
    "name": "ipython",
    "version": 3
   },
   "file_extension": ".py",
   "mimetype": "text/x-python",
   "name": "python",
   "nbconvert_exporter": "python",
   "pygments_lexer": "ipython3",
   "version": "3.11.5"
  }
 },
 "nbformat": 4,
 "nbformat_minor": 5
}
