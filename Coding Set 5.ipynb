{
 "cells": [
  {
   "cell_type": "markdown",
   "id": "0a62d96f",
   "metadata": {},
   "source": [
    "# Ch. 5 Coding Set\n",
    "## Masone Yang\n",
    "## Algorthim Workbench\n"
   ]
  },
  {
   "cell_type": "markdown",
   "id": "96886e4c",
   "metadata": {},
   "source": [
    "### 1. \n",
    "Write a function named times_ten. The function should accept an argument and\n",
    "display the product of its argument multiplied times 10."
   ]
  },
  {
   "cell_type": "code",
   "execution_count": 4,
   "id": "2df84c37",
   "metadata": {},
   "outputs": [
    {
     "name": "stdout",
     "output_type": "stream",
     "text": [
      "The product of 7 multiplied by 10 is: 70\n"
     ]
    }
   ],
   "source": [
    "# First, The line 'def times_ten(number)'' defines a function named times_ten. \n",
    "#It takes one parameter, number, which is the number to be multiplied by 10.\n",
    "#Next, the product = number * 10 line calculates the product of the input number multiplied by 10 \n",
    "#then assigns it to the variable product.\n",
    "#After, the line print(\"The product of\", number.... prints a message to the console \n",
    "#displaying the original number, the fact that it's multiplied by 10, and the resulting product. \n",
    "#Also, the values of number and product are inserted into the message using string formatting.\n",
    "#Furthermore, the function does not contain a return statement, that indicates that it does not explicitly return any value. \n",
    "#Instead, it simply displays the result to the user.\n",
    "def times_ten(number):\n",
    "    product = number * 10\n",
    "    print(\"The product of\", number, \"multiplied by 10 is:\", product)\n",
    "\n",
    "# Example usage:\n",
    "times_ten(7)"
   ]
  },
  {
   "cell_type": "markdown",
   "id": "a7292471",
   "metadata": {},
   "source": [
    "### 10. \n",
    "Write a function named get_first_name that asks the user to enter his or her first\n",
    "name, and returns it.\n"
   ]
  },
  {
   "cell_type": "code",
   "execution_count": 5,
   "id": "eed54f17",
   "metadata": {},
   "outputs": [
    {
     "ename": "SyntaxError",
     "evalue": "incomplete input (792626151.py, line 10)",
     "output_type": "error",
     "traceback": [
      "\u001b[1;36m  Cell \u001b[1;32mIn[5], line 10\u001b[1;36m\u001b[0m\n\u001b[1;33m    print(\"Your first name is:\", user_first_name\u001b[0m\n\u001b[1;37m                                                ^\u001b[0m\n\u001b[1;31mSyntaxError\u001b[0m\u001b[1;31m:\u001b[0m incomplete input\n"
     ]
    }
   ],
   "source": [
    "#\n",
    "\n",
    "def get_first_name():\n",
    "   \n",
    "    first_name = input(\"Enter your first name: \")\n",
    "    return first_name\n",
    "\n",
    "# Call the function to get the user's first name\n",
    "user_first_name = get_first_name()\n",
    "print(\"Your first name is:\", user_first_name"
   ]
  },
  {
   "cell_type": "code",
   "execution_count": null,
   "id": "b186b474",
   "metadata": {},
   "outputs": [],
   "source": []
  }
 ],
 "metadata": {
  "kernelspec": {
   "display_name": "Python 3 (ipykernel)",
   "language": "python",
   "name": "python3"
  },
  "language_info": {
   "codemirror_mode": {
    "name": "ipython",
    "version": 3
   },
   "file_extension": ".py",
   "mimetype": "text/x-python",
   "name": "python",
   "nbconvert_exporter": "python",
   "pygments_lexer": "ipython3",
   "version": "3.11.5"
  }
 },
 "nbformat": 4,
 "nbformat_minor": 5
}
