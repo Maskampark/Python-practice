{
 "cells": [
  {
   "cell_type": "markdown",
   "id": "359fdaab",
   "metadata": {},
   "source": [
    "# Ch. 5 Coding Set\n",
    "## Masone Yang\n",
    "## Algorthim Workbench\n"
   ]
  },
  {
   "cell_type": "markdown",
   "id": "d1853a02",
   "metadata": {},
   "source": [
    "### 1. \n",
    "Write a function named times_ten. The function should accept an argument and\n",
    "display the product of its argument multiplied times 10."
   ]
  },
  {
   "cell_type": "code",
   "execution_count": 4,
   "id": "fec7c835",
   "metadata": {},
   "outputs": [
    {
     "name": "stdout",
     "output_type": "stream",
     "text": [
      "The product of 7 multiplied by 10 is: 70\n"
     ]
    }
   ],
   "source": [
    "# First, The line 'def times_ten(number)'' defines a function named times_ten. \n",
    "#It takes one parameter, number, which is the number to be multiplied by 10.\n",
    "#Next, the product = number * 10 line calculates the product of the input number multiplied by 10 \n",
    "#then assigns it to the variable product.\n",
    "#After, the line print(\"The product of\", number.... prints a message to the console \n",
    "#displaying the original number, the fact that it's multiplied by 10, and the resulting product. \n",
    "#Also, the values of number and product are inserted into the message using string formatting.\n",
    "#Furthermore, the function does not contain a return statement, that indicates that it does not explicitly return any value. \n",
    "#Instead, it simply displays the result to the user.\n",
    "def times_ten(number):\n",
    "    product = number * 10\n",
    "    print(\"The product of\", number, \"multiplied by 10 is:\", product)\n",
    "\n",
    "# Example usage:\n",
    "times_ten(7)"
   ]
  },
  {
   "cell_type": "markdown",
   "id": "fbe9e7b6",
   "metadata": {},
   "source": [
    "### 10. \n",
    "Write a function named get_first_name that asks the user to enter his or her first\n",
    "name, and returns it.\n"
   ]
  },
  {
   "cell_type": "code",
   "execution_count": 7,
   "id": "d715a592",
   "metadata": {},
   "outputs": [
    {
     "ename": "SyntaxError",
     "evalue": "incomplete input (3584650650.py, line 8)",
     "output_type": "error",
     "traceback": [
      "\u001b[1;36m  Cell \u001b[1;32mIn[7], line 8\u001b[1;36m\u001b[0m\n\u001b[1;33m    print(\"Masone:\", user_first_name\u001b[0m\n\u001b[1;37m                                    ^\u001b[0m\n\u001b[1;31mSyntaxError\u001b[0m\u001b[1;31m:\u001b[0m incomplete input\n"
     ]
    }
   ],
   "source": [
    "#First, the line def get_first_name defines a function named get_first_name with no parameters.\n",
    "#Next, The line first_name = input(\"Enter your first name: \"): \n",
    "#prompts user to enter their first name using the input function and stores the 'first name variable'.\n",
    "#Finally, the first_name returns the 'first_name variable to the user\n",
    "#go below to see the rest of the problem\n",
    "def get_first_name():\n",
    "   \n",
    "    first_name = input(\"Error: \")\n",
    "    return first_name\n",
    "\n",
    "# Call the function to get the user's first name\n",
    "user_first_name = get_first_name()\n",
    "print(\"Error:\", user_first_name"
   ]
  },
  {
   "cell_type": "code",
   "execution_count": 9,
   "id": "c8d4012d",
   "metadata": {},
   "outputs": [
    {
     "name": "stdout",
     "output_type": "stream",
     "text": [
      "Please enter your first name: Masone\n",
      "Your first name is: Masone\n"
     ]
    }
   ],
   "source": [
    "#new line of code revised for question 10\n",
    "#First, add a while loop to continuously prompt the user until they provide a non-empty input.\n",
    "#Then use .strip() to remove any leading or trailing whitespace from the user's input.\n",
    "#Next, add a message to notify the user if they provide an empty input and prompt them to try again.\n",
    "#Finally modify the input prompt to provide clearer instructions to the user.\n",
    "#Doing this should fix the error of not being able to enter your name.\n",
    "\n",
    "\n",
    "\n",
    "\n",
    "def get_first_name():\n",
    "    \n",
    "    while True:\n",
    "        first_name = input(\"Please enter your first name: \").strip()  # Strip leading/trailing whitespace\n",
    "        if first_name:  # Check if the input is not empty\n",
    "            return first_name\n",
    "        else:\n",
    "            print(\"Invalid input. Please enter your first name.\")\n",
    "\n",
    "# Example usage:\n",
    "user_first_name = get_first_name()\n",
    "print(\"Your first name is:\", user_first_name)"
   ]
  },
  {
   "cell_type": "markdown",
   "id": "4fcf1428",
   "metadata": {},
   "source": [
    "### Programming Exercised"
   ]
  },
  {
   "cell_type": "markdown",
   "id": "dac5f06d",
   "metadata": {},
   "source": [
    "### 1. Kilometer Converter\n",
    "Write a program that asks the user to enter a distance in kilometers, then converts that\n",
    "distance to miles. The conversion formula is as follows:\n",
    "Miles 5 Kilometers 3 0.6214"
   ]
  },
  {
   "cell_type": "code",
   "execution_count": 10,
   "id": "11461fc2",
   "metadata": {},
   "outputs": [
    {
     "name": "stdout",
     "output_type": "stream",
     "text": [
      "Enter a distance in kilometers: 60\n",
      "The distance in miles is: 37.284\n"
     ]
    }
   ],
   "source": [
    "#The code is converting the distances from kilometers to miles. \n",
    "#First, it prompts the user to input a distance in kilometers. \n",
    "#Then, it uses a conversion formula to convert the distance to miles. \n",
    "#Finally, it displays the converted distance in miles to the user. \n",
    "\n",
    "def kilometers_to_miles(kilometers):\n",
    "    \n",
    "    \n",
    "    \n",
    "    miles = kilometers * 0.6214\n",
    "    \n",
    "    \n",
    "    return miles\n",
    "\n",
    "\n",
    "def main():\n",
    "   \n",
    "\n",
    "\n",
    "    # Input from the user\n",
    "    kilometers = float(input(\"Enter a distance in kilometers: \"))\n",
    "\n",
    "    # Conversion of kilometers to miles\n",
    "    miles = kilometers_to_miles(kilometers)\n",
    "\n",
    "    # Result\n",
    "    print(\"The distance in miles is:\", miles)\n",
    "\n",
    "# Call the main function to run the program\n",
    "main()"
   ]
  },
  {
   "cell_type": "markdown",
   "id": "e7da664e",
   "metadata": {},
   "source": [
    "### 17. Prime Numbers\n",
    "A prime number is a number that is only evenly divisible by itself and 1. For example, the\n",
    "number 5 is prime because it can only be evenly divided by 1 and 5. The number 6, however, is not prime because it can be divided evenly by 1, 2, 3, and 6.\n",
    "Write a Boolean function named is_prime which takes an integer as an argument and\n",
    "returns true if the argument is a prime number, or false otherwise. Use the function in\n",
    "a program that prompts the user to enter a number then displays a message indicating\n",
    "whether the number is prime."
   ]
  },
  {
   "cell_type": "code",
   "execution_count": 12,
   "id": "afe659c9",
   "metadata": {},
   "outputs": [
    {
     "name": "stdout",
     "output_type": "stream",
     "text": [
      "Enter a number: 7\n",
      "7 is a prime number.\n"
     ]
    }
   ],
   "source": [
    "#First, the 'is_prime' function takes an integer as input and returns True if the number is prime and False otherwise.\n",
    "#The code first checks if the number is less than or equal to 1, in which case it's not prime.\n",
    "#Then, it iterates from 2 to the square root of the number, \n",
    "#checking if the number is divisible by any other number in that range.\n",
    "#Next, if the number is divisible by any other number, it then returns it as False; otherwise, it returns True.\n",
    "#The main function tells you to enter a number, then it calls the 'is_prime' function to check if the number is prime, \n",
    "#and displays the result after. \n",
    "\n",
    "\n",
    "def is_prime(number):\n",
    "    if number <= 1:  # Numbers less than or equal to 1 are not prime\n",
    "        return False\n",
    "    for i in range(2, int(number**0.5) + 1):  # Check divisibility up to the square root of the number\n",
    "        if number % i == 0:\n",
    "            return False  # If the number is divisible by any other number, it's not prime\n",
    "    return True\n",
    "\n",
    "def main():\n",
    "    number = int(input(\"Enter a number: \"))  # Get input from the user\n",
    "    if is_prime(number):\n",
    "        print(number, \"is a prime number.\")\n",
    "    else:\n",
    "        print(number, \"is not a prime number.\")\n",
    "\n",
    "# Call the main function to run the program\n",
    "main()\n",
    "\n",
    "\n"
   ]
  },
  {
   "cell_type": "markdown",
   "id": "48b80ded",
   "metadata": {},
   "source": [
    "### 18. Prime Number List\n",
    "This exercise assumes that you have already written the is_prime function in Programming\n",
    "Exercise 17. Write another program that displays all of the prime numbers from 1 to 100.\n",
    "The program should have a loop that calls the is_prime function."
   ]
  },
  {
   "cell_type": "code",
   "execution_count": 13,
   "id": "7cf2181d",
   "metadata": {},
   "outputs": [],
   "source": [
    "#First, the 'is_prime' checks whether a given number is prime or not.\n",
    "#Next, the 'prime_number_list' iterates through numbers from 1 to 100 using a 'for' loop.\n",
    "#Also, for each number within the range, it asks the is_prime function to check if the number is prime.\n",
    "#Furthermore, if the number is prime, it prints the number on the same line, separated by a space.\n",
    "#Finally, after iterating through all numbers from 1 to 100, it displays the prime numbers in the specified range.\n",
    "\n",
    "def is_prime(number):\n",
    "   \n",
    "    if number <= 1:\n",
    "        return False\n",
    "    for i in range(2, int(number**0.5) + 1):\n",
    "        if number % i == 0:\n",
    "            return False\n",
    "    return True\n",
    "\n",
    "def prime_number_list():\n",
    "    print(\"Prime numbers from 1 to 100:\")\n",
    "    for number in range(1, 101):\n",
    "        if is_prime(number):\n",
    "            print(number, end=\" \")\n",
    "\n",
    "# Call the prime_number_list function to display prime numbers from 1 to 100\n",
    "prime_number_list()"
   ]
  },
  {
   "cell_type": "code",
   "execution_count": null,
   "id": "9de5c2c2",
   "metadata": {},
   "outputs": [],
   "source": []
  }
 ],
 "metadata": {
  "kernelspec": {
   "display_name": "Python 3 (ipykernel)",
   "language": "python",
   "name": "python3"
  },
  "language_info": {
   "codemirror_mode": {
    "name": "ipython",
    "version": 3
   },
   "file_extension": ".py",
   "mimetype": "text/x-python",
   "name": "python",
   "nbconvert_exporter": "python",
   "pygments_lexer": "ipython3",
   "version": "3.11.5"
  }
 },
 "nbformat": 4,
 "nbformat_minor": 5
}
