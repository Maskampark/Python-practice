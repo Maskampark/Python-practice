{
 "cells": [
  {
   "cell_type": "markdown",
   "id": "be50c464",
   "metadata": {},
   "source": [
    "# Ch. 5 Coding Set\n",
    "## Masone Yang\n",
    "## Algorthim Workbench\n"
   ]
  },
  {
   "cell_type": "markdown",
   "id": "00f18853",
   "metadata": {},
   "source": [
    "### 1. \n",
    "Write a function named times_ten. The function should accept an argument and\n",
    "display the product of its argument multiplied times 10."
   ]
  },
  {
   "cell_type": "code",
   "execution_count": 4,
   "id": "be80125f",
   "metadata": {},
   "outputs": [
    {
     "name": "stdout",
     "output_type": "stream",
     "text": [
      "The product of 7 multiplied by 10 is: 70\n"
     ]
    }
   ],
   "source": [
    "# First, The line 'def times_ten(number)'' defines a function named times_ten. \n",
    "#It takes one parameter, number, which is the number to be multiplied by 10.\n",
    "#Next, the product = number * 10 line calculates the product of the input number multiplied by 10 \n",
    "#then assigns it to the variable product.\n",
    "#After, the line print(\"The product of\", number.... prints a message to the console \n",
    "#displaying the original number, the fact that it's multiplied by 10, and the resulting product. \n",
    "#Also, the values of number and product are inserted into the message using string formatting.\n",
    "#Furthermore, the function does not contain a return statement, that indicates that it does not explicitly return any value. \n",
    "#Instead, it simply displays the result to the user.\n",
    "def times_ten(number):\n",
    "    product = number * 10\n",
    "    print(\"The product of\", number, \"multiplied by 10 is:\", product)\n",
    "\n",
    "# Example usage:\n",
    "times_ten(7)"
   ]
  },
  {
   "cell_type": "code",
   "execution_count": null,
   "id": "413f9c7f",
   "metadata": {},
   "outputs": [],
   "source": [
    "### "
   ]
  }
 ],
 "metadata": {
  "kernelspec": {
   "display_name": "Python 3 (ipykernel)",
   "language": "python",
   "name": "python3"
  },
  "language_info": {
   "codemirror_mode": {
    "name": "ipython",
    "version": 3
   },
   "file_extension": ".py",
   "mimetype": "text/x-python",
   "name": "python",
   "nbconvert_exporter": "python",
   "pygments_lexer": "ipython3",
   "version": "3.11.5"
  }
 },
 "nbformat": 4,
 "nbformat_minor": 5
}
