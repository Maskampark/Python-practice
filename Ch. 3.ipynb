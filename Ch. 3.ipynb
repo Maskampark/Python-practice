{
 "cells": [
  {
   "cell_type": "markdown",
   "id": "f2e56017",
   "metadata": {},
   "source": [
    "# Ch. 3 Coding Set"
   ]
  },
  {
   "cell_type": "markdown",
   "id": "7b61e226",
   "metadata": {},
   "source": [
    "## Masone Yang"
   ]
  },
  {
   "cell_type": "markdown",
   "id": "3c6031c6",
   "metadata": {},
   "source": [
    "### Algorithm Workbench (Two Questions)\n"
   ]
  },
  {
   "cell_type": "markdown",
   "id": "caaf06bc",
   "metadata": {},
   "source": [
    "### Question 4 \n",
    "The following code contains several nested if-else statements. Unfortunately, it\n",
    "was written without proper alignment and indentation. Rewrite the code and use the\n",
    "proper conventions of alignment and indentation.\n",
    "if score >= A_score:\n",
    "print('Your grade is A.')\n",
    "else:\n",
    "if score >= B_score:\n",
    "print('Your grade is B.')\n",
    "else:\n",
    "if score >= C_score:\n",
    "print('Your grade is C.')\n",
    "else:\n",
    "if score >= D_score:\n",
    "print('Your grade is D.')\n",
    "else:\n",
    "print('Your grade is F.')\n"
   ]
  },
  {
   "cell_type": "code",
   "execution_count": 2,
   "id": "e21f92a6",
   "metadata": {},
   "outputs": [
    {
     "name": "stdout",
     "output_type": "stream",
     "text": [
      "Your grade is A.\n"
     ]
    }
   ],
   "source": [
    "#The code was written without proper alignment and indentation.\n",
    "#First we are going to rewrite the code.\n",
    "#After, we will properly align the code.\n",
    "#Finally, we will indent the code.\n",
    "\n",
    "score = 99  # Replace the number with the score you want to evaluate. I chose 99. \n",
    "\n",
    "#This is code to define our code for the scores. Without it you will get an error.\n",
    "A_score = 90\n",
    "\n",
    "B_score = 80\n",
    "\n",
    "C_score = 70\n",
    "\n",
    "D_score = 60\n",
    "\n",
    "if score > A_score:\n",
    "    print(\"Your grade is A.\")\n",
    "else:\n",
    "    if score > B_score:\n",
    "        print(\"Your grade is B.\")\n",
    "    else:\n",
    "        if score > C_score:\n",
    "            print(\"Your grade is C.\")\n",
    "        else:\n",
    "            if score > D_score:\n",
    "                print(\"Your grade is D.\")\n",
    "            else:\n",
    "                print(\"Your grade is F.\")\n"
   ]
  },
  {
   "cell_type": "markdown",
   "id": "84e75672",
   "metadata": {},
   "source": [
    "### Question 5\n",
    "\n",
    "Write nested decision structures that perform the following: If amount1 is greater than\n",
    "10 and amount2 is less than 100, display the greater of amount1 and amount2."
   ]
  },
  {
   "cell_type": "code",
   "execution_count": 3,
   "id": "bee31773",
   "metadata": {},
   "outputs": [
    {
     "name": "stdout",
     "output_type": "stream",
     "text": [
      "amount1 is not greater than 10.\n"
     ]
    }
   ],
   "source": [
    "#We are writing a nested decision structure that will perform the following:\n",
    "#If amount1 is greater than 10 and amount2 is less than 100, display the greater of amount1 and amount2.\n",
    "#First, I will be assigning the variables \n",
    "#Next I will be writing a if-else statement with correct indentation and allignment. \n",
    "#Finally I will be running the code to see if it works.\n",
    "\n",
    "amount1 = 7  # Replace with actual value of amount1\n",
    "amount2 = 77  # Replace with actual value of amount2\n",
    "\n",
    "if amount1 > 10:\n",
    "    if amount2 < 100:\n",
    "        if amount1 > amount2:\n",
    "            print(\"The greater amount is:\", amount1)\n",
    "        else:\n",
    "            print(\"The greater amount is:\", amount2)\n",
    "    else:\n",
    "        print(\"amount2 is not less than 100.\")\n",
    "else:\n",
    "    print(\"amount1 is not greater than 10.\")"
   ]
  },
  {
   "cell_type": "markdown",
   "id": "ed2cdb14",
   "metadata": {},
   "source": [
    "## Programming Exercises "
   ]
  },
  {
   "cell_type": "markdown",
   "id": "a130c309",
   "metadata": {},
   "source": [
    "### Question 1\n",
    "1. Day of the Week\n",
    "Write a program that asks the user for a number in the range of 1 through 7.\n",
    "The program should display the corresponding day of the week, where 1 = Monday, 2 = Tuesday,\n",
    "3 = Wednesday, 4 = Thursday, 5 = Friday, 6 = Saturday, and 7 = Sunday.\n",
    "The program should\n",
    "display an error message if the user enters a number that is outside the range of 1 through 7.\n"
   ]
  },
  {
   "cell_type": "code",
   "execution_count": 4,
   "id": "0e2e2f90",
   "metadata": {},
   "outputs": [
    {
     "name": "stdout",
     "output_type": "stream",
     "text": [
      "Enter a number from 1 through 7: 3\n",
      "The corresponding day of the week is: Wednesday\n"
     ]
    }
   ],
   "source": [
    "#We are being asked to write a program that asks the user for a number in the range of 1 through 7.\n",
    "#The program should display the corresponding day of the week, where 1 = Monday, 2 = Tuesday, 3 = Wednesday, 4 = Thursday,\n",
    "#5 = Friday, 6 = Saturday, and 7 = Sunday. \n",
    "#The program should display an error message if the user enters a number that is outside the range of 1 through 7.\n",
    "\n",
    "\n",
    "# Ask for the input from the user\n",
    "day_number = int(input(\"Enter a number from 1 through 7: \"))\n",
    "\n",
    "# Check if the input is in the range of 1 to 7\n",
    "if 1 <= day_number <= 7:\n",
    "    # Define a list with the names of the week\n",
    "    days_of_week = ['Monday', 'Tuesday', 'Wednesday', 'Thursday', 'Friday', 'Saturday', 'Sunday']\n",
    "    \n",
    "    # Display corresponding day of the week\n",
    "    print(\"The corresponding day of the week is:\", days_of_week[day_number - 1])\n",
    "else:\n",
    "    # Display error message if input is outside the range\n",
    "    print(\"Error: The number must be in the range of 1 through 7.\")"
   ]
  },
  {
   "cell_type": "markdown",
   "id": "6fd283c2",
   "metadata": {},
   "source": [
    "### Question 5 Mass and Weight\n",
    "Scientists measure an object’s mass in kilograms and its weight in newtons. If you know\n",
    "the amount of mass of an object in kilograms, you can calculate its weight in newtons with\n",
    "the following formula:\n",
    "weight 5 mass 3 9.8\n",
    "Write a program that asks the user to enter an object’s mass, then calculates its weight. If\n",
    "the object weighs more than 500 newtons, display a message indicating that it is too heavy.\n",
    "If the object weighs less than 100 newtons, display a message indicating that it is too light.\n"
   ]
  },
  {
   "cell_type": "code",
   "execution_count": 5,
   "id": "ad14f4c0",
   "metadata": {},
   "outputs": [
    {
     "name": "stdout",
     "output_type": "stream",
     "text": [
      "Enter the object's mass (in kilograms): 77\n",
      "The object is too heavy.\n"
     ]
    }
   ],
   "source": [
    "#The question asks us to Write a program that asks the user to enter an object’s mass, then calculates its weight. \n",
    "#If the object weighs more than 500 newtons, display a message indicating that it is too heavy. \n",
    "#If the object weighs less than 100 newtons, display a message indicating that it is too light.\n",
    "\n",
    "# This is where you put in the mass of the object\n",
    "mass = float(input(\"Enter the object's mass (in kilograms): \"))\n",
    "\n",
    "# This is were we are calculating the weight of the object using the formula: weight = mass * acceleration due to gravity\n",
    "weight = mass * 9.8  # Assuming acceleration due to gravity is 9.8 m/s^2\n",
    "\n",
    "# Check if the weight is greater than 500 newtons\n",
    "if weight > 500:\n",
    "    print(\"The object is too heavy.\")\n",
    "# Check if the weight is less than 100 newtons\n",
    "elif weight < 100:\n",
    "    print(\"The object is too light.\")\n",
    "# If neither condition is true, the weight is between 100 and 500 newtons\n",
    "else:\n",
    "    print(\"The object's weight is acceptable.\")"
   ]
  },
  {
   "cell_type": "code",
   "execution_count": null,
   "id": "d8bcc611",
   "metadata": {},
   "outputs": [],
   "source": []
  }
 ],
 "metadata": {
  "kernelspec": {
   "display_name": "Python 3 (ipykernel)",
   "language": "python",
   "name": "python3"
  },
  "language_info": {
   "codemirror_mode": {
    "name": "ipython",
    "version": 3
   },
   "file_extension": ".py",
   "mimetype": "text/x-python",
   "name": "python",
   "nbconvert_exporter": "python",
   "pygments_lexer": "ipython3",
   "version": "3.11.5"
  }
 },
 "nbformat": 4,
 "nbformat_minor": 5
}
