{
 "cells": [
  {
   "cell_type": "markdown",
   "id": "a85c9e3f",
   "metadata": {},
   "source": [
    "# Ch. 3 Coding Set"
   ]
  },
  {
   "cell_type": "markdown",
   "id": "f772e122",
   "metadata": {},
   "source": [
    "## Masone Yang"
   ]
  },
  {
   "cell_type": "markdown",
   "id": "9e8fa618",
   "metadata": {},
   "source": [
    "### Algorithm Workbench (Two Questions)\n"
   ]
  },
  {
   "cell_type": "markdown",
   "id": "1f070589",
   "metadata": {},
   "source": [
    "### Question 4 \n",
    "The following code contains several nested if-else statements. Unfortunately, it\n",
    "was written without proper alignment and indentation. Rewrite the code and use the\n",
    "proper conventions of alignment and indentation.\n",
    "if score >= A_score:\n",
    "print('Your grade is A.')\n",
    "else:\n",
    "if score >= B_score:\n",
    "print('Your grade is B.')\n",
    "else:\n",
    "if score >= C_score:\n",
    "print('Your grade is C.')\n",
    "else:\n",
    "if score >= D_score:\n",
    "print('Your grade is D.')\n",
    "else:\n",
    "print('Your grade is F.')\n"
   ]
  },
  {
   "cell_type": "code",
   "execution_count": 2,
   "id": "d6c2c517",
   "metadata": {},
   "outputs": [
    {
     "name": "stdout",
     "output_type": "stream",
     "text": [
      "Your grade is A.\n"
     ]
    }
   ],
   "source": [
    "#The code was written without proper alignment and indentation.\n",
    "#First we are going to rewrite the code.\n",
    "#After, we will properly align the code.\n",
    "#Finally, we will indent the code.\n",
    "\n",
    "score = 99  # Replace the number with the score you want to evaluate. I chose 99. \n",
    "\n",
    "#This is code to define our code for the scores. Without it you will get an error.\n",
    "A_score = 90\n",
    "\n",
    "B_score = 80\n",
    "\n",
    "C_score = 70\n",
    "\n",
    "D_score = 60\n",
    "\n",
    "if score > A_score:\n",
    "    print(\"Your grade is A.\")\n",
    "else:\n",
    "    if score > B_score:\n",
    "        print(\"Your grade is B.\")\n",
    "    else:\n",
    "        if score > C_score:\n",
    "            print(\"Your grade is C.\")\n",
    "        else:\n",
    "            if score > D_score:\n",
    "                print(\"Your grade is D.\")\n",
    "            else:\n",
    "                print(\"Your grade is F.\")\n"
   ]
  },
  {
   "cell_type": "markdown",
   "id": "2267729e",
   "metadata": {},
   "source": [
    "### Question 5\n",
    "\n",
    "Write nested decision structures that perform the following: If amount1 is greater than\n",
    "10 and amount2 is less than 100, display the greater of amount1 and amount2."
   ]
  },
  {
   "cell_type": "code",
   "execution_count": 3,
   "id": "849cf040",
   "metadata": {},
   "outputs": [
    {
     "name": "stdout",
     "output_type": "stream",
     "text": [
      "amount1 is not greater than 10.\n"
     ]
    }
   ],
   "source": [
    "#We are writing a nested decision structure that will perform the following:\n",
    "#If amount1 is greater than 10 and amount2 is less than 100, display the greater of amount1 and amount2.\n",
    "#First, I will be assigning the variables \n",
    "#Next I will be writing a if-else statement with correct indentation and allignment. \n",
    "#Finally I will be running the code to see if it works.\n",
    "\n",
    "amount1 = 7  # Replace with actual value of amount1\n",
    "amount2 = 77  # Replace with actual value of amount2\n",
    "\n",
    "if amount1 > 10:\n",
    "    if amount2 < 100:\n",
    "        if amount1 > amount2:\n",
    "            print(\"The greater amount is:\", amount1)\n",
    "        else:\n",
    "            print(\"The greater amount is:\", amount2)\n",
    "    else:\n",
    "        print(\"amount2 is not less than 100.\")\n",
    "else:\n",
    "    print(\"amount1 is not greater than 10.\")"
   ]
  },
  {
   "cell_type": "markdown",
   "id": "bfd24e0e",
   "metadata": {},
   "source": [
    "## Programming Exercises "
   ]
  },
  {
   "cell_type": "markdown",
   "id": "e2191690",
   "metadata": {},
   "source": [
    "### Question 1\n",
    "1. Day of the Week\n",
    "Write a program that asks the user for a number in the range of 1 through 7.\n",
    "The program should display the corresponding day of the week, where 1 = Monday, 2 = Tuesday,\n",
    "3 = Wednesday, 4 = Thursday, 5 = Friday, 6 = Saturday, and 7 = Sunday.\n",
    "The program should\n",
    "display an error message if the user enters a number that is outside the range of 1 through 7.\n"
   ]
  },
  {
   "cell_type": "code",
   "execution_count": null,
   "id": "0b90764d",
   "metadata": {},
   "outputs": [],
   "source": [
    "# Ask for the input from the user\n",
    "day_number = int(input(\"Enter a number from 1 through 7: \"))\n",
    "\n",
    "# Check if the input is in the range of 1 to 7\n",
    "if 1 <= day_number <= 7:\n",
    "    # Define a list with the names of the week\n",
    "    days_of_week = ['Monday', 'Tuesday', 'Wednesday', 'Thursday', 'Friday', 'Saturday', 'Sunday']\n",
    "    \n",
    "    # Display corresponding day of the week\n",
    "    print(\"The corresponding day of the week is:\", days_of_week[day_number - 1])\n",
    "else:\n",
    "    # Display error message if input is outside the range\n",
    "    print(\"Error: The number must be in the range of 1 through 7.\")"
   ]
  }
 ],
 "metadata": {
  "kernelspec": {
   "display_name": "Python 3 (ipykernel)",
   "language": "python",
   "name": "python3"
  },
  "language_info": {
   "codemirror_mode": {
    "name": "ipython",
    "version": 3
   },
   "file_extension": ".py",
   "mimetype": "text/x-python",
   "name": "python",
   "nbconvert_exporter": "python",
   "pygments_lexer": "ipython3",
   "version": "3.11.5"
  }
 },
 "nbformat": 4,
 "nbformat_minor": 5
}
