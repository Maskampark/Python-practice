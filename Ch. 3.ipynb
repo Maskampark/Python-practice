{
 "cells": [
  {
   "cell_type": "markdown",
   "id": "a7cf3eb1",
   "metadata": {},
   "source": [
    "# Ch. 3 Coding Set"
   ]
  },
  {
   "cell_type": "markdown",
   "id": "2c619c05",
   "metadata": {},
   "source": [
    "## Masone Yang"
   ]
  },
  {
   "cell_type": "markdown",
   "id": "d54817ad",
   "metadata": {},
   "source": [
    "### Algorithm Workbench (Two Questions)\n"
   ]
  },
  {
   "cell_type": "markdown",
   "id": "6d49ea2d",
   "metadata": {},
   "source": [
    "### Question 4 \n",
    "The following code contains several nested if-else statements. Unfortunately, it\n",
    "was written without proper alignment and indentation. Rewrite the code and use the\n",
    "proper conventions of alignment and indentation.\n",
    "if score >= A_score:\n",
    "print('Your grade is A.')\n",
    "else:\n",
    "if score >= B_score:\n",
    "print('Your grade is B.')\n",
    "else:\n",
    "if score >= C_score:\n",
    "print('Your grade is C.')\n",
    "else:\n",
    "if score >= D_score:\n",
    "print('Your grade is D.')\n",
    "else:\n",
    "print('Your grade is F.')\n"
   ]
  },
  {
   "cell_type": "code",
   "execution_count": null,
   "id": "e4e042e4",
   "metadata": {},
   "outputs": [],
   "source": [
    "#The code was written without proper alignment and indentation\n",
    "#First we are going to rewrite the code\n",
    "#After, we will properly align the code\n",
    "#Finally, we will indent the code\n",
    "\n",
    "score = 99  # Replace the number with the score you want to eval\n",
    "\n",
    "if score > A_score:\n",
    "    print(\"Your grade is A.\")\n",
    "else:\n",
    "    if score > B_score:\n",
    "        print(\"Your grade is B.\")\n",
    "    else:\n",
    "        if score > C_score:\n",
    "            print(\"Your grade is C.\")\n",
    "        else:\n",
    "            if score > D_score:\n",
    "                print(\"Your grade is D.\")\n",
    "            else:\n",
    "                print(\"Your grade is F.\")\n"
   ]
  }
 ],
 "metadata": {
  "kernelspec": {
   "display_name": "Python 3 (ipykernel)",
   "language": "python",
   "name": "python3"
  },
  "language_info": {
   "codemirror_mode": {
    "name": "ipython",
    "version": 3
   },
   "file_extension": ".py",
   "mimetype": "text/x-python",
   "name": "python",
   "nbconvert_exporter": "python",
   "pygments_lexer": "ipython3",
   "version": "3.11.5"
  }
 },
 "nbformat": 4,
 "nbformat_minor": 5
}
