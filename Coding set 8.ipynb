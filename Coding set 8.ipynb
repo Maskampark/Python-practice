{
 "cells": [
  {
   "cell_type": "markdown",
   "id": "52edbc19",
   "metadata": {},
   "source": [
    "# Ch 8 Coding Set\n",
    "## Masone Yang\n",
    "### Algorithm Workbench"
   ]
  },
  {
   "cell_type": "markdown",
   "id": "5a1d7eed",
   "metadata": {},
   "source": [
    "### 10. Look at the following statement:\n",
    "mystring = 'cookies>milk>fudge>cake>ice cream'\n",
    "Write a statement that splits this string, creating the following list:\n",
    "['cookies', 'milk', 'fudge', 'cake', 'ice cream']"
   ]
  }
 ],
 "metadata": {
  "kernelspec": {
   "display_name": "Python 3 (ipykernel)",
   "language": "python",
   "name": "python3"
  },
  "language_info": {
   "codemirror_mode": {
    "name": "ipython",
    "version": 3
   },
   "file_extension": ".py",
   "mimetype": "text/x-python",
   "name": "python",
   "nbconvert_exporter": "python",
   "pygments_lexer": "ipython3",
   "version": "3.11.5"
  }
 },
 "nbformat": 4,
 "nbformat_minor": 5
}
