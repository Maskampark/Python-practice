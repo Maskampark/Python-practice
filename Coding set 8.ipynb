{
 "cells": [
  {
   "cell_type": "markdown",
   "id": "6e098565",
   "metadata": {},
   "source": [
    "# Ch 8 Coding Set\n",
    "## Masone Yang\n",
    "### Algorithm Workbench"
   ]
  },
  {
   "cell_type": "markdown",
   "id": "0cc98bd4",
   "metadata": {},
   "source": [
    "### 10. Look at the following statement:\n",
    "mystring = 'cookies>milk>fudge>cake>ice cream'\n",
    "Write a statement that splits this string, creating the following list:\n",
    "['cookies', 'milk', 'fudge', 'cake', 'ice cream']"
   ]
  },
  {
   "cell_type": "code",
   "execution_count": 1,
   "id": "c47b24f8",
   "metadata": {},
   "outputs": [
    {
     "name": "stdout",
     "output_type": "stream",
     "text": [
      "['cookies', 'milk', 'fudge', 'cake', 'ice cream']\n"
     ]
    }
   ],
   "source": [
    "#Creates a string variable named my string and assigns it value\n",
    "mystring = 'cookies>milk>fudge>cake>ice cream'\n",
    "#Splits the string, splits when > is used\n",
    "mylist = mystring.split('>')\n",
    "#prints the list\n",
    "print(mylist)"
   ]
  },
  {
   "cell_type": "markdown",
   "id": "73ae40c6",
   "metadata": {},
   "source": [
    "### 5. Write a function that accepts a string as an argument and returns true if the argument ends with the substring '.com'. Otherwise, the function should return false."
   ]
  },
  {
   "cell_type": "code",
   "execution_count": 4,
   "id": "cd1795a7",
   "metadata": {},
   "outputs": [
    {
     "name": "stdout",
     "output_type": "stream",
     "text": [
      "True\n",
      "False\n",
      "False\n"
     ]
    }
   ],
   "source": [
    "def ends_with_com(string):\n",
    "    # Check if the string ends with the substring '.com'\n",
    "    if string.endswith('.com'):\n",
    "        return True\n",
    "    else:\n",
    "        return False\n",
    "    \n",
    "print(ends_with_com('hello.com'))  # Output: True because it included .com\n",
    "print(ends_with_com('goodbye.org'))  # Output: False because it includes .org instead of .com\n",
    "print(ends_with_com('goodmorning.net'))#Output: False because it includes .net instead of .com"
   ]
  },
  {
   "cell_type": "markdown",
   "id": "508fabe6",
   "metadata": {},
   "source": [
    "### Programming Exercises\n",
    "### 1. Initials\n",
    "Write a program that gets a string containing a person’s first, middle, and last names, and\n",
    "displays their first, middle, and last initials. For example, if the user enters John William\n",
    "Smith, the program should display J. W. S."
   ]
  },
  {
   "cell_type": "code",
   "execution_count": 5,
   "id": "10b2afe6",
   "metadata": {},
   "outputs": [
    {
     "name": "stdout",
     "output_type": "stream",
     "text": [
      "Enter your first, middle, and last names: Masone Tsimpheng Yang\n",
      "Initials: M. T. Y.\n"
     ]
    }
   ],
   "source": [
    "def display_initials(name):\n",
    "    # Splits the full name into individual names\n",
    "    names = name.split()\n",
    "\n",
    "    # Extracts the first character of each name and capitalizes it\n",
    "    initials = [n[0].upper() + '.' for n in names]\n",
    "\n",
    "    # Joins the initials with a space\n",
    "    initials_str = ' '.join(initials)\n",
    "\n",
    "    return initials_str\n",
    "\n",
    "# Gets the input from the user\n",
    "full_name = input(\"Enter your first, middle, and last names: \")\n",
    "\n",
    "# Displays the initials\n",
    "print(\"Initials:\", display_initials(full_name))"
   ]
  },
  {
   "cell_type": "code",
   "execution_count": null,
   "id": "1807d71e",
   "metadata": {},
   "outputs": [],
   "source": []
  }
 ],
 "metadata": {
  "kernelspec": {
   "display_name": "Python 3 (ipykernel)",
   "language": "python",
   "name": "python3"
  },
  "language_info": {
   "codemirror_mode": {
    "name": "ipython",
    "version": 3
   },
   "file_extension": ".py",
   "mimetype": "text/x-python",
   "name": "python",
   "nbconvert_exporter": "python",
   "pygments_lexer": "ipython3",
   "version": "3.11.5"
  }
 },
 "nbformat": 4,
 "nbformat_minor": 5
}
