{
 "cells": [
  {
   "cell_type": "markdown",
   "id": "f862197c",
   "metadata": {},
   "source": [
    "# Ch 8 Coding Set\n",
    "## Masone Yang\n",
    "### Algorithm Workbench"
   ]
  },
  {
   "cell_type": "markdown",
   "id": "e91f6222",
   "metadata": {},
   "source": [
    "### 10. Look at the following statement:\n",
    "mystring = 'cookies>milk>fudge>cake>ice cream'\n",
    "Write a statement that splits this string, creating the following list:\n",
    "['cookies', 'milk', 'fudge', 'cake', 'ice cream']"
   ]
  },
  {
   "cell_type": "code",
   "execution_count": 1,
   "id": "1e31cdbe",
   "metadata": {},
   "outputs": [
    {
     "name": "stdout",
     "output_type": "stream",
     "text": [
      "['cookies', 'milk', 'fudge', 'cake', 'ice cream']\n"
     ]
    }
   ],
   "source": [
    "#The question is asking us to write a statement thats splits the string \n",
    "# ['cookies', 'milk', 'fudge', 'cake', 'ice cream']\n",
    "#First I create a string variable, then I assign it a value.\n",
    "#After I split the strings using > to let the code know to split the string when that is used.\n",
    "#Finally I printed my results. \n",
    "\n",
    "\n",
    "#Creates a string variable named my string and assigns it value\n",
    "mystring = 'cookies>milk>fudge>cake>ice cream'\n",
    "#Splits the string, splits when > is used\n",
    "mylist = mystring.split('>')\n",
    "#prints the list\n",
    "print(mylist)"
   ]
  },
  {
   "cell_type": "markdown",
   "id": "1818841d",
   "metadata": {},
   "source": [
    "### 5. Write a function that accepts a string as an argument and returns true if the argument ends with the substring '.com'. Otherwise, the function should return false."
   ]
  },
  {
   "cell_type": "code",
   "execution_count": 10,
   "id": "c0c1c4e1",
   "metadata": {},
   "outputs": [
    {
     "name": "stdout",
     "output_type": "stream",
     "text": [
      "True\n",
      "False\n",
      "False\n"
     ]
    }
   ],
   "source": [
    "#The question is asking us to write a function to accept a string as an argument.\n",
    "#It will return true if the string contains \".com\" and false if it does not.\n",
    "#First I created a function named ends_with_com to take the string as my input.\n",
    "#After, I used if string.endswith.... to repeat back true if it contained .com\n",
    "#, and else to repeat back false when it did not. \n",
    "#Finally I am able to check my work by printing out strings with or without .com to see if my code worked.\n",
    "\n",
    "\n",
    "\n",
    "# Defines a function named ends_with_com that takes a string as input\n",
    "def ends_with_com(string):\n",
    "    # Checks if the string ends with the substring '.com'\n",
    "    if string.endswith('.com'):\n",
    "        # If it does, returns True\n",
    "        return True\n",
    "    else:\n",
    "        # If it doesn't, returns False\n",
    "        return False\n",
    "\n",
    "# Test cases to check the behavior of the ends_with_com function\n",
    "print(ends_with_com('hello.com'))  # Output: True because it ends with .com\n",
    "print(ends_with_com('goodbye.org'))  # Output: False because it ends with .org instead of .com\n",
    "print(ends_with_com('goodmorning.net'))  # Output: False because it ends with .net instead of .com"
   ]
  },
  {
   "cell_type": "markdown",
   "id": "9989666f",
   "metadata": {},
   "source": [
    "### Programming Exercises\n",
    "### 1. Initials\n",
    "Write a program that gets a string containing a person’s first, middle, and last names, and\n",
    "displays their first, middle, and last initials. For example, if the user enters John William\n",
    "Smith, the program should display J. W. S."
   ]
  },
  {
   "cell_type": "code",
   "execution_count": 9,
   "id": "fc641d4c",
   "metadata": {},
   "outputs": [
    {
     "name": "stdout",
     "output_type": "stream",
     "text": [
      "Enter your first, middle, and last names: Masone Tsimpheng Yang\n",
      "Initials: M. T. Y.\n"
     ]
    }
   ],
   "source": [
    "#The question is asking us to write a program that creates a string conataining a persons full name and displays their \n",
    "#initials after.\n",
    "#I start by making my name an input, then I use names = name.split to split my full name into individual names. \n",
    "#I then extract each first character of my name, join them together in a string, return them, finally printing them out\n",
    "#which it should come back as M.T.Y when I put in my name. \n",
    "\n",
    "\n",
    "\n",
    "# Defines a function named display_initials that takes a string (full name) as input\n",
    "def display_initials(name):\n",
    "    # Splits the full name into individual names using whitespace as the delimiter\n",
    "    names = name.split()\n",
    "\n",
    "    # Extracts the first character of each name, capitalizes it, and adds a dot\n",
    "    initials = [n[0].upper() + '.' for n in names]\n",
    "\n",
    "    # Joins the list of initials into a single string with spaces between them\n",
    "    initials_str = ' '.join(initials)\n",
    "\n",
    "    # Returns the string containing the initials\n",
    "    return initials_str\n",
    "\n",
    "# Prompts the user to enter their first, middle, and last names\n",
    "full_name = input(\"Enter your first, middle, and last names: \")\n",
    "\n",
    "# Calls the display_initials function with the user input and displays the result\n",
    "print(\"Initials:\", display_initials(full_name))"
   ]
  },
  {
   "cell_type": "markdown",
   "id": "8d3e12ce",
   "metadata": {},
   "source": [
    "### 2. Sum of Digits in a String\n",
    "Write a program that asks the user to enter a series of single-digit numbers with nothing\n",
    "separating them. The program should display the sum of all the single digit numbers in the\n",
    "string. For example, if the user enters 2514, the method should return 12, which is the sum\n",
    "of 2, 5, 1, and 4.\n"
   ]
  },
  {
   "cell_type": "code",
   "execution_count": 8,
   "id": "d5eeb629",
   "metadata": {},
   "outputs": [
    {
     "name": "stdout",
     "output_type": "stream",
     "text": [
      "Enter a series of single-digit numbers with no separators: 2514\n",
      "Sum of digits: 12\n"
     ]
    }
   ],
   "source": [
    "#The question is askign us to create a program that asks the user to enter a series of numbers and displays the sum of\n",
    "#of all the single digit numbers in the string. \n",
    "#First, I used def sum_of_digits to take the string as a input\n",
    "#Then I created a variable total to store the sum, add them all up, and check if there were any special characters \n",
    "#apart from numbers.\n",
    "#Finally I can print out the results which should result in 12 when I put in the numbers 2514. \n",
    "\n",
    "\n",
    "# Defines a function named sum_of_digits that takes a string as input\n",
    "def sum_of_digits(string):\n",
    "    # Initializes a variable total to store the sum of digits\n",
    "    total = 0\n",
    "    \n",
    "    # Iterates through each character in the input string\n",
    "    for char in string:\n",
    "        # Converts each character to an integer and adds it to the total\n",
    "        total += int(char)\n",
    "    \n",
    "    # Returns the total sum of digits\n",
    "    return total\n",
    "\n",
    "# Tells the user to enter a series of single-digit numbers with no separators\n",
    "input_string = input(\"Enter a series of single-digit numbers with no separators: \")\n",
    "\n",
    "# Calls the sum_of_digits function with the user input and displays the result\n",
    "print(\"Sum of digits:\", sum_of_digits(input_string))"
   ]
  },
  {
   "cell_type": "markdown",
   "id": "17ef5e47",
   "metadata": {},
   "source": [
    "### 3. Date Printer\n",
    "Write a program that reads a string from the user containing a date in the form mm/dd/yyyy.\n",
    "It should print the date in the format March 12, 2018."
   ]
  },
  {
   "cell_type": "code",
   "execution_count": 13,
   "id": "a9286906",
   "metadata": {},
   "outputs": [
    {
     "name": "stdout",
     "output_type": "stream",
     "text": [
      "Enter a date in the form mm/dd/yyyy: 03/12/2018\n",
      "Formatted date: March 12, 2018\n"
     ]
    }
   ],
   "source": [
    "#The question is asking us to create a program that reads a string from the user containing a date. In the end \n",
    "#the result should print out the date March 12, 2018. \n",
    "#First, I import the datetime class from the datetime module. \n",
    "#Then I used def print_date_in_format to create a date string as an input.\n",
    "#After I split the input date string using /, created a datetime object which allows us to deal with time, and printed \n",
    "#out my results. So when you enter the date 03/12/2018 it prints out March 12, 2018.\n",
    "\n",
    "\n",
    "# Imports the datetime class from the datetime module\n",
    "from datetime import datetime\n",
    "\n",
    "# Defines a function named print_date_in_format that takes a date string as input\n",
    "def print_date_in_format(date_string):\n",
    "    # Splits the input date string by '/' and store the parts in a list called parts\n",
    "    parts = date_string.split('/')\n",
    "    \n",
    "    # Extracts month, day, and year from the parts list and convert them to integers\n",
    "    month = int(parts[0])\n",
    "    day = int(parts[1])\n",
    "    year = int(parts[2])\n",
    "    \n",
    " # Creates a datetime object with the extracted parts\n",
    "    date_obj = datetime(year, month, day)\n",
    "    \n",
    "    # Formats the date using strftime() method to the desired format\n",
    "    formatted_date = date_obj.strftime(\"%B %d, %Y\")\n",
    "    \n",
    "    # Prints the formatted date\n",
    "    print(\"Formatted date:\", formatted_date)\n",
    "\n",
    "# Gets input from the user for the date in the form mm/dd/yyyy\n",
    "date_input = input(\"Enter a date in the form mm/dd/yyyy: \")\n",
    "\n",
    "# Calls the print_date_in_format function with the user input, which prints the date in the desired format\n",
    "print_date_in_format(date_input)\n",
    "    \n",
    "    \n"
   ]
  },
  {
   "cell_type": "markdown",
   "id": "28c3ec49",
   "metadata": {},
   "source": [
    "### 12. Pig Latin\n",
    "Write a program that accepts a sentence as input and converts each word to “Pig Latin.” In\n",
    "one version, to convert a word to Pig Latin, you remove the first letter and place that letter\n",
    "at the end of the word. Then, you append the string “ay” to the word. Here is an example:\n",
    "English: I SLEPT MOST OF THE NIGHT\n",
    "Pig Latin: IAY LEPTSAY OSTMAY FOAY HETAY IGHTNAY"
   ]
  },
  {
   "cell_type": "code",
   "execution_count": 12,
   "id": "5087eac7",
   "metadata": {},
   "outputs": [
    {
     "name": "stdout",
     "output_type": "stream",
     "text": [
      "Enter a sentence: Getting good sleep helps young kids grow.\n",
      "Pig Latin: Ettinggay oodgay leepsay elpshay oungyay idskay row.gay\n"
     ]
    }
   ],
   "source": [
    "#The question is asking us to write a program that converts each of our words into Pig Latin. \n",
    "#First I turned to_pig_latin into a input.\n",
    "#Next, I created a empty list to store the Pig latin words.\n",
    "#Then, I added the code to transform English into Pig latin.\n",
    "#Finally, I made it so the pig latin gets transferred to my list when the words are transformed, then prints out my converted \n",
    "#English into Pig latin. \n",
    "\n",
    "\n",
    "\n",
    "# Defines a function named to_pig_latin that takes a sentence as input\n",
    "def to_pig_latin(sentence):\n",
    "    # Splits the sentence into individual words and store them in a list called words\n",
    "    words = sentence.split()\n",
    "    \n",
    "    # Initializes an empty list to store the Pig Latin words\n",
    "    pig_latin_words = []\n",
    "\n",
    "    # Iterates through each word in the sentence\n",
    "    for word in words:\n",
    "        # Applys Pig Latin transformation to the word\n",
    "        # Moves the first letter to the end, add 'ay' to the end, and convert the first letter to lowercase\n",
    "        pig_latin_word = word[1:] + word[0].lower() + 'ay'\n",
    "        \n",
    "        # If the original word was capitalized, capitalize the first letter of the Pig Latin word\n",
    "        if word[0].isupper():\n",
    "            pig_latin_word = pig_latin_word.capitalize()\n",
    "        \n",
    "        # Adds the transformed word to the list of Pig Latin words\n",
    "        pig_latin_words.append(pig_latin_word)\n",
    "\n",
    "    # Joins the Pig Latin words to form the transformed sentence\n",
    "    pig_latin_sentence = ' '.join(pig_latin_words)\n",
    "\n",
    "    # Returns the transformed sentence\n",
    "    return pig_latin_sentence\n",
    "\n",
    "# Gets the input from the user for the sentence\n",
    "sentence = input(\"Enter a sentence: \")\n",
    "\n",
    "# Converts the sentence to Pig Latin using the to_pig_latin function and prints the result\n",
    "print(\"Pig Latin:\", to_pig_latin(sentence))\n"
   ]
  },
  {
   "cell_type": "code",
   "execution_count": null,
   "id": "1684f0c7",
   "metadata": {},
   "outputs": [],
   "source": []
  }
 ],
 "metadata": {
  "kernelspec": {
   "display_name": "Python 3 (ipykernel)",
   "language": "python",
   "name": "python3"
  },
  "language_info": {
   "codemirror_mode": {
    "name": "ipython",
    "version": 3
   },
   "file_extension": ".py",
   "mimetype": "text/x-python",
   "name": "python",
   "nbconvert_exporter": "python",
   "pygments_lexer": "ipython3",
   "version": "3.11.5"
  }
 },
 "nbformat": 4,
 "nbformat_minor": 5
}
