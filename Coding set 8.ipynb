{
 "cells": [
  {
   "cell_type": "markdown",
   "id": "10f568c5",
   "metadata": {},
   "source": [
    "# Ch 8 Coding Set\n",
    "## Masone Yang\n",
    "### Algorithm Workbench"
   ]
  },
  {
   "cell_type": "markdown",
   "id": "c03c1fa0",
   "metadata": {},
   "source": [
    "### 10. Look at the following statement:\n",
    "mystring = 'cookies>milk>fudge>cake>ice cream'\n",
    "Write a statement that splits this string, creating the following list:\n",
    "['cookies', 'milk', 'fudge', 'cake', 'ice cream']"
   ]
  },
  {
   "cell_type": "code",
   "execution_count": 1,
   "id": "3922ad16",
   "metadata": {},
   "outputs": [
    {
     "name": "stdout",
     "output_type": "stream",
     "text": [
      "['cookies', 'milk', 'fudge', 'cake', 'ice cream']\n"
     ]
    }
   ],
   "source": [
    "#Creates a string variable named my string and assigns it value\n",
    "mystring = 'cookies>milk>fudge>cake>ice cream'\n",
    "#Splits the string, splits when > is used\n",
    "mylist = mystring.split('>')\n",
    "#prints the list\n",
    "print(mylist)"
   ]
  },
  {
   "cell_type": "markdown",
   "id": "cc5f428b",
   "metadata": {},
   "source": [
    "### 5. Write a function that accepts a string as an argument and returns true if the argument ends with the substring '.com'. Otherwise, the function should return false."
   ]
  },
  {
   "cell_type": "code",
   "execution_count": 4,
   "id": "e4292de9",
   "metadata": {},
   "outputs": [
    {
     "name": "stdout",
     "output_type": "stream",
     "text": [
      "True\n",
      "False\n",
      "False\n"
     ]
    }
   ],
   "source": [
    "# Defines a function named ends_with_com that takes a string as input\n",
    "def ends_with_com(string):\n",
    "    # Checks if the string ends with the substring '.com'\n",
    "    if string.endswith('.com'):\n",
    "        # If it does, returns True\n",
    "        return True\n",
    "    else:\n",
    "        # If it doesn't, returns False\n",
    "        return False\n",
    "\n",
    "# Test cases to check the behavior of the ends_with_com function\n",
    "print(ends_with_com('hello.com'))  # Output: True because it ends with .com\n",
    "print(ends_with_com('goodbye.org'))  # Output: False because it ends with .org instead of .com\n",
    "print(ends_with_com('goodmorning.net'))  # Output: False because it ends with .net instead of .com"
   ]
  },
  {
   "cell_type": "markdown",
   "id": "dd579a09",
   "metadata": {},
   "source": [
    "### Programming Exercises\n",
    "### 1. Initials\n",
    "Write a program that gets a string containing a person’s first, middle, and last names, and\n",
    "displays their first, middle, and last initials. For example, if the user enters John William\n",
    "Smith, the program should display J. W. S."
   ]
  },
  {
   "cell_type": "code",
   "execution_count": 9,
   "id": "345f567c",
   "metadata": {},
   "outputs": [
    {
     "name": "stdout",
     "output_type": "stream",
     "text": [
      "Enter your first, middle, and last names: Masone Tsimpheng Yang\n",
      "Initials: M. T. Y.\n"
     ]
    }
   ],
   "source": [
    "# Defines a function named display_initials that takes a string (full name) as input\n",
    "def display_initials(name):\n",
    "    # Splits the full name into individual names using whitespace as the delimiter\n",
    "    names = name.split()\n",
    "\n",
    "    # Extracts the first character of each name, capitalizes it, and adds a dot\n",
    "    initials = [n[0].upper() + '.' for n in names]\n",
    "\n",
    "    # Joins the list of initials into a single string with spaces between them\n",
    "    initials_str = ' '.join(initials)\n",
    "\n",
    "    # Returns the string containing the initials\n",
    "    return initials_str\n",
    "\n",
    "# Prompts the user to enter their first, middle, and last names\n",
    "full_name = input(\"Enter your first, middle, and last names: \")\n",
    "\n",
    "# Calls the display_initials function with the user input and displays the result\n",
    "print(\"Initials:\", display_initials(full_name))"
   ]
  },
  {
   "cell_type": "markdown",
   "id": "57a8d333",
   "metadata": {},
   "source": [
    "### 2. Sum of Digits in a String\n",
    "Write a program that asks the user to enter a series of single-digit numbers with nothing\n",
    "separating them. The program should display the sum of all the single digit numbers in the\n",
    "string. For example, if the user enters 2514, the method should return 12, which is the sum\n",
    "of 2, 5, 1, and 4.\n"
   ]
  },
  {
   "cell_type": "code",
   "execution_count": 8,
   "id": "e88f30ff",
   "metadata": {},
   "outputs": [
    {
     "name": "stdout",
     "output_type": "stream",
     "text": [
      "Enter a series of single-digit numbers with no separators: 2514\n",
      "Sum of digits: 12\n"
     ]
    }
   ],
   "source": [
    "# Defines a function named sum_of_digits that takes a string as input\n",
    "def sum_of_digits(string):\n",
    "    # Initializes a variable total to store the sum of digits\n",
    "    total = 0\n",
    "    \n",
    "    # Iterates through each character in the input string\n",
    "    for char in string:\n",
    "        # Converts each character to an integer and adds it to the total\n",
    "        total += int(char)\n",
    "    \n",
    "    # Returns the total sum of digits\n",
    "    return total\n",
    "\n",
    "# Tells the user to enter a series of single-digit numbers with no separators\n",
    "input_string = input(\"Enter a series of single-digit numbers with no separators: \")\n",
    "\n",
    "# Calls the sum_of_digits function with the user input and displays the result\n",
    "print(\"Sum of digits:\", sum_of_digits(input_string))"
   ]
  },
  {
   "cell_type": "code",
   "execution_count": null,
   "id": "dc6dc079",
   "metadata": {},
   "outputs": [],
   "source": []
  }
 ],
 "metadata": {
  "kernelspec": {
   "display_name": "Python 3 (ipykernel)",
   "language": "python",
   "name": "python3"
  },
  "language_info": {
   "codemirror_mode": {
    "name": "ipython",
    "version": 3
   },
   "file_extension": ".py",
   "mimetype": "text/x-python",
   "name": "python",
   "nbconvert_exporter": "python",
   "pygments_lexer": "ipython3",
   "version": "3.11.5"
  }
 },
 "nbformat": 4,
 "nbformat_minor": 5
}
