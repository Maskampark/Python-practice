{
 "cells": [
  {
   "cell_type": "markdown",
   "id": "0e826c87",
   "metadata": {},
   "source": [
    "# Ch 8 Coding Set\n",
    "## Masone Yang\n",
    "### Algorithm Workbench"
   ]
  },
  {
   "cell_type": "markdown",
   "id": "f86ac4fc",
   "metadata": {},
   "source": [
    "### 10. Look at the following statement:\n",
    "mystring = 'cookies>milk>fudge>cake>ice cream'\n",
    "Write a statement that splits this string, creating the following list:\n",
    "['cookies', 'milk', 'fudge', 'cake', 'ice cream']"
   ]
  },
  {
   "cell_type": "code",
   "execution_count": 1,
   "id": "d0167d58",
   "metadata": {},
   "outputs": [
    {
     "name": "stdout",
     "output_type": "stream",
     "text": [
      "['cookies', 'milk', 'fudge', 'cake', 'ice cream']\n"
     ]
    }
   ],
   "source": [
    "#Creates a string variable named my string and assigns it value\n",
    "mystring = 'cookies>milk>fudge>cake>ice cream'\n",
    "#Splits the string, splits when > is used\n",
    "mylist = mystring.split('>')\n",
    "#prints the list\n",
    "print(mylist)"
   ]
  },
  {
   "cell_type": "markdown",
   "id": "438fd78e",
   "metadata": {},
   "source": [
    "### 5. Write a function that accepts a string as an argument and returns true if the argument ends with the substring '.com'. Otherwise, the function should return false."
   ]
  },
  {
   "cell_type": "code",
   "execution_count": 3,
   "id": "d11386c1",
   "metadata": {},
   "outputs": [
    {
     "name": "stdout",
     "output_type": "stream",
     "text": [
      "True\n",
      "False\n"
     ]
    }
   ],
   "source": [
    "def ends_with_com(string):\n",
    "    # Check if the string ends with the substring '.com'\n",
    "    if string.endswith('.com'):\n",
    "        return True\n",
    "    else:\n",
    "        return False\n",
    "    \n",
    "print(ends_with_com('hello.com'))  # Output: True\n",
    "print(ends_with_com('goodbye.org'))  # Output: False\n",
    "print"
   ]
  },
  {
   "cell_type": "code",
   "execution_count": null,
   "id": "491bf36f",
   "metadata": {},
   "outputs": [],
   "source": []
  }
 ],
 "metadata": {
  "kernelspec": {
   "display_name": "Python 3 (ipykernel)",
   "language": "python",
   "name": "python3"
  },
  "language_info": {
   "codemirror_mode": {
    "name": "ipython",
    "version": 3
   },
   "file_extension": ".py",
   "mimetype": "text/x-python",
   "name": "python",
   "nbconvert_exporter": "python",
   "pygments_lexer": "ipython3",
   "version": "3.11.5"
  }
 },
 "nbformat": 4,
 "nbformat_minor": 5
}
