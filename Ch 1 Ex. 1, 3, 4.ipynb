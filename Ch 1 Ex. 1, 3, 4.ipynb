{
 "cells": [
  {
   "cell_type": "markdown",
   "id": "4294c0f8",
   "metadata": {},
   "source": [
    "# Chapter 1 Ex."
   ]
  },
  {
   "cell_type": "markdown",
   "id": "64c1fa7f",
   "metadata": {},
   "source": [
    "## Problems 1, 3, 4"
   ]
  },
  {
   "cell_type": "markdown",
   "id": "8b376e87",
   "metadata": {},
   "source": [
    "# Ex 1\n",
    "\n",
    "The textbook asks for us to use the python print statement with this particular string."
   ]
  },
  {
   "cell_type": "code",
   "execution_count": 1,
   "id": "a4908a89",
   "metadata": {},
   "outputs": [
    {
     "name": "stdout",
     "output_type": "stream",
     "text": [
      "This is a test of the Python interpreter.\n"
     ]
    }
   ],
   "source": [
    "# demonstrating the print function\n",
    "print('This is a test of the Python interpreter.') "
   ]
  },
  {
   "cell_type": "markdown",
   "id": "567648b8",
   "metadata": {},
   "source": [
    "# Ex 3\n",
    "\n",
    "To determine the value of a binary number, you simply add up the position values of all the\n",
    "1s. The textbook ask to convert the numbers 11, 65, 100, and 255.\n",
    "11=1011\n",
    "65=1000001\n",
    "100=1100100\n",
    "255=11111111\n",
    "\n",
    "For example, 11 would be read right to left having 1=1 1=2 0=0 and 1=8"
   ]
  },
  {
   "cell_type": "markdown",
   "id": "31e8bfdc",
   "metadata": {},
   "source": [
    "## Ex 4\n",
    "\n",
    "The textbook is asking us to convert binary numbers to decimals. They are asking to convert the binary number's 1101, 1000, and 101011.\n",
    "1101=13\n",
    "1000=8\n",
    "101011=43\n",
    "\n",
    "To convert the numbers I added up their numbers. For example, 13 would be 1=8 1=4 0=0 1=1"
   ]
  },
  {
   "cell_type": "code",
   "execution_count": null,
   "id": "aebaebf4",
   "metadata": {},
   "outputs": [],
   "source": []
  }
 ],
 "metadata": {
  "kernelspec": {
   "display_name": "Python 3 (ipykernel)",
   "language": "python",
   "name": "python3"
  },
  "language_info": {
   "codemirror_mode": {
    "name": "ipython",
    "version": 3
   },
   "file_extension": ".py",
   "mimetype": "text/x-python",
   "name": "python",
   "nbconvert_exporter": "python",
   "pygments_lexer": "ipython3",
   "version": "3.11.5"
  }
 },
 "nbformat": 4,
 "nbformat_minor": 5
}
