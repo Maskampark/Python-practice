{
 "cells": [
  {
   "cell_type": "markdown",
   "id": "33191fc5",
   "metadata": {},
   "source": [
    "# Chapter 1 Ex."
   ]
  },
  {
   "cell_type": "markdown",
   "id": "32b07c20",
   "metadata": {},
   "source": [
    "## Problems 1, 3, 4"
   ]
  },
  {
   "cell_type": "markdown",
   "id": "6fc989e4",
   "metadata": {},
   "source": [
    "# Ex 1\n",
    "\n",
    "The textbook asks for us to use the python print statement with this particular string."
   ]
  },
  {
   "cell_type": "code",
   "execution_count": 1,
   "id": "c954c203",
   "metadata": {},
   "outputs": [
    {
     "name": "stdout",
     "output_type": "stream",
     "text": [
      "This is a test of the Python interpreter.\n"
     ]
    }
   ],
   "source": [
    "# demonstrating the print function\n",
    "print('This is a test of the Python interpreter.') "
   ]
  },
  {
   "cell_type": "markdown",
   "id": "dd264eb1",
   "metadata": {},
   "source": [
    "# Ex 3\n",
    "\n",
    "The textbook ask to convert the numbers 11, 65, 100, and 255.\n",
    "11=1011\n",
    "65=1000001\n",
    "100=1100100\n",
    "255=11111111\n",
    "\n",
    "To convert the decimals to binary numbers you have to add up the position values of all the 1s. For example, 11 would be read right to left having 1=1 1=2 0=0 and 1=8. After trying out 11 I found it fairly easy to convert the rest of the n"
   ]
  },
  {
   "cell_type": "markdown",
   "id": "11b6c973",
   "metadata": {},
   "source": [
    "## Ex 4\n",
    "\n",
    "The textbook is asking us to convert binary numbers to decimals. They are asking to convert the binary numbers 1101, 1000, and 101011.\n",
    "1101=13\n",
    "1000=8\n",
    "101011=43\n",
    "\n",
    "To convert the numbers I added up their numbers. For example, 13 would be 1=8 1=4 0=0 1=1. After doing with 13 I converted the rest of the binary numbers the same way."
   ]
  },
  {
   "cell_type": "code",
   "execution_count": null,
   "id": "bd6bcaca",
   "metadata": {},
   "outputs": [],
   "source": []
  }
 ],
 "metadata": {
  "kernelspec": {
   "display_name": "Python 3 (ipykernel)",
   "language": "python",
   "name": "python3"
  },
  "language_info": {
   "codemirror_mode": {
    "name": "ipython",
    "version": 3
   },
   "file_extension": ".py",
   "mimetype": "text/x-python",
   "name": "python",
   "nbconvert_exporter": "python",
   "pygments_lexer": "ipython3",
   "version": "3.11.5"
  }
 },
 "nbformat": 4,
 "nbformat_minor": 5
}
