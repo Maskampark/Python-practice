{
 "cells": [
  {
   "cell_type": "markdown",
   "id": "e497614c",
   "metadata": {},
   "source": [
    "# Ch. 2 Coding set"
   ]
  },
  {
   "cell_type": "markdown",
   "id": "11d1dc40",
   "metadata": {},
   "source": [
    "## Algorithm Workbench: Problem 12"
   ]
  },
  {
   "cell_type": "markdown",
   "id": "71d13412",
   "metadata": {},
   "source": [
    "### Question:\n",
    "What will the following statement display?\n",
    "\n",
    "print('George', 'John', 'Paul', 'Ringo', sep='@')\n"
   ]
  },
  {
   "cell_type": "code",
   "execution_count": 1,
   "id": "90dd5656",
   "metadata": {},
   "outputs": [
    {
     "name": "stdout",
     "output_type": "stream",
     "text": [
      "George@John@Paul@Ringo\n"
     ]
    }
   ],
   "source": [
    "print('George', 'John', 'Paul', 'Ringo', sep='@')"
   ]
  },
  {
   "cell_type": "markdown",
   "id": "3cb378dd",
   "metadata": {},
   "source": [
    "I think the output will display George@John@Paul@Ringo. I think this because I assume sep means seperate which will seperate the names."
   ]
  },
  {
   "cell_type": "code",
   "execution_count": null,
   "id": "c0ef01c7",
   "metadata": {},
   "outputs": [],
   "source": []
  }
 ],
 "metadata": {
  "kernelspec": {
   "display_name": "Python 3 (ipykernel)",
   "language": "python",
   "name": "python3"
  },
  "language_info": {
   "codemirror_mode": {
    "name": "ipython",
    "version": 3
   },
   "file_extension": ".py",
   "mimetype": "text/x-python",
   "name": "python",
   "nbconvert_exporter": "python",
   "pygments_lexer": "ipython3",
   "version": "3.11.5"
  }
 },
 "nbformat": 4,
 "nbformat_minor": 5
}
