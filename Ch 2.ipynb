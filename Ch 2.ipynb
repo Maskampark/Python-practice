{
 "cells": [
  {
   "cell_type": "markdown",
   "id": "6636f9ce",
   "metadata": {},
   "source": [
    "# Ch. 2 Coding set"
   ]
  },
  {
   "cell_type": "markdown",
   "id": "2fdbeda0",
   "metadata": {},
   "source": [
    "## Algorithm Workbench: Problem 12"
   ]
  },
  {
   "cell_type": "markdown",
   "id": "322bd010",
   "metadata": {},
   "source": [
    "### Question:\n",
    "What will the following statement display?\n",
    "\n",
    "print('George', 'John', 'Paul', 'Ringo', sep='@')\n"
   ]
  },
  {
   "cell_type": "code",
   "execution_count": null,
   "id": "a54fa7a9",
   "metadata": {},
   "outputs": [],
   "source": [
    "print('George', 'John', 'Paul', 'Ringo', sep='@')"
   ]
  }
 ],
 "metadata": {
  "kernelspec": {
   "display_name": "Python 3 (ipykernel)",
   "language": "python",
   "name": "python3"
  },
  "language_info": {
   "codemirror_mode": {
    "name": "ipython",
    "version": 3
   },
   "file_extension": ".py",
   "mimetype": "text/x-python",
   "name": "python",
   "nbconvert_exporter": "python",
   "pygments_lexer": "ipython3",
   "version": "3.11.5"
  }
 },
 "nbformat": 4,
 "nbformat_minor": 5
}
