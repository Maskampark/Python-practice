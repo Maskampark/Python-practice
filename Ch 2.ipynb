{
 "cells": [
  {
   "cell_type": "markdown",
   "id": "c2b90636",
   "metadata": {},
   "source": [
    "# Ch. 2 Coding set"
   ]
  },
  {
   "cell_type": "markdown",
   "id": "c22c3f4f",
   "metadata": {},
   "source": [
    "## Algorithm Workbench: Problem 12"
   ]
  },
  {
   "cell_type": "markdown",
   "id": "d2a4e551",
   "metadata": {},
   "source": [
    "### Question:\n",
    "What will the following statement display?\n",
    "\n",
    "print('George', 'John', 'Paul', 'Ringo', sep='@')\n"
   ]
  },
  {
   "cell_type": "code",
   "execution_count": 4,
   "id": "91fe1803",
   "metadata": {},
   "outputs": [
    {
     "name": "stdout",
     "output_type": "stream",
     "text": [
      "George@John@Paul@Ringo\n"
     ]
    }
   ],
   "source": [
    "print('George', 'John', 'Paul', 'Ringo', sep='@')"
   ]
  },
  {
   "cell_type": "markdown",
   "id": "fdae649c",
   "metadata": {},
   "source": [
    "I think the output will display George@John@Paul@Ringo. I think this because I assume sep means seperate which will seperate the names.\n",
    "\n",
    "When I pasted the code in no errors displayed and what I thought would happen was right. "
   ]
  },
  {
   "cell_type": "markdown",
   "id": "17760f93",
   "metadata": {},
   "source": [
    "## Programming Exercises: Problem 9\n",
    "\n",
    "### Question: Celsius to Fahrenheit Temperature Converter\n",
    "\n",
    "Write a program that converts Celsius temperatures to Fahrenheit temperatures. The formula is as follows:\n",
    "\n",
    "The program should ask the user to enter a temperature in Celsius, then display the temperature converted to Fahrenheit.\n"
   ]
  },
  {
   "cell_type": "code",
   "execution_count": 6,
   "id": "aa754806",
   "metadata": {},
   "outputs": [
    {
     "name": "stdout",
     "output_type": "stream",
     "text": [
      "87.00 Celsius is equivalent to: 188.60 Fahrenheit\n"
     ]
    }
   ],
   "source": [
    "# Temperature in celsius degree\n",
    "celsius = 87\n",
    " \n",
    "# Converting the temperature to\n",
    "# fehrenheit using the formula\n",
    "fahrenheit = (celsius * 1.8) + 32\n",
    " \n",
    "# printing the result\n",
    "print('%.2f Celsius is equivalent to: %.2f Fahrenheit'\n",
    "      % (celsius, fahrenheit))"
   ]
  },
  {
   "cell_type": "markdown",
   "id": "cfe5d7ce",
   "metadata": {},
   "source": [
    "## Programming Exercises: Problem 13\n",
    "### Question: Planting Grapevines\n",
    "A vineyard owner is planting several new rows of grapevines, and needs to know how many\n",
    "grapevines to plant in each row. She has determined that after measuring the length of a\n",
    "future row, she can use the following formula to calculate the number of vines that will fit\n",
    "in the row, along with the trellis end-post assemblies that will need to be constructed at\n",
    "each end of the row:\n",
    "\n",
    "The terms in the formula are:\n",
    "V is the number of grapevines that will fit in the row.\n",
    "R is the length of the row, in feet.\n",
    "E is the amount of space, in feet, used by an end-post assembly.\n",
    "S is the space between vines, in feet.\n",
    "Write a program that makes the calculation for the vineyard owner. The program should\n",
    "ask the user to input the following:\n",
    "• The length of the row, in feet\n",
    "• The amount of space used by an end-post assembly, in feet\n",
    "• The amount of space between the vines, in feet\n",
    "Once the input data has been entered, the program should calculate and display the number of grapevines that will fit in the row.\n",
    "\n",
    "The question is asking us to write a formula to calculate the number of vines that will fit in one row along with trellis end-post.\n"
   ]
  },
  {
   "cell_type": "code",
   "execution_count": null,
   "id": "bd587257",
   "metadata": {},
   "outputs": [],
   "source": [
    "#Row Length\n",
    "R = float(input('Enter the length of the row, in feet: '))"
   ]
  },
  {
   "cell_type": "code",
   "execution_count": null,
   "id": "3215b046",
   "metadata": {},
   "outputs": [],
   "source": [
    "#End post\n",
    "E = float(input('\\nEnter the length of the space needed by the ' \n",
    "                              'end-post assembly in units of feet: '))"
   ]
  },
  {
   "cell_type": "code",
   "execution_count": null,
   "id": "b4073e00",
   "metadata": {},
   "outputs": [],
   "source": [
    "#Spacing between vines\n",
    "S = float(input('\\nEnter the width of the spaces between each row in units of feet: '))\n"
   ]
  }
 ],
 "metadata": {
  "kernelspec": {
   "display_name": "Python 3 (ipykernel)",
   "language": "python",
   "name": "python3"
  },
  "language_info": {
   "codemirror_mode": {
    "name": "ipython",
    "version": 3
   },
   "file_extension": ".py",
   "mimetype": "text/x-python",
   "name": "python",
   "nbconvert_exporter": "python",
   "pygments_lexer": "ipython3",
   "version": "3.11.5"
  }
 },
 "nbformat": 4,
 "nbformat_minor": 5
}
