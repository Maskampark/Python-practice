{
 "cells": [
  {
   "cell_type": "markdown",
   "id": "b8bef9fc",
   "metadata": {},
   "source": [
    "# Ch. 4 Coding Set\n",
    "\n",
    "## Masone Yang\n",
    "\n",
    "## Algorthim Workbench"
   ]
  },
  {
   "cell_type": "markdown",
   "id": "da232512",
   "metadata": {},
   "source": [
    "### Question 1\n",
    "\n",
    "Write a while loop that lets the user enter a number. The number should be multiplied\n",
    "by 10, and the result assigned to a variable named product. The loop should iterate as\n",
    "long as product is less than 100.\n",
    "\n"
   ]
  },
  {
   "cell_type": "code",
   "execution_count": 1,
   "id": "bad37894",
   "metadata": {},
   "outputs": [
    {
     "name": "stdout",
     "output_type": "stream",
     "text": [
      "Enter a number: 7\n",
      "Enter a number: 7\n",
      "Enter a number: 7\n",
      "Enter a number: 70\n",
      "The product is: 700.0\n"
     ]
    }
   ],
   "source": [
    "#First, this code will repeatedly prompt the user to enter a number. \n",
    "#Next, each time the user enters a number, it will be multiplied by 10. \n",
    "#After, the result will be stored in the variable product. \n",
    "#Next, the loop will continue iterating as long as the value of product is \n",
    "#less than 100. \n",
    "#Finally, once the product becomes greater than or equal to 100, the loop will exit, and the final value of product will be \n",
    "#printed.\n",
    "product = 0  # Initialize product variable\n",
    "\n",
    "while product < 100:\n",
    "    number = float(input(\"Enter a number: \"))  # enter a number here\n",
    "    product = number * 10  # Multiply number by 10 and assign it to the product variable\n",
    "\n",
    "print(\"The product is:\", product)"
   ]
  },
  {
   "cell_type": "markdown",
   "id": "3a48f6cb",
   "metadata": {},
   "source": [
    "## Question 2\n",
    "\n",
    "Write a while loop that asks the user to enter two numbers. The numbers should be\n",
    "added and the sum displayed. The loop should ask the user if he or she wishes to perform the operation again. If so, the loop should repeat, otherwise it should terminate."
   ]
  },
  {
   "cell_type": "code",
   "execution_count": 2,
   "id": "dd4fe359",
   "metadata": {},
   "outputs": [
    {
     "name": "stdout",
     "output_type": "stream",
     "text": [
      "Enter the first number: 7\n",
      "Enter the second number: 8\n",
      "The sum is: 15.0\n",
      "Do you want to perform the operation again? (yes/no): yes\n",
      "Enter the first number: 7\n",
      "Enter the second number: 9\n",
      "The sum is: 16.0\n",
      "Do you want to perform the operation again? (yes/no): no\n"
     ]
    }
   ],
   "source": [
    "#First, the while True: statement creates an infinite loop that will continue until explicitly broken.\n",
    "#Then the user is prompted to enter two numbers using the input() function.\n",
    "#Next, the float() function is used to convert the input to floating-point numbers.\n",
    "#Furthermore the sum of the two numbers is calculated and stored in the variable sum.\n",
    "#After, the sum is then printed to the console.\n",
    "#The user is asked if they want to perform the operation again. \n",
    "#Their response is stored in the variable repeat.\n",
    "#If the user's response is not \"yes\" (case insensitive), the break statement is used to exit the loop, terminating the program.\n",
    "#Finally, if the user does want to repeat the operation, the loop continues from the beginning, prompting for two new numbers.\n",
    "\n",
    "while True:\n",
    "    # Enter two numbers here\n",
    "    num1 = float(input(\"Enter the first number: \"))\n",
    "    num2 = float(input(\"Enter the second number: \"))\n",
    "\n",
    "    # Add the numbers and display the sum\n",
    "    sum = num1 + num2\n",
    "    print(\"The sum is:\", sum)\n",
    "\n",
    "    # Ask  if you want to perform the operation again\n",
    "    repeat = input(\"Do you want to perform the operation again? (yes/no): \")\n",
    "\n",
    "    # This checks if it needs to be repeated\n",
    "    if repeat.lower() != \"yes\":\n",
    "        break  # Exit the loop if the user doesn't want to repeat"
   ]
  },
  {
   "cell_type": "markdown",
   "id": "1daf0844",
   "metadata": {},
   "source": [
    "## Programming Exercises\n"
   ]
  },
  {
   "cell_type": "markdown",
   "id": "416b209c",
   "metadata": {},
   "source": [
    "### 1. Bug Collector\n",
    "\n",
    "A bug collector collects bugs every day for five days. Write a program that keeps a running\n",
    "total of the number of bugs collected during the five days. The loop should ask for the\n",
    "number of bugs collected for each day, and when the loop is finished, the program should\n",
    "display the total number of bugs collected.\n"
   ]
  },
  {
   "cell_type": "code",
   "execution_count": 3,
   "id": "7c0bb9a1",
   "metadata": {},
   "outputs": [
    {
     "name": "stdout",
     "output_type": "stream",
     "text": [
      "Enter the number of bugs collected on day 1: 2\n",
      "Enter the number of bugs collected on day 2: 4\n",
      "Enter the number of bugs collected on day 3: 7\n",
      "Enter the number of bugs collected on day 4: 9\n",
      "Enter the number of bugs collected on day 5: 12\n",
      "Total number of bugs collected in five days: 34\n"
     ]
    }
   ],
   "source": [
    "#First, 'total_bugs' is initialized to 0 to keep track of the total number of bugs collected.\n",
    "#Then, 'for' loop is used to iterate over each of the five days. The loop variable day takes on values from 1 to 5.\n",
    "#After, within the loop The user is prompted to enter \n",
    "#The number of bugs collected on the current day using the input() function. \n",
    "#The the int() function is used to convert the input to an integer.\n",
    "#The number of bugs collected on the current day is added to the total_bugs variable using the += operator, \n",
    "#which is a shorthand for total_bugs = total_bugs + bugs_collected.\n",
    "#After the loop finishes, the total number of bugs collected over the five days is displayed using a print() statement.\n",
    "\n",
    "\n",
    "total_bugs = 0  # Initialize total number of bugs collected\n",
    "# Here you loop through each of the five days\n",
    "for day in range(1, 6):\n",
    "    bugs_collected = int(input(f\"Enter the number of bugs collected on day {day}: \"))\n",
    "    total_bugs += bugs_collected  # Add the bugs collected on the current day to the total\n",
    "\n",
    "# Then you display the total number of bugs collected \n",
    "print(\"Total number of bugs collected in five days:\", total_bugs)"
   ]
  },
  {
   "cell_type": "markdown",
   "id": "e8e7e578",
   "metadata": {},
   "source": [
    "## 4. Distance Traveled\n",
    "\n",
    "The distance a vehicle travels can be calculated as follows:\n",
    "distance 5 speed 3 time\n",
    "For example, if a train travels 40 miles per hour for three hours, the distance traveled is\n",
    "120 miles. Write a program that asks the user for the speed of a vehicle (in miles per hour)\n",
    "and the number of hours it has traveled. It should then use a loop to display the distance\n",
    "the vehicle has traveled for each hour of that time period. Here is an example of the desired\n",
    "output:\n",
    "What is the speed of the vehicle in mph? 40 Enter\n",
    "How many hours has it traveled? 3 Enter\n",
    "Hour Distance Traveled\n",
    "1 40\n",
    "2 80\n",
    "3 120"
   ]
  },
  {
   "cell_type": "code",
   "execution_count": 4,
   "id": "1e233d09",
   "metadata": {},
   "outputs": [
    {
     "name": "stdout",
     "output_type": "stream",
     "text": [
      "What is the speed of the vehicle in mph? 70\n",
      "How many hours has it traveled? 3\n",
      "Hour   Distance Traveled\n",
      "-----------------------\n",
      "1      70.00           \n",
      "2      140.00          \n",
      "3      210.00          \n"
     ]
    }
   ],
   "source": [
    "#The program first prompts the user to enter the speed of the vehicle in miles per hour (speed) \n",
    "#and the number of hours it has traveled (hours).\n",
    "#Then, it prints the table headers for the output.\n",
    "#A for loop is used to iterate through each hour from 1 to the total number of hours entered by the user.\n",
    "#Next, the distance traveled for the current hour is calculated by multiplying the speed of the vehicle by the current hour.\n",
    "#After, a formatted output is printed using f-strings, ensuring that the hour and distance values are aligned properly in the table.\n",
    "#Finally, a loop repeats for each hour, displaying the hour number and the corresponding distance traveled.\n",
    "\n",
    "speed = float(input(\"What is the speed of the vehicle in mph? \"))\n",
    "hours = int(input(\"How many hours has it traveled? \"))\n",
    "\n",
    "print(\"Hour   Distance Traveled\")\n",
    "print(\"-\" * 23)\n",
    "\n",
    "# Loop through each hour and calculate the distance traveled\n",
    "for hour in range(1, hours + 1):\n",
    "    distance = speed * hour\n",
    "    print(f\"{hour:<7}{distance:<16.2f}\")"
   ]
  },
  {
   "cell_type": "markdown",
   "id": "82b78e25",
   "metadata": {},
   "source": [
    "## 11. Weight Loss\n",
    "If a moderately active person cuts their calorie intake by 500 calories a day, they can typically lose about 4 pounds a month. Write a program that lets the user enter their starting\n",
    "weight, then creates and displays a table showing what their expected weight will be at the\n",
    "end of each month for the next 6 months if they stay on this diet."
   ]
  },
  {
   "cell_type": "code",
   "execution_count": 5,
   "id": "9467e78d",
   "metadata": {},
   "outputs": [
    {
     "name": "stdout",
     "output_type": "stream",
     "text": [
      "Enter your starting weight: 205\n",
      "Month   Expected Weight\n",
      "1       200.00          \n",
      "2       195.00          \n",
      "3       190.00          \n",
      "4       185.00          \n",
      "5       180.00          \n",
      "6       175.00          \n"
     ]
    }
   ],
   "source": [
    "#The program first prompts the user to enter their starting weight using the input() function, \n",
    "#and it's stored in the variable starting_weight.\n",
    "#Then, it prints the table headers for the output.\n",
    "#After, a for loop is used to iterate through each month from 1 to 6.\n",
    "#Next, the expected weight for the current month is calculated by subtracting 5 pounds (assuming a weight loss of 5 pounds per month)\n",
    "#multiplied by the current month number from the starting weight.\n",
    "#The formatted output is printed using f-strings, ensuring that the month number and the expected weight \n",
    "#are aligned properly in the table.\n",
    "#Finally, the loop repeats for each month, displaying the month number and the corresponding expected weight.\n",
    "\n",
    "starting_weight = float(input(\"Enter your starting weight: \"))\n",
    "\n",
    "print(\"Month   Expected Weight\")\n",
    "\n",
    "# You loop through each month for the next 6 months\n",
    "for month in range(1, 7):\n",
    "    expected_weight = starting_weight - (5 * month)  # Assuming a weight loss of 5 pounds per month\n",
    "    print(f\"{month:<8}{expected_weight:<16.2f}\")"
   ]
  },
  {
   "cell_type": "markdown",
   "id": "2ec2ddfa",
   "metadata": {},
   "source": [
    "## 14. Write a program that uses nested loops to draw this pattern:\n",
    ".*******\n",
    ".******\n",
    ".*****\n",
    ".****\n",
    ".***\n",
    ".**"
   ]
  },
  {
   "cell_type": "code",
   "execution_count": 6,
   "id": "259da868",
   "metadata": {},
   "outputs": [
    {
     "name": "stdout",
     "output_type": "stream",
     "text": [
      "*******\n",
      "******\n",
      "*****\n",
      "****\n",
      "***\n",
      "**\n",
      "*\n"
     ]
    }
   ],
   "source": [
    "#First, the outer loop (for i in range(7, 0, -1):) iterates over the rows of the pattern. \n",
    "#Then it starts from 7 and decrements by 1 in each iteration until it reaches 1.\n",
    "#The inner loop (for j in range(i):) iterates over the number of '' characters to print in each row. \n",
    "#After each iteration of the outer loop, the inner loop prints the number of '' characters equal to the value of i.\n",
    "#Finally, it prints each row in the inner loop, print() with no arguments is used to move to the next line, \n",
    "#creating a new row in the pattern.\n",
    "\n",
    "# Outer loop to iterate over rows\n",
    "for i in range(7, 0, -1):  # Start from 7 and decrement by 1 in each iteration\n",
    "    # Inner loop to print '*' characters for each row\n",
    "    for j in range(i):\n",
    "        print(\"*\", end=\"\")\n",
    "    print()  # Move next line after printing each row"
   ]
  },
  {
   "cell_type": "code",
   "execution_count": null,
   "id": "3c5f67b6",
   "metadata": {},
   "outputs": [],
   "source": [
    "#Finished\n"
   ]
  }
 ],
 "metadata": {
  "kernelspec": {
   "display_name": "Python 3 (ipykernel)",
   "language": "python",
   "name": "python3"
  },
  "language_info": {
   "codemirror_mode": {
    "name": "ipython",
    "version": 3
   },
   "file_extension": ".py",
   "mimetype": "text/x-python",
   "name": "python",
   "nbconvert_exporter": "python",
   "pygments_lexer": "ipython3",
   "version": "3.11.5"
  }
 },
 "nbformat": 4,
 "nbformat_minor": 5
}
