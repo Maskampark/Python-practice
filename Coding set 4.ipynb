{
 "cells": [
  {
   "cell_type": "markdown",
   "id": "6cfd975a",
   "metadata": {},
   "source": [
    "# Ch. 4 Coding Set\n",
    "\n",
    "## Masone Yang\n",
    "\n",
    "## Algorthim Workbench"
   ]
  },
  {
   "cell_type": "markdown",
   "id": "365aacda",
   "metadata": {},
   "source": [
    "### Question 1\n",
    "\n",
    "Write a while loop that lets the user enter a number. The number should be multiplied\n",
    "by 10, and the result assigned to a variable named product. The loop should iterate as\n",
    "long as product is less than 100.\n",
    "\n"
   ]
  },
  {
   "cell_type": "code",
   "execution_count": 1,
   "id": "0df81ebb",
   "metadata": {},
   "outputs": [
    {
     "name": "stdout",
     "output_type": "stream",
     "text": [
      "Enter a number: 7\n",
      "Enter a number: 7\n",
      "Enter a number: 7\n",
      "Enter a number: 70\n",
      "The product is: 700.0\n"
     ]
    }
   ],
   "source": [
    "#First, this code will repeatedly prompt the user to enter a number. \n",
    "#Next, each time the user enters a number, it will be multiplied by 10. \n",
    "#After, the result will be stored in the variable product. \n",
    "#Next, the loop will continue iterating as long as the value of product is \n",
    "#less than 100. \n",
    "#Finally, once the product becomes greater than or equal to 100, the loop will exit, and the final value of product will be \n",
    "#printed.\n",
    "product = 0  # Initialize product variable\n",
    "\n",
    "while product < 100:\n",
    "    number = float(input(\"Enter a number: \"))  # enter a number here\n",
    "    product = number * 10  # Multiply number by 10 and assign it to the product variable\n",
    "\n",
    "print(\"The product is:\", product)"
   ]
  },
  {
   "cell_type": "markdown",
   "id": "f11c603c",
   "metadata": {},
   "source": [
    "## Question 2\n",
    "\n",
    "Write a while loop that asks the user to enter two numbers. The numbers should be\n",
    "added and the sum displayed. The loop should ask the user if he or she wishes to perform the operation again. If so, the loop should repeat, otherwise it should terminate."
   ]
  },
  {
   "cell_type": "code",
   "execution_count": 2,
   "id": "1b77cd58",
   "metadata": {},
   "outputs": [
    {
     "name": "stdout",
     "output_type": "stream",
     "text": [
      "Enter the first number: 7\n",
      "Enter the second number: 8\n",
      "The sum is: 15.0\n",
      "Do you want to perform the operation again? (yes/no): yes\n",
      "Enter the first number: 7\n",
      "Enter the second number: 9\n",
      "The sum is: 16.0\n",
      "Do you want to perform the operation again? (yes/no): no\n"
     ]
    }
   ],
   "source": [
    "#First, the while True: statement creates an infinite loop that will continue until explicitly broken.\n",
    "#Then, inside the loop:\n",
    "#The user is prompted to enter two numbers using the input() function.\n",
    "#Next, the float() function is used to convert the input to floating-point numbers.\n",
    "#Furthermore the sum of the two numbers is calculated and stored in the variable sum.\n",
    "#After, the sum is then printed to the console.\n",
    "#The user is asked if they want to perform the operation again. \n",
    "#Their response is stored in the variable repeat.\n",
    "#If the user's response is not \"yes\" (case insensitive), the break statement is used to exit the loop, terminating the program.\n",
    "#Finally, if the user does want to repeat the operation, the loop continues from the beginning, prompting for two new numbers.\n",
    "\n",
    "while True:\n",
    "    # Enter two numbers here\n",
    "    num1 = float(input(\"Enter the first number: \"))\n",
    "    num2 = float(input(\"Enter the second number: \"))\n",
    "\n",
    "    # Add the numbers and display the sum\n",
    "    sum = num1 + num2\n",
    "    print(\"The sum is:\", sum)\n",
    "\n",
    "    # Ask  if you want to perform the operation again\n",
    "    repeat = input(\"Do you want to perform the operation again? (yes/no): \")\n",
    "\n",
    "    # This checks if it needs to be repeated\n",
    "    if repeat.lower() != \"yes\":\n",
    "        break  # Exit the loop if the user doesn't want to repeat"
   ]
  },
  {
   "cell_type": "code",
   "execution_count": null,
   "id": "f58a4883",
   "metadata": {},
   "outputs": [],
   "source": []
  }
 ],
 "metadata": {
  "kernelspec": {
   "display_name": "Python 3 (ipykernel)",
   "language": "python",
   "name": "python3"
  },
  "language_info": {
   "codemirror_mode": {
    "name": "ipython",
    "version": 3
   },
   "file_extension": ".py",
   "mimetype": "text/x-python",
   "name": "python",
   "nbconvert_exporter": "python",
   "pygments_lexer": "ipython3",
   "version": "3.11.5"
  }
 },
 "nbformat": 4,
 "nbformat_minor": 5
}
