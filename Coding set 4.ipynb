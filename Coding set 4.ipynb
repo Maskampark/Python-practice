{
 "cells": [
  {
   "cell_type": "markdown",
   "id": "574c6733",
   "metadata": {},
   "source": [
    "# Ch. 4 Coding Set\n",
    "\n",
    "## Masone Yang\n",
    "\n",
    "## Algorthim Workbench"
   ]
  },
  {
   "cell_type": "markdown",
   "id": "7d3b7f01",
   "metadata": {},
   "source": [
    "### Question 1\n",
    "\n",
    "Write a while loop that lets the user enter a number. The number should be multiplied\n",
    "by 10, and the result assigned to a variable named product. The loop should iterate as\n",
    "long as product is less than 100.\n",
    "\n"
   ]
  },
  {
   "cell_type": "code",
   "execution_count": 1,
   "id": "4795250c",
   "metadata": {},
   "outputs": [
    {
     "name": "stdout",
     "output_type": "stream",
     "text": [
      "Enter a number: 7\n",
      "Enter a number: 7\n",
      "Enter a number: 7\n",
      "Enter a number: 70\n",
      "The product is: 700.0\n"
     ]
    }
   ],
   "source": [
    "#First, this code will repeatedly prompt the user to enter a number. \n",
    "#Next, each time the user enters a number, it will be multiplied by 10. \n",
    "#After, the result will be stored in the variable product. \n",
    "#Next, the loop will continue iterating as long as the value of product is \n",
    "#less than 100. \n",
    "#Finally, once the product becomes greater than or equal to 100, the loop will exit, and the final value of product will be \n",
    "#printed.\n",
    "product = 0  # Initialize product variable\n",
    "\n",
    "while product < 100:\n",
    "    number = float(input(\"Enter a number: \"))  # enter a number here\n",
    "    product = number * 10  # Multiply number by 10 and assign it to the product variable\n",
    "\n",
    "print(\"The product is:\", product)"
   ]
  },
  {
   "cell_type": "markdown",
   "id": "73746599",
   "metadata": {},
   "source": [
    "## Question 2\n",
    "\n",
    "Write a while loop that asks the user to enter two numbers. The numbers should be\n",
    "added and the sum displayed. The loop should ask the user if he or she wishes to perform the operation again. If so, the loop should repeat, otherwise it should terminate."
   ]
  },
  {
   "cell_type": "code",
   "execution_count": 2,
   "id": "c2d7c38a",
   "metadata": {},
   "outputs": [
    {
     "name": "stdout",
     "output_type": "stream",
     "text": [
      "Enter the first number: 7\n",
      "Enter the second number: 8\n",
      "The sum is: 15.0\n",
      "Do you want to perform the operation again? (yes/no): yes\n",
      "Enter the first number: 7\n",
      "Enter the second number: 9\n",
      "The sum is: 16.0\n",
      "Do you want to perform the operation again? (yes/no): no\n"
     ]
    }
   ],
   "source": [
    "#First, the while True: statement creates an infinite loop that will continue until explicitly broken.\n",
    "#Then the user is prompted to enter two numbers using the input() function.\n",
    "#Next, the float() function is used to convert the input to floating-point numbers.\n",
    "#Furthermore the sum of the two numbers is calculated and stored in the variable sum.\n",
    "#After, the sum is then printed to the console.\n",
    "#The user is asked if they want to perform the operation again. \n",
    "#Their response is stored in the variable repeat.\n",
    "#If the user's response is not \"yes\" (case insensitive), the break statement is used to exit the loop, terminating the program.\n",
    "#Finally, if the user does want to repeat the operation, the loop continues from the beginning, prompting for two new numbers.\n",
    "\n",
    "while True:\n",
    "    # Enter two numbers here\n",
    "    num1 = float(input(\"Enter the first number: \"))\n",
    "    num2 = float(input(\"Enter the second number: \"))\n",
    "\n",
    "    # Add the numbers and display the sum\n",
    "    sum = num1 + num2\n",
    "    print(\"The sum is:\", sum)\n",
    "\n",
    "    # Ask  if you want to perform the operation again\n",
    "    repeat = input(\"Do you want to perform the operation again? (yes/no): \")\n",
    "\n",
    "    # This checks if it needs to be repeated\n",
    "    if repeat.lower() != \"yes\":\n",
    "        break  # Exit the loop if the user doesn't want to repeat"
   ]
  },
  {
   "cell_type": "markdown",
   "id": "a8ebfd50",
   "metadata": {},
   "source": [
    "## Programming Exercises\n"
   ]
  },
  {
   "cell_type": "markdown",
   "id": "e5b0c595",
   "metadata": {},
   "source": [
    "### 1. Bug Collector\n",
    "\n",
    "A bug collector collects bugs every day for five days. Write a program that keeps a running\n",
    "total of the number of bugs collected during the five days. The loop should ask for the\n",
    "number of bugs collected for each day, and when the loop is finished, the program should\n",
    "display the total number of bugs collected.\n"
   ]
  },
  {
   "cell_type": "code",
   "execution_count": 3,
   "id": "81627f3b",
   "metadata": {},
   "outputs": [
    {
     "name": "stdout",
     "output_type": "stream",
     "text": [
      "Enter the number of bugs collected on day 1: 2\n",
      "Enter the number of bugs collected on day 2: 4\n",
      "Enter the number of bugs collected on day 3: 7\n",
      "Enter the number of bugs collected on day 4: 9\n",
      "Enter the number of bugs collected on day 5: 12\n",
      "Total number of bugs collected in five days: 34\n"
     ]
    }
   ],
   "source": [
    "#First, 'total_bugs' is initialized to 0 to keep track of the total number of bugs collected.\n",
    "#Then, 'for' loop is used to iterate over each of the five days. The loop variable day takes on values from 1 to 5.\n",
    "#After, within the loop The user is prompted to enter \n",
    "#The number of bugs collected on the current day using the input() function. \n",
    "#The the int() function is used to convert the input to an integer.\n",
    "#The number of bugs collected on the current day is added to the total_bugs variable using the += operator, \n",
    "#which is a shorthand for total_bugs = total_bugs + bugs_collected.\n",
    "#After the loop finishes, the total number of bugs collected over the five days is displayed using a print() statement.\n",
    "\n",
    "\n",
    "total_bugs = 0  # Initialize total number of bugs collected\n",
    "# Here you loop through each of the five days\n",
    "for day in range(1, 6):\n",
    "    bugs_collected = int(input(f\"Enter the number of bugs collected on day {day}: \"))\n",
    "    total_bugs += bugs_collected  # Add the bugs collected on the current day to the total\n",
    "\n",
    "# Then you display the total number of bugs collected \n",
    "print(\"Total number of bugs collected in five days:\", total_bugs)"
   ]
  },
  {
   "cell_type": "markdown",
   "id": "710d3963",
   "metadata": {},
   "source": [
    "## 4. Distance Traveled\n",
    "\n",
    "The distance a vehicle travels can be calculated as follows:\n",
    "distance 5 speed 3 time\n",
    "For example, if a train travels 40 miles per hour for three hours, the distance traveled is\n",
    "120 miles. Write a program that asks the user for the speed of a vehicle (in miles per hour)\n",
    "and the number of hours it has traveled. It should then use a loop to display the distance\n",
    "the vehicle has traveled for each hour of that time period. Here is an example of the desired\n",
    "output:\n",
    "What is the speed of the vehicle in mph? 40 Enter\n",
    "How many hours has it traveled? 3 Enter\n",
    "Hour Distance Traveled\n",
    "1 40\n",
    "2 80\n",
    "3 120"
   ]
  },
  {
   "cell_type": "code",
   "execution_count": null,
   "id": "93dd4200",
   "metadata": {},
   "outputs": [],
   "source": [
    "\n",
    "\n",
    "speed = float(input(\"What is the speed of the vehicle in mph? \"))\n",
    "hours = int(input(\"How many hours has it traveled? \"))\n",
    "\n",
    "print(\"Hour   Distance Traveled\")\n",
    "print(\"-\" * 23)\n",
    "\n",
    "# Loop through each hour and calculate the distance traveled\n",
    "for hour in range(1, hours + 1):\n",
    "    distance = speed * hour\n",
    "    print(f\"{hour:<7}{distance:<16.2f}\")"
   ]
  }
 ],
 "metadata": {
  "kernelspec": {
   "display_name": "Python 3 (ipykernel)",
   "language": "python",
   "name": "python3"
  },
  "language_info": {
   "codemirror_mode": {
    "name": "ipython",
    "version": 3
   },
   "file_extension": ".py",
   "mimetype": "text/x-python",
   "name": "python",
   "nbconvert_exporter": "python",
   "pygments_lexer": "ipython3",
   "version": "3.11.5"
  }
 },
 "nbformat": 4,
 "nbformat_minor": 5
}
